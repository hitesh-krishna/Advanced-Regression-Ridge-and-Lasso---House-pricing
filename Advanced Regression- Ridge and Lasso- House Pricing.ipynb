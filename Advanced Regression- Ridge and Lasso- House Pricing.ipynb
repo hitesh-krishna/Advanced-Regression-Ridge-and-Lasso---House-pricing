{
 "cells": [
  {
   "cell_type": "markdown",
   "metadata": {},
   "source": [
    "# Assignment - Advanced Regression"
   ]
  },
  {
   "cell_type": "markdown",
   "metadata": {},
   "source": [
    "#### Business Goal\n",
    "\n",
    "\n",
    "You are required to model the price of houses with the available independent variables. This model will then be used by the management to understand how exactly the prices vary with the variables. They can accordingly manipulate the strategy of the firm and concentrate on areas that will yield high returns. Further, the model will be a good way for management to understand the pricing dynamics of a new market."
   ]
  },
  {
   "cell_type": "markdown",
   "metadata": {},
   "source": [
    "#### Import all necessary Libraries"
   ]
  },
  {
   "cell_type": "code",
   "execution_count": 4345,
   "metadata": {},
   "outputs": [],
   "source": [
    "import numpy as np\n",
    "import pandas as pd\n",
    "import matplotlib.pyplot as plt\n",
    "import seaborn as sns\n",
    "from sklearn import linear_model, metrics\n",
    "from sklearn.linear_model import LinearRegression\n",
    "from sklearn.linear_model import Ridge\n",
    "from sklearn.linear_model import Lasso\n",
    "from sklearn.linear_model import ElasticNet\n",
    "from sklearn.model_selection import GridSearchCV\n",
    "\n",
    "import os\n",
    "\n",
    "# hide warnings\n",
    "import warnings\n",
    "warnings.filterwarnings('ignore')\n",
    "pd.set_option('display.max_columns', 500)\n",
    "pd.set_option('display.max_rows', 500)"
   ]
  },
  {
   "cell_type": "markdown",
   "metadata": {},
   "source": [
    "#### Fetch Dataset"
   ]
  },
  {
   "cell_type": "code",
   "execution_count": 4346,
   "metadata": {},
   "outputs": [
    {
     "data": {
      "text/html": [
       "<div>\n",
       "<style scoped>\n",
       "    .dataframe tbody tr th:only-of-type {\n",
       "        vertical-align: middle;\n",
       "    }\n",
       "\n",
       "    .dataframe tbody tr th {\n",
       "        vertical-align: top;\n",
       "    }\n",
       "\n",
       "    .dataframe thead th {\n",
       "        text-align: right;\n",
       "    }\n",
       "</style>\n",
       "<table border=\"1\" class=\"dataframe\">\n",
       "  <thead>\n",
       "    <tr style=\"text-align: right;\">\n",
       "      <th></th>\n",
       "      <th>Id</th>\n",
       "      <th>MSSubClass</th>\n",
       "      <th>MSZoning</th>\n",
       "      <th>LotFrontage</th>\n",
       "      <th>LotArea</th>\n",
       "      <th>Street</th>\n",
       "      <th>Alley</th>\n",
       "      <th>LotShape</th>\n",
       "      <th>LandContour</th>\n",
       "      <th>Utilities</th>\n",
       "      <th>LotConfig</th>\n",
       "      <th>LandSlope</th>\n",
       "      <th>Neighborhood</th>\n",
       "      <th>Condition1</th>\n",
       "      <th>Condition2</th>\n",
       "      <th>BldgType</th>\n",
       "      <th>HouseStyle</th>\n",
       "      <th>OverallQual</th>\n",
       "      <th>OverallCond</th>\n",
       "      <th>YearBuilt</th>\n",
       "      <th>YearRemodAdd</th>\n",
       "      <th>RoofStyle</th>\n",
       "      <th>RoofMatl</th>\n",
       "      <th>Exterior1st</th>\n",
       "      <th>Exterior2nd</th>\n",
       "      <th>MasVnrType</th>\n",
       "      <th>MasVnrArea</th>\n",
       "      <th>ExterQual</th>\n",
       "      <th>ExterCond</th>\n",
       "      <th>Foundation</th>\n",
       "      <th>BsmtQual</th>\n",
       "      <th>BsmtCond</th>\n",
       "      <th>BsmtExposure</th>\n",
       "      <th>BsmtFinType1</th>\n",
       "      <th>BsmtFinSF1</th>\n",
       "      <th>BsmtFinType2</th>\n",
       "      <th>BsmtFinSF2</th>\n",
       "      <th>BsmtUnfSF</th>\n",
       "      <th>TotalBsmtSF</th>\n",
       "      <th>Heating</th>\n",
       "      <th>HeatingQC</th>\n",
       "      <th>CentralAir</th>\n",
       "      <th>Electrical</th>\n",
       "      <th>1stFlrSF</th>\n",
       "      <th>2ndFlrSF</th>\n",
       "      <th>LowQualFinSF</th>\n",
       "      <th>GrLivArea</th>\n",
       "      <th>BsmtFullBath</th>\n",
       "      <th>BsmtHalfBath</th>\n",
       "      <th>FullBath</th>\n",
       "      <th>HalfBath</th>\n",
       "      <th>BedroomAbvGr</th>\n",
       "      <th>KitchenAbvGr</th>\n",
       "      <th>KitchenQual</th>\n",
       "      <th>TotRmsAbvGrd</th>\n",
       "      <th>Functional</th>\n",
       "      <th>Fireplaces</th>\n",
       "      <th>FireplaceQu</th>\n",
       "      <th>GarageType</th>\n",
       "      <th>GarageYrBlt</th>\n",
       "      <th>GarageFinish</th>\n",
       "      <th>GarageCars</th>\n",
       "      <th>GarageArea</th>\n",
       "      <th>GarageQual</th>\n",
       "      <th>GarageCond</th>\n",
       "      <th>PavedDrive</th>\n",
       "      <th>WoodDeckSF</th>\n",
       "      <th>OpenPorchSF</th>\n",
       "      <th>EnclosedPorch</th>\n",
       "      <th>3SsnPorch</th>\n",
       "      <th>ScreenPorch</th>\n",
       "      <th>PoolArea</th>\n",
       "      <th>PoolQC</th>\n",
       "      <th>Fence</th>\n",
       "      <th>MiscFeature</th>\n",
       "      <th>MiscVal</th>\n",
       "      <th>MoSold</th>\n",
       "      <th>YrSold</th>\n",
       "      <th>SaleType</th>\n",
       "      <th>SaleCondition</th>\n",
       "      <th>SalePrice</th>\n",
       "    </tr>\n",
       "  </thead>\n",
       "  <tbody>\n",
       "    <tr>\n",
       "      <td>0</td>\n",
       "      <td>1</td>\n",
       "      <td>60</td>\n",
       "      <td>RL</td>\n",
       "      <td>65.0</td>\n",
       "      <td>8450</td>\n",
       "      <td>Pave</td>\n",
       "      <td>NaN</td>\n",
       "      <td>Reg</td>\n",
       "      <td>Lvl</td>\n",
       "      <td>AllPub</td>\n",
       "      <td>Inside</td>\n",
       "      <td>Gtl</td>\n",
       "      <td>CollgCr</td>\n",
       "      <td>Norm</td>\n",
       "      <td>Norm</td>\n",
       "      <td>1Fam</td>\n",
       "      <td>2Story</td>\n",
       "      <td>7</td>\n",
       "      <td>5</td>\n",
       "      <td>2003</td>\n",
       "      <td>2003</td>\n",
       "      <td>Gable</td>\n",
       "      <td>CompShg</td>\n",
       "      <td>VinylSd</td>\n",
       "      <td>VinylSd</td>\n",
       "      <td>BrkFace</td>\n",
       "      <td>196.0</td>\n",
       "      <td>Gd</td>\n",
       "      <td>TA</td>\n",
       "      <td>PConc</td>\n",
       "      <td>Gd</td>\n",
       "      <td>TA</td>\n",
       "      <td>No</td>\n",
       "      <td>GLQ</td>\n",
       "      <td>706</td>\n",
       "      <td>Unf</td>\n",
       "      <td>0</td>\n",
       "      <td>150</td>\n",
       "      <td>856</td>\n",
       "      <td>GasA</td>\n",
       "      <td>Ex</td>\n",
       "      <td>Y</td>\n",
       "      <td>SBrkr</td>\n",
       "      <td>856</td>\n",
       "      <td>854</td>\n",
       "      <td>0</td>\n",
       "      <td>1710</td>\n",
       "      <td>1</td>\n",
       "      <td>0</td>\n",
       "      <td>2</td>\n",
       "      <td>1</td>\n",
       "      <td>3</td>\n",
       "      <td>1</td>\n",
       "      <td>Gd</td>\n",
       "      <td>8</td>\n",
       "      <td>Typ</td>\n",
       "      <td>0</td>\n",
       "      <td>NaN</td>\n",
       "      <td>Attchd</td>\n",
       "      <td>2003.0</td>\n",
       "      <td>RFn</td>\n",
       "      <td>2</td>\n",
       "      <td>548</td>\n",
       "      <td>TA</td>\n",
       "      <td>TA</td>\n",
       "      <td>Y</td>\n",
       "      <td>0</td>\n",
       "      <td>61</td>\n",
       "      <td>0</td>\n",
       "      <td>0</td>\n",
       "      <td>0</td>\n",
       "      <td>0</td>\n",
       "      <td>NaN</td>\n",
       "      <td>NaN</td>\n",
       "      <td>NaN</td>\n",
       "      <td>0</td>\n",
       "      <td>2</td>\n",
       "      <td>2008</td>\n",
       "      <td>WD</td>\n",
       "      <td>Normal</td>\n",
       "      <td>208500</td>\n",
       "    </tr>\n",
       "    <tr>\n",
       "      <td>1</td>\n",
       "      <td>2</td>\n",
       "      <td>20</td>\n",
       "      <td>RL</td>\n",
       "      <td>80.0</td>\n",
       "      <td>9600</td>\n",
       "      <td>Pave</td>\n",
       "      <td>NaN</td>\n",
       "      <td>Reg</td>\n",
       "      <td>Lvl</td>\n",
       "      <td>AllPub</td>\n",
       "      <td>FR2</td>\n",
       "      <td>Gtl</td>\n",
       "      <td>Veenker</td>\n",
       "      <td>Feedr</td>\n",
       "      <td>Norm</td>\n",
       "      <td>1Fam</td>\n",
       "      <td>1Story</td>\n",
       "      <td>6</td>\n",
       "      <td>8</td>\n",
       "      <td>1976</td>\n",
       "      <td>1976</td>\n",
       "      <td>Gable</td>\n",
       "      <td>CompShg</td>\n",
       "      <td>MetalSd</td>\n",
       "      <td>MetalSd</td>\n",
       "      <td>None</td>\n",
       "      <td>0.0</td>\n",
       "      <td>TA</td>\n",
       "      <td>TA</td>\n",
       "      <td>CBlock</td>\n",
       "      <td>Gd</td>\n",
       "      <td>TA</td>\n",
       "      <td>Gd</td>\n",
       "      <td>ALQ</td>\n",
       "      <td>978</td>\n",
       "      <td>Unf</td>\n",
       "      <td>0</td>\n",
       "      <td>284</td>\n",
       "      <td>1262</td>\n",
       "      <td>GasA</td>\n",
       "      <td>Ex</td>\n",
       "      <td>Y</td>\n",
       "      <td>SBrkr</td>\n",
       "      <td>1262</td>\n",
       "      <td>0</td>\n",
       "      <td>0</td>\n",
       "      <td>1262</td>\n",
       "      <td>0</td>\n",
       "      <td>1</td>\n",
       "      <td>2</td>\n",
       "      <td>0</td>\n",
       "      <td>3</td>\n",
       "      <td>1</td>\n",
       "      <td>TA</td>\n",
       "      <td>6</td>\n",
       "      <td>Typ</td>\n",
       "      <td>1</td>\n",
       "      <td>TA</td>\n",
       "      <td>Attchd</td>\n",
       "      <td>1976.0</td>\n",
       "      <td>RFn</td>\n",
       "      <td>2</td>\n",
       "      <td>460</td>\n",
       "      <td>TA</td>\n",
       "      <td>TA</td>\n",
       "      <td>Y</td>\n",
       "      <td>298</td>\n",
       "      <td>0</td>\n",
       "      <td>0</td>\n",
       "      <td>0</td>\n",
       "      <td>0</td>\n",
       "      <td>0</td>\n",
       "      <td>NaN</td>\n",
       "      <td>NaN</td>\n",
       "      <td>NaN</td>\n",
       "      <td>0</td>\n",
       "      <td>5</td>\n",
       "      <td>2007</td>\n",
       "      <td>WD</td>\n",
       "      <td>Normal</td>\n",
       "      <td>181500</td>\n",
       "    </tr>\n",
       "    <tr>\n",
       "      <td>2</td>\n",
       "      <td>3</td>\n",
       "      <td>60</td>\n",
       "      <td>RL</td>\n",
       "      <td>68.0</td>\n",
       "      <td>11250</td>\n",
       "      <td>Pave</td>\n",
       "      <td>NaN</td>\n",
       "      <td>IR1</td>\n",
       "      <td>Lvl</td>\n",
       "      <td>AllPub</td>\n",
       "      <td>Inside</td>\n",
       "      <td>Gtl</td>\n",
       "      <td>CollgCr</td>\n",
       "      <td>Norm</td>\n",
       "      <td>Norm</td>\n",
       "      <td>1Fam</td>\n",
       "      <td>2Story</td>\n",
       "      <td>7</td>\n",
       "      <td>5</td>\n",
       "      <td>2001</td>\n",
       "      <td>2002</td>\n",
       "      <td>Gable</td>\n",
       "      <td>CompShg</td>\n",
       "      <td>VinylSd</td>\n",
       "      <td>VinylSd</td>\n",
       "      <td>BrkFace</td>\n",
       "      <td>162.0</td>\n",
       "      <td>Gd</td>\n",
       "      <td>TA</td>\n",
       "      <td>PConc</td>\n",
       "      <td>Gd</td>\n",
       "      <td>TA</td>\n",
       "      <td>Mn</td>\n",
       "      <td>GLQ</td>\n",
       "      <td>486</td>\n",
       "      <td>Unf</td>\n",
       "      <td>0</td>\n",
       "      <td>434</td>\n",
       "      <td>920</td>\n",
       "      <td>GasA</td>\n",
       "      <td>Ex</td>\n",
       "      <td>Y</td>\n",
       "      <td>SBrkr</td>\n",
       "      <td>920</td>\n",
       "      <td>866</td>\n",
       "      <td>0</td>\n",
       "      <td>1786</td>\n",
       "      <td>1</td>\n",
       "      <td>0</td>\n",
       "      <td>2</td>\n",
       "      <td>1</td>\n",
       "      <td>3</td>\n",
       "      <td>1</td>\n",
       "      <td>Gd</td>\n",
       "      <td>6</td>\n",
       "      <td>Typ</td>\n",
       "      <td>1</td>\n",
       "      <td>TA</td>\n",
       "      <td>Attchd</td>\n",
       "      <td>2001.0</td>\n",
       "      <td>RFn</td>\n",
       "      <td>2</td>\n",
       "      <td>608</td>\n",
       "      <td>TA</td>\n",
       "      <td>TA</td>\n",
       "      <td>Y</td>\n",
       "      <td>0</td>\n",
       "      <td>42</td>\n",
       "      <td>0</td>\n",
       "      <td>0</td>\n",
       "      <td>0</td>\n",
       "      <td>0</td>\n",
       "      <td>NaN</td>\n",
       "      <td>NaN</td>\n",
       "      <td>NaN</td>\n",
       "      <td>0</td>\n",
       "      <td>9</td>\n",
       "      <td>2008</td>\n",
       "      <td>WD</td>\n",
       "      <td>Normal</td>\n",
       "      <td>223500</td>\n",
       "    </tr>\n",
       "    <tr>\n",
       "      <td>3</td>\n",
       "      <td>4</td>\n",
       "      <td>70</td>\n",
       "      <td>RL</td>\n",
       "      <td>60.0</td>\n",
       "      <td>9550</td>\n",
       "      <td>Pave</td>\n",
       "      <td>NaN</td>\n",
       "      <td>IR1</td>\n",
       "      <td>Lvl</td>\n",
       "      <td>AllPub</td>\n",
       "      <td>Corner</td>\n",
       "      <td>Gtl</td>\n",
       "      <td>Crawfor</td>\n",
       "      <td>Norm</td>\n",
       "      <td>Norm</td>\n",
       "      <td>1Fam</td>\n",
       "      <td>2Story</td>\n",
       "      <td>7</td>\n",
       "      <td>5</td>\n",
       "      <td>1915</td>\n",
       "      <td>1970</td>\n",
       "      <td>Gable</td>\n",
       "      <td>CompShg</td>\n",
       "      <td>Wd Sdng</td>\n",
       "      <td>Wd Shng</td>\n",
       "      <td>None</td>\n",
       "      <td>0.0</td>\n",
       "      <td>TA</td>\n",
       "      <td>TA</td>\n",
       "      <td>BrkTil</td>\n",
       "      <td>TA</td>\n",
       "      <td>Gd</td>\n",
       "      <td>No</td>\n",
       "      <td>ALQ</td>\n",
       "      <td>216</td>\n",
       "      <td>Unf</td>\n",
       "      <td>0</td>\n",
       "      <td>540</td>\n",
       "      <td>756</td>\n",
       "      <td>GasA</td>\n",
       "      <td>Gd</td>\n",
       "      <td>Y</td>\n",
       "      <td>SBrkr</td>\n",
       "      <td>961</td>\n",
       "      <td>756</td>\n",
       "      <td>0</td>\n",
       "      <td>1717</td>\n",
       "      <td>1</td>\n",
       "      <td>0</td>\n",
       "      <td>1</td>\n",
       "      <td>0</td>\n",
       "      <td>3</td>\n",
       "      <td>1</td>\n",
       "      <td>Gd</td>\n",
       "      <td>7</td>\n",
       "      <td>Typ</td>\n",
       "      <td>1</td>\n",
       "      <td>Gd</td>\n",
       "      <td>Detchd</td>\n",
       "      <td>1998.0</td>\n",
       "      <td>Unf</td>\n",
       "      <td>3</td>\n",
       "      <td>642</td>\n",
       "      <td>TA</td>\n",
       "      <td>TA</td>\n",
       "      <td>Y</td>\n",
       "      <td>0</td>\n",
       "      <td>35</td>\n",
       "      <td>272</td>\n",
       "      <td>0</td>\n",
       "      <td>0</td>\n",
       "      <td>0</td>\n",
       "      <td>NaN</td>\n",
       "      <td>NaN</td>\n",
       "      <td>NaN</td>\n",
       "      <td>0</td>\n",
       "      <td>2</td>\n",
       "      <td>2006</td>\n",
       "      <td>WD</td>\n",
       "      <td>Abnorml</td>\n",
       "      <td>140000</td>\n",
       "    </tr>\n",
       "    <tr>\n",
       "      <td>4</td>\n",
       "      <td>5</td>\n",
       "      <td>60</td>\n",
       "      <td>RL</td>\n",
       "      <td>84.0</td>\n",
       "      <td>14260</td>\n",
       "      <td>Pave</td>\n",
       "      <td>NaN</td>\n",
       "      <td>IR1</td>\n",
       "      <td>Lvl</td>\n",
       "      <td>AllPub</td>\n",
       "      <td>FR2</td>\n",
       "      <td>Gtl</td>\n",
       "      <td>NoRidge</td>\n",
       "      <td>Norm</td>\n",
       "      <td>Norm</td>\n",
       "      <td>1Fam</td>\n",
       "      <td>2Story</td>\n",
       "      <td>8</td>\n",
       "      <td>5</td>\n",
       "      <td>2000</td>\n",
       "      <td>2000</td>\n",
       "      <td>Gable</td>\n",
       "      <td>CompShg</td>\n",
       "      <td>VinylSd</td>\n",
       "      <td>VinylSd</td>\n",
       "      <td>BrkFace</td>\n",
       "      <td>350.0</td>\n",
       "      <td>Gd</td>\n",
       "      <td>TA</td>\n",
       "      <td>PConc</td>\n",
       "      <td>Gd</td>\n",
       "      <td>TA</td>\n",
       "      <td>Av</td>\n",
       "      <td>GLQ</td>\n",
       "      <td>655</td>\n",
       "      <td>Unf</td>\n",
       "      <td>0</td>\n",
       "      <td>490</td>\n",
       "      <td>1145</td>\n",
       "      <td>GasA</td>\n",
       "      <td>Ex</td>\n",
       "      <td>Y</td>\n",
       "      <td>SBrkr</td>\n",
       "      <td>1145</td>\n",
       "      <td>1053</td>\n",
       "      <td>0</td>\n",
       "      <td>2198</td>\n",
       "      <td>1</td>\n",
       "      <td>0</td>\n",
       "      <td>2</td>\n",
       "      <td>1</td>\n",
       "      <td>4</td>\n",
       "      <td>1</td>\n",
       "      <td>Gd</td>\n",
       "      <td>9</td>\n",
       "      <td>Typ</td>\n",
       "      <td>1</td>\n",
       "      <td>TA</td>\n",
       "      <td>Attchd</td>\n",
       "      <td>2000.0</td>\n",
       "      <td>RFn</td>\n",
       "      <td>3</td>\n",
       "      <td>836</td>\n",
       "      <td>TA</td>\n",
       "      <td>TA</td>\n",
       "      <td>Y</td>\n",
       "      <td>192</td>\n",
       "      <td>84</td>\n",
       "      <td>0</td>\n",
       "      <td>0</td>\n",
       "      <td>0</td>\n",
       "      <td>0</td>\n",
       "      <td>NaN</td>\n",
       "      <td>NaN</td>\n",
       "      <td>NaN</td>\n",
       "      <td>0</td>\n",
       "      <td>12</td>\n",
       "      <td>2008</td>\n",
       "      <td>WD</td>\n",
       "      <td>Normal</td>\n",
       "      <td>250000</td>\n",
       "    </tr>\n",
       "  </tbody>\n",
       "</table>\n",
       "</div>"
      ],
      "text/plain": [
       "   Id  MSSubClass MSZoning  LotFrontage  LotArea Street Alley LotShape  \\\n",
       "0   1          60       RL         65.0     8450   Pave   NaN      Reg   \n",
       "1   2          20       RL         80.0     9600   Pave   NaN      Reg   \n",
       "2   3          60       RL         68.0    11250   Pave   NaN      IR1   \n",
       "3   4          70       RL         60.0     9550   Pave   NaN      IR1   \n",
       "4   5          60       RL         84.0    14260   Pave   NaN      IR1   \n",
       "\n",
       "  LandContour Utilities LotConfig LandSlope Neighborhood Condition1  \\\n",
       "0         Lvl    AllPub    Inside       Gtl      CollgCr       Norm   \n",
       "1         Lvl    AllPub       FR2       Gtl      Veenker      Feedr   \n",
       "2         Lvl    AllPub    Inside       Gtl      CollgCr       Norm   \n",
       "3         Lvl    AllPub    Corner       Gtl      Crawfor       Norm   \n",
       "4         Lvl    AllPub       FR2       Gtl      NoRidge       Norm   \n",
       "\n",
       "  Condition2 BldgType HouseStyle  OverallQual  OverallCond  YearBuilt  \\\n",
       "0       Norm     1Fam     2Story            7            5       2003   \n",
       "1       Norm     1Fam     1Story            6            8       1976   \n",
       "2       Norm     1Fam     2Story            7            5       2001   \n",
       "3       Norm     1Fam     2Story            7            5       1915   \n",
       "4       Norm     1Fam     2Story            8            5       2000   \n",
       "\n",
       "   YearRemodAdd RoofStyle RoofMatl Exterior1st Exterior2nd MasVnrType  \\\n",
       "0          2003     Gable  CompShg     VinylSd     VinylSd    BrkFace   \n",
       "1          1976     Gable  CompShg     MetalSd     MetalSd       None   \n",
       "2          2002     Gable  CompShg     VinylSd     VinylSd    BrkFace   \n",
       "3          1970     Gable  CompShg     Wd Sdng     Wd Shng       None   \n",
       "4          2000     Gable  CompShg     VinylSd     VinylSd    BrkFace   \n",
       "\n",
       "   MasVnrArea ExterQual ExterCond Foundation BsmtQual BsmtCond BsmtExposure  \\\n",
       "0       196.0        Gd        TA      PConc       Gd       TA           No   \n",
       "1         0.0        TA        TA     CBlock       Gd       TA           Gd   \n",
       "2       162.0        Gd        TA      PConc       Gd       TA           Mn   \n",
       "3         0.0        TA        TA     BrkTil       TA       Gd           No   \n",
       "4       350.0        Gd        TA      PConc       Gd       TA           Av   \n",
       "\n",
       "  BsmtFinType1  BsmtFinSF1 BsmtFinType2  BsmtFinSF2  BsmtUnfSF  TotalBsmtSF  \\\n",
       "0          GLQ         706          Unf           0        150          856   \n",
       "1          ALQ         978          Unf           0        284         1262   \n",
       "2          GLQ         486          Unf           0        434          920   \n",
       "3          ALQ         216          Unf           0        540          756   \n",
       "4          GLQ         655          Unf           0        490         1145   \n",
       "\n",
       "  Heating HeatingQC CentralAir Electrical  1stFlrSF  2ndFlrSF  LowQualFinSF  \\\n",
       "0    GasA        Ex          Y      SBrkr       856       854             0   \n",
       "1    GasA        Ex          Y      SBrkr      1262         0             0   \n",
       "2    GasA        Ex          Y      SBrkr       920       866             0   \n",
       "3    GasA        Gd          Y      SBrkr       961       756             0   \n",
       "4    GasA        Ex          Y      SBrkr      1145      1053             0   \n",
       "\n",
       "   GrLivArea  BsmtFullBath  BsmtHalfBath  FullBath  HalfBath  BedroomAbvGr  \\\n",
       "0       1710             1             0         2         1             3   \n",
       "1       1262             0             1         2         0             3   \n",
       "2       1786             1             0         2         1             3   \n",
       "3       1717             1             0         1         0             3   \n",
       "4       2198             1             0         2         1             4   \n",
       "\n",
       "   KitchenAbvGr KitchenQual  TotRmsAbvGrd Functional  Fireplaces FireplaceQu  \\\n",
       "0             1          Gd             8        Typ           0         NaN   \n",
       "1             1          TA             6        Typ           1          TA   \n",
       "2             1          Gd             6        Typ           1          TA   \n",
       "3             1          Gd             7        Typ           1          Gd   \n",
       "4             1          Gd             9        Typ           1          TA   \n",
       "\n",
       "  GarageType  GarageYrBlt GarageFinish  GarageCars  GarageArea GarageQual  \\\n",
       "0     Attchd       2003.0          RFn           2         548         TA   \n",
       "1     Attchd       1976.0          RFn           2         460         TA   \n",
       "2     Attchd       2001.0          RFn           2         608         TA   \n",
       "3     Detchd       1998.0          Unf           3         642         TA   \n",
       "4     Attchd       2000.0          RFn           3         836         TA   \n",
       "\n",
       "  GarageCond PavedDrive  WoodDeckSF  OpenPorchSF  EnclosedPorch  3SsnPorch  \\\n",
       "0         TA          Y           0           61              0          0   \n",
       "1         TA          Y         298            0              0          0   \n",
       "2         TA          Y           0           42              0          0   \n",
       "3         TA          Y           0           35            272          0   \n",
       "4         TA          Y         192           84              0          0   \n",
       "\n",
       "   ScreenPorch  PoolArea PoolQC Fence MiscFeature  MiscVal  MoSold  YrSold  \\\n",
       "0            0         0    NaN   NaN         NaN        0       2    2008   \n",
       "1            0         0    NaN   NaN         NaN        0       5    2007   \n",
       "2            0         0    NaN   NaN         NaN        0       9    2008   \n",
       "3            0         0    NaN   NaN         NaN        0       2    2006   \n",
       "4            0         0    NaN   NaN         NaN        0      12    2008   \n",
       "\n",
       "  SaleType SaleCondition  SalePrice  \n",
       "0       WD        Normal     208500  \n",
       "1       WD        Normal     181500  \n",
       "2       WD        Normal     223500  \n",
       "3       WD       Abnorml     140000  \n",
       "4       WD        Normal     250000  "
      ]
     },
     "execution_count": 4346,
     "metadata": {},
     "output_type": "execute_result"
    }
   ],
   "source": [
    "#fetching data\n",
    "df = pd.read_csv(\"C:/Users/Hitesh/Desktop/Assignments/Machine Learning 2/Module 5 Assignment/train.csv\")\n",
    "df.head()"
   ]
  },
  {
   "cell_type": "markdown",
   "metadata": {},
   "source": [
    "## Step 1 - EDA\n",
    "\n",
    "Steps Included-\n",
    "\n",
    "1. Inspecting Dataset\n",
    "2. Drop attributes with high NULL percentage.\n",
    "3. Imputing missing values.\n",
    "4. Univariate and Bivariate anaysis.\n",
    "5. Convert Years to age.\n",
    "6. Convert Ordinal Categories to Numeric data.\n",
    "7. Convert non-ordinal numeric objects to non-numeric data.\n",
    "8. Inspect Outliers and skewness\n",
    "9. Drop Columns with highly imbalanced data\n",
    "10. Merging weaker categories in one stronger category for categorical data.\n",
    "11. Dummify categorical data"
   ]
  },
  {
   "cell_type": "markdown",
   "metadata": {},
   "source": [
    "Inspect Dataset"
   ]
  },
  {
   "cell_type": "code",
   "execution_count": 4347,
   "metadata": {},
   "outputs": [
    {
     "data": {
      "text/plain": [
       "(1460, 81)"
      ]
     },
     "execution_count": 4347,
     "metadata": {},
     "output_type": "execute_result"
    }
   ],
   "source": [
    "df.shape"
   ]
  },
  {
   "cell_type": "code",
   "execution_count": 4348,
   "metadata": {},
   "outputs": [
    {
     "name": "stdout",
     "output_type": "stream",
     "text": [
      "<class 'pandas.core.frame.DataFrame'>\n",
      "RangeIndex: 1460 entries, 0 to 1459\n",
      "Data columns (total 81 columns):\n",
      "Id               1460 non-null int64\n",
      "MSSubClass       1460 non-null int64\n",
      "MSZoning         1460 non-null object\n",
      "LotFrontage      1201 non-null float64\n",
      "LotArea          1460 non-null int64\n",
      "Street           1460 non-null object\n",
      "Alley            91 non-null object\n",
      "LotShape         1460 non-null object\n",
      "LandContour      1460 non-null object\n",
      "Utilities        1460 non-null object\n",
      "LotConfig        1460 non-null object\n",
      "LandSlope        1460 non-null object\n",
      "Neighborhood     1460 non-null object\n",
      "Condition1       1460 non-null object\n",
      "Condition2       1460 non-null object\n",
      "BldgType         1460 non-null object\n",
      "HouseStyle       1460 non-null object\n",
      "OverallQual      1460 non-null int64\n",
      "OverallCond      1460 non-null int64\n",
      "YearBuilt        1460 non-null int64\n",
      "YearRemodAdd     1460 non-null int64\n",
      "RoofStyle        1460 non-null object\n",
      "RoofMatl         1460 non-null object\n",
      "Exterior1st      1460 non-null object\n",
      "Exterior2nd      1460 non-null object\n",
      "MasVnrType       1452 non-null object\n",
      "MasVnrArea       1452 non-null float64\n",
      "ExterQual        1460 non-null object\n",
      "ExterCond        1460 non-null object\n",
      "Foundation       1460 non-null object\n",
      "BsmtQual         1423 non-null object\n",
      "BsmtCond         1423 non-null object\n",
      "BsmtExposure     1422 non-null object\n",
      "BsmtFinType1     1423 non-null object\n",
      "BsmtFinSF1       1460 non-null int64\n",
      "BsmtFinType2     1422 non-null object\n",
      "BsmtFinSF2       1460 non-null int64\n",
      "BsmtUnfSF        1460 non-null int64\n",
      "TotalBsmtSF      1460 non-null int64\n",
      "Heating          1460 non-null object\n",
      "HeatingQC        1460 non-null object\n",
      "CentralAir       1460 non-null object\n",
      "Electrical       1459 non-null object\n",
      "1stFlrSF         1460 non-null int64\n",
      "2ndFlrSF         1460 non-null int64\n",
      "LowQualFinSF     1460 non-null int64\n",
      "GrLivArea        1460 non-null int64\n",
      "BsmtFullBath     1460 non-null int64\n",
      "BsmtHalfBath     1460 non-null int64\n",
      "FullBath         1460 non-null int64\n",
      "HalfBath         1460 non-null int64\n",
      "BedroomAbvGr     1460 non-null int64\n",
      "KitchenAbvGr     1460 non-null int64\n",
      "KitchenQual      1460 non-null object\n",
      "TotRmsAbvGrd     1460 non-null int64\n",
      "Functional       1460 non-null object\n",
      "Fireplaces       1460 non-null int64\n",
      "FireplaceQu      770 non-null object\n",
      "GarageType       1379 non-null object\n",
      "GarageYrBlt      1379 non-null float64\n",
      "GarageFinish     1379 non-null object\n",
      "GarageCars       1460 non-null int64\n",
      "GarageArea       1460 non-null int64\n",
      "GarageQual       1379 non-null object\n",
      "GarageCond       1379 non-null object\n",
      "PavedDrive       1460 non-null object\n",
      "WoodDeckSF       1460 non-null int64\n",
      "OpenPorchSF      1460 non-null int64\n",
      "EnclosedPorch    1460 non-null int64\n",
      "3SsnPorch        1460 non-null int64\n",
      "ScreenPorch      1460 non-null int64\n",
      "PoolArea         1460 non-null int64\n",
      "PoolQC           7 non-null object\n",
      "Fence            281 non-null object\n",
      "MiscFeature      54 non-null object\n",
      "MiscVal          1460 non-null int64\n",
      "MoSold           1460 non-null int64\n",
      "YrSold           1460 non-null int64\n",
      "SaleType         1460 non-null object\n",
      "SaleCondition    1460 non-null object\n",
      "SalePrice        1460 non-null int64\n",
      "dtypes: float64(3), int64(35), object(43)\n",
      "memory usage: 924.0+ KB\n"
     ]
    }
   ],
   "source": [
    "df.info()"
   ]
  },
  {
   "cell_type": "code",
   "execution_count": 4349,
   "metadata": {},
   "outputs": [
    {
     "data": {
      "text/plain": [
       "Index(['Id', 'MSSubClass', 'MSZoning', 'LotFrontage', 'LotArea', 'Street',\n",
       "       'Alley', 'LotShape', 'LandContour', 'Utilities', 'LotConfig',\n",
       "       'LandSlope', 'Neighborhood', 'Condition1', 'Condition2', 'BldgType',\n",
       "       'HouseStyle', 'OverallQual', 'OverallCond', 'YearBuilt', 'YearRemodAdd',\n",
       "       'RoofStyle', 'RoofMatl', 'Exterior1st', 'Exterior2nd', 'MasVnrType',\n",
       "       'MasVnrArea', 'ExterQual', 'ExterCond', 'Foundation', 'BsmtQual',\n",
       "       'BsmtCond', 'BsmtExposure', 'BsmtFinType1', 'BsmtFinSF1',\n",
       "       'BsmtFinType2', 'BsmtFinSF2', 'BsmtUnfSF', 'TotalBsmtSF', 'Heating',\n",
       "       'HeatingQC', 'CentralAir', 'Electrical', '1stFlrSF', '2ndFlrSF',\n",
       "       'LowQualFinSF', 'GrLivArea', 'BsmtFullBath', 'BsmtHalfBath', 'FullBath',\n",
       "       'HalfBath', 'BedroomAbvGr', 'KitchenAbvGr', 'KitchenQual',\n",
       "       'TotRmsAbvGrd', 'Functional', 'Fireplaces', 'FireplaceQu', 'GarageType',\n",
       "       'GarageYrBlt', 'GarageFinish', 'GarageCars', 'GarageArea', 'GarageQual',\n",
       "       'GarageCond', 'PavedDrive', 'WoodDeckSF', 'OpenPorchSF',\n",
       "       'EnclosedPorch', '3SsnPorch', 'ScreenPorch', 'PoolArea', 'PoolQC',\n",
       "       'Fence', 'MiscFeature', 'MiscVal', 'MoSold', 'YrSold', 'SaleType',\n",
       "       'SaleCondition', 'SalePrice'],\n",
       "      dtype='object')"
      ]
     },
     "execution_count": 4349,
     "metadata": {},
     "output_type": "execute_result"
    }
   ],
   "source": [
    "df.columns"
   ]
  },
  {
   "cell_type": "markdown",
   "metadata": {},
   "source": [
    "Check and drop Duplicates if any"
   ]
  },
  {
   "cell_type": "code",
   "execution_count": 4350,
   "metadata": {},
   "outputs": [
    {
     "data": {
      "text/plain": [
       "(1460, 81)"
      ]
     },
     "execution_count": 4350,
     "metadata": {},
     "output_type": "execute_result"
    }
   ],
   "source": [
    "df.drop_duplicates(subset='Id')\n",
    "df.shape"
   ]
  },
  {
   "cell_type": "markdown",
   "metadata": {},
   "source": [
    "Check for NULL Percentage"
   ]
  },
  {
   "cell_type": "code",
   "execution_count": 4351,
   "metadata": {},
   "outputs": [
    {
     "data": {
      "text/plain": [
       "Id                0.00\n",
       "MSSubClass        0.00\n",
       "MSZoning          0.00\n",
       "LotFrontage      17.74\n",
       "LotArea           0.00\n",
       "Street            0.00\n",
       "Alley            93.77\n",
       "LotShape          0.00\n",
       "LandContour       0.00\n",
       "Utilities         0.00\n",
       "LotConfig         0.00\n",
       "LandSlope         0.00\n",
       "Neighborhood      0.00\n",
       "Condition1        0.00\n",
       "Condition2        0.00\n",
       "BldgType          0.00\n",
       "HouseStyle        0.00\n",
       "OverallQual       0.00\n",
       "OverallCond       0.00\n",
       "YearBuilt         0.00\n",
       "YearRemodAdd      0.00\n",
       "RoofStyle         0.00\n",
       "RoofMatl          0.00\n",
       "Exterior1st       0.00\n",
       "Exterior2nd       0.00\n",
       "MasVnrType        0.55\n",
       "MasVnrArea        0.55\n",
       "ExterQual         0.00\n",
       "ExterCond         0.00\n",
       "Foundation        0.00\n",
       "BsmtQual          2.53\n",
       "BsmtCond          2.53\n",
       "BsmtExposure      2.60\n",
       "BsmtFinType1      2.53\n",
       "BsmtFinSF1        0.00\n",
       "BsmtFinType2      2.60\n",
       "BsmtFinSF2        0.00\n",
       "BsmtUnfSF         0.00\n",
       "TotalBsmtSF       0.00\n",
       "Heating           0.00\n",
       "HeatingQC         0.00\n",
       "CentralAir        0.00\n",
       "Electrical        0.07\n",
       "1stFlrSF          0.00\n",
       "2ndFlrSF          0.00\n",
       "LowQualFinSF      0.00\n",
       "GrLivArea         0.00\n",
       "BsmtFullBath      0.00\n",
       "BsmtHalfBath      0.00\n",
       "FullBath          0.00\n",
       "HalfBath          0.00\n",
       "BedroomAbvGr      0.00\n",
       "KitchenAbvGr      0.00\n",
       "KitchenQual       0.00\n",
       "TotRmsAbvGrd      0.00\n",
       "Functional        0.00\n",
       "Fireplaces        0.00\n",
       "FireplaceQu      47.26\n",
       "GarageType        5.55\n",
       "GarageYrBlt       5.55\n",
       "GarageFinish      5.55\n",
       "GarageCars        0.00\n",
       "GarageArea        0.00\n",
       "GarageQual        5.55\n",
       "GarageCond        5.55\n",
       "PavedDrive        0.00\n",
       "WoodDeckSF        0.00\n",
       "OpenPorchSF       0.00\n",
       "EnclosedPorch     0.00\n",
       "3SsnPorch         0.00\n",
       "ScreenPorch       0.00\n",
       "PoolArea          0.00\n",
       "PoolQC           99.52\n",
       "Fence            80.75\n",
       "MiscFeature      96.30\n",
       "MiscVal           0.00\n",
       "MoSold            0.00\n",
       "YrSold            0.00\n",
       "SaleType          0.00\n",
       "SaleCondition     0.00\n",
       "SalePrice         0.00\n",
       "dtype: float64"
      ]
     },
     "execution_count": 4351,
     "metadata": {},
     "output_type": "execute_result"
    }
   ],
   "source": [
    "# Check for percentage of missing values\n",
    "round(100*(df.isnull().sum())/len(df), 2)"
   ]
  },
  {
   "cell_type": "markdown",
   "metadata": {},
   "source": [
    "Check everything having NULL Percentage greater than 40"
   ]
  },
  {
   "cell_type": "code",
   "execution_count": 4352,
   "metadata": {},
   "outputs": [
    {
     "data": {
      "text/plain": [
       "Id               False\n",
       "MSSubClass       False\n",
       "MSZoning         False\n",
       "LotFrontage      False\n",
       "LotArea          False\n",
       "Street           False\n",
       "Alley             True\n",
       "LotShape         False\n",
       "LandContour      False\n",
       "Utilities        False\n",
       "LotConfig        False\n",
       "LandSlope        False\n",
       "Neighborhood     False\n",
       "Condition1       False\n",
       "Condition2       False\n",
       "BldgType         False\n",
       "HouseStyle       False\n",
       "OverallQual      False\n",
       "OverallCond      False\n",
       "YearBuilt        False\n",
       "YearRemodAdd     False\n",
       "RoofStyle        False\n",
       "RoofMatl         False\n",
       "Exterior1st      False\n",
       "Exterior2nd      False\n",
       "MasVnrType       False\n",
       "MasVnrArea       False\n",
       "ExterQual        False\n",
       "ExterCond        False\n",
       "Foundation       False\n",
       "BsmtQual         False\n",
       "BsmtCond         False\n",
       "BsmtExposure     False\n",
       "BsmtFinType1     False\n",
       "BsmtFinSF1       False\n",
       "BsmtFinType2     False\n",
       "BsmtFinSF2       False\n",
       "BsmtUnfSF        False\n",
       "TotalBsmtSF      False\n",
       "Heating          False\n",
       "HeatingQC        False\n",
       "CentralAir       False\n",
       "Electrical       False\n",
       "1stFlrSF         False\n",
       "2ndFlrSF         False\n",
       "LowQualFinSF     False\n",
       "GrLivArea        False\n",
       "BsmtFullBath     False\n",
       "BsmtHalfBath     False\n",
       "FullBath         False\n",
       "HalfBath         False\n",
       "BedroomAbvGr     False\n",
       "KitchenAbvGr     False\n",
       "KitchenQual      False\n",
       "TotRmsAbvGrd     False\n",
       "Functional       False\n",
       "Fireplaces       False\n",
       "FireplaceQu       True\n",
       "GarageType       False\n",
       "GarageYrBlt      False\n",
       "GarageFinish     False\n",
       "GarageCars       False\n",
       "GarageArea       False\n",
       "GarageQual       False\n",
       "GarageCond       False\n",
       "PavedDrive       False\n",
       "WoodDeckSF       False\n",
       "OpenPorchSF      False\n",
       "EnclosedPorch    False\n",
       "3SsnPorch        False\n",
       "ScreenPorch      False\n",
       "PoolArea         False\n",
       "PoolQC            True\n",
       "Fence             True\n",
       "MiscFeature       True\n",
       "MiscVal          False\n",
       "MoSold           False\n",
       "YrSold           False\n",
       "SaleType         False\n",
       "SaleCondition    False\n",
       "SalePrice        False\n",
       "dtype: bool"
      ]
     },
     "execution_count": 4352,
     "metadata": {},
     "output_type": "execute_result"
    }
   ],
   "source": [
    "#Check for NULL percentage greater than 40%\n",
    "null_greater_40pct_chk2=round(100*(df.isnull().sum()/len(df.index)),2)>40.0\n",
    "null_greater_40pct_chk2"
   ]
  },
  {
   "cell_type": "markdown",
   "metadata": {},
   "source": [
    "\n",
    "\n",
    "Impute Missing Values, \n",
    "\n",
    "Removing attributes with High Bias, \n",
    "\n",
    "skewness Check \n",
    "\n",
    "and variable transformation from Year to Age"
   ]
  },
  {
   "cell_type": "markdown",
   "metadata": {},
   "source": [
    "Now from definition of FireplaceQu, we know that this field is not missing at Random so rather than dropping it, impute missing values with NA"
   ]
  },
  {
   "cell_type": "code",
   "execution_count": 4353,
   "metadata": {},
   "outputs": [
    {
     "data": {
      "text/plain": [
       "Gd    380\n",
       "TA    313\n",
       "Fa     33\n",
       "Ex     24\n",
       "Po     20\n",
       "Name: FireplaceQu, dtype: int64"
      ]
     },
     "execution_count": 4353,
     "metadata": {},
     "output_type": "execute_result"
    }
   ],
   "source": [
    "df['FireplaceQu'].value_counts()"
   ]
  },
  {
   "cell_type": "code",
   "execution_count": 4354,
   "metadata": {},
   "outputs": [],
   "source": [
    "df['FireplaceQu'] = df['FireplaceQu'].replace(np.nan, 'NA')"
   ]
  },
  {
   "cell_type": "markdown",
   "metadata": {},
   "source": [
    "Since FireplaceQu is a Ordinal Category, change it to Ordinal Numbers"
   ]
  },
  {
   "cell_type": "code",
   "execution_count": 4355,
   "metadata": {},
   "outputs": [],
   "source": [
    "df['FireplaceQu'] = df['FireplaceQu'].map( {'Ex':5, 'Gd':4, 'TA':3 , 'Fa':2 , 'Po':1 , 'NA':0})"
   ]
  },
  {
   "cell_type": "markdown",
   "metadata": {},
   "source": [
    "Check again for the left out columns having NULL percentage greater than 40.\n",
    "\n",
    "Now from above we know that these left out columns having high NULL Percentage, it wont help in retaining those even though these are not missing at random."
   ]
  },
  {
   "cell_type": "code",
   "execution_count": 4356,
   "metadata": {},
   "outputs": [
    {
     "data": {
      "text/plain": [
       "Index(['Alley', 'PoolQC', 'Fence', 'MiscFeature'], dtype='object')"
      ]
     },
     "execution_count": 4356,
     "metadata": {},
     "output_type": "execute_result"
    }
   ],
   "source": [
    "null_count = round(df.isnull().sum() / len(df),2)\n",
    "missing_values = null_count[(null_count > 0.40)].index\n",
    "missing_values"
   ]
  },
  {
   "cell_type": "code",
   "execution_count": 4357,
   "metadata": {},
   "outputs": [],
   "source": [
    "# Drop all the columns with high NULL percentage \n",
    "\n",
    "null_count = round(df.isnull().sum() / len(df),2)\n",
    "missing_values = null_count[(null_count > 0.40)].index\n",
    "df.drop(missing_values, axis=1, inplace=True)"
   ]
  },
  {
   "cell_type": "code",
   "execution_count": 4358,
   "metadata": {},
   "outputs": [
    {
     "data": {
      "text/plain": [
       "(1460, 77)"
      ]
     },
     "execution_count": 4358,
     "metadata": {},
     "output_type": "execute_result"
    }
   ],
   "source": [
    "df.shape"
   ]
  },
  {
   "cell_type": "markdown",
   "metadata": {},
   "source": [
    "Check for remaining NULL Attributes"
   ]
  },
  {
   "cell_type": "code",
   "execution_count": 4359,
   "metadata": {},
   "outputs": [
    {
     "name": "stdout",
     "output_type": "stream",
     "text": [
      "LotFrontage   17.74\n",
      "MasVnrType   0.55\n",
      "MasVnrArea   0.55\n",
      "BsmtQual   2.53\n",
      "BsmtCond   2.53\n",
      "BsmtExposure   2.6\n",
      "BsmtFinType1   2.53\n",
      "BsmtFinType2   2.6\n",
      "Electrical   0.07\n",
      "GarageType   5.55\n",
      "GarageYrBlt   5.55\n",
      "GarageFinish   5.55\n",
      "GarageQual   5.55\n",
      "GarageCond   5.55\n"
     ]
    }
   ],
   "source": [
    "#Check for NULL percentage greater than 40%\n",
    "i = 0\n",
    "percent_NA = 0\n",
    "for i in df.columns:\n",
    "    percent_NA = round(100*(df[i].isnull().sum()/len(df.index)),2)\n",
    "    if percent_NA>0:\n",
    "        print(i,' ',percent_NA)"
   ]
  },
  {
   "cell_type": "markdown",
   "metadata": {},
   "source": [
    "Create new columns for  all the Year related attributes to Age and drop the Original columns"
   ]
  },
  {
   "cell_type": "code",
   "execution_count": 4360,
   "metadata": {},
   "outputs": [],
   "source": [
    "import datetime\n",
    "now = datetime.datetime.now()\n",
    "\n",
    "df['GarageYrBlt_Age']=df.apply(lambda x: now.year - x['GarageYrBlt'], axis=1)\n",
    "df['YrSold_Age']=df.apply(lambda x: now.year - x['YrSold'], axis=1)\n",
    "df['YearBuilt_Age']=df.apply(lambda x: now.year - x['YearBuilt'], axis=1)\n",
    "df['YearRemodAdd_Age']=df.apply(lambda x: now.year - x['YearRemodAdd'], axis=1)"
   ]
  },
  {
   "cell_type": "code",
   "execution_count": 4361,
   "metadata": {},
   "outputs": [],
   "source": [
    "df.drop(['Id','GarageYrBlt','YrSold','YearBuilt','YearRemodAdd'], axis=1, inplace=True)"
   ]
  },
  {
   "cell_type": "markdown",
   "metadata": {},
   "source": [
    "Impute Missing Values for Continuous Variable"
   ]
  },
  {
   "cell_type": "code",
   "execution_count": 4362,
   "metadata": {},
   "outputs": [
    {
     "data": {
      "text/plain": [
       "<matplotlib.axes._subplots.AxesSubplot at 0x1807076b8c8>"
      ]
     },
     "execution_count": 4362,
     "metadata": {},
     "output_type": "execute_result"
    },
    {
     "data": {
      "image/png": "[encoded data removed]",
      "text/plain": [
       "<Figure size 1440x720 with 3 Axes>"
      ]
     },
     "metadata": {
      "needs_background": "light"
     },
     "output_type": "display_data"
    }
   ],
   "source": [
    "plt.figure(figsize=(20,10))\n",
    "\n",
    "plt.subplot(3, 3, 1)\n",
    "plt.title(\"LotFrontage\")\n",
    "sns.boxplot(df['LotFrontage'])\n",
    "\n",
    "plt.subplot(3, 3, 2)\n",
    "plt.title(\"MasVnrArea\")\n",
    "sns.boxplot(df['MasVnrArea'])\n",
    "\n",
    "plt.subplot(3, 3, 3)\n",
    "plt.title(\"GarageYrBlt_Age\")\n",
    "sns.boxplot(df['GarageYrBlt_Age'])"
   ]
  },
  {
   "cell_type": "markdown",
   "metadata": {},
   "source": [
    "MasVnrArea and GarageYrBlt_Age are not missing at random, so can not be replaced by Median. Hence replacing with -1 is good idea here because these missing values are meaningful missing values.\n",
    "\n",
    "LotFrontage can be replaced with Median as its MAR"
   ]
  },
  {
   "cell_type": "code",
   "execution_count": 4363,
   "metadata": {},
   "outputs": [],
   "source": [
    "df.loc[pd.isnull(df['MasVnrArea']),['MasVnrArea']]=-1\n",
    "df.loc[pd.isnull(df['LotFrontage']),['LotFrontage']]=df['LotFrontage'].median()\n",
    "df.loc[pd.isnull(df['GarageYrBlt_Age']),['GarageYrBlt_Age']]=-1"
   ]
  },
  {
   "cell_type": "code",
   "execution_count": 4364,
   "metadata": {},
   "outputs": [
    {
     "data": {
      "text/plain": [
       "<matplotlib.axes._subplots.AxesSubplot at 0x18070788f88>"
      ]
     },
     "execution_count": 4364,
     "metadata": {},
     "output_type": "execute_result"
    },
    {
     "data": {
      "image/png": "[encoded data removed]",
      "text/plain": [
       "<Figure size 1440x720 with 3 Axes>"
      ]
     },
     "metadata": {
      "needs_background": "light"
     },
     "output_type": "display_data"
    }
   ],
   "source": [
    "plt.figure(figsize=(20,10))\n",
    "\n",
    "plt.subplot(3, 3, 1)\n",
    "plt.title(\"LotFrontage\")\n",
    "sns.boxplot(df['LotFrontage'])\n",
    "\n",
    "plt.subplot(3, 3, 2)\n",
    "plt.title(\"MasVnrArea\")\n",
    "sns.boxplot(df['MasVnrArea'])\n",
    "\n",
    "plt.subplot(3, 3, 3)\n",
    "plt.title(\"GarageYrBlt_Age\")\n",
    "sns.boxplot(df['GarageYrBlt_Age'])"
   ]
  },
  {
   "cell_type": "markdown",
   "metadata": {},
   "source": [
    "Impute Missing Values for all the Categorical Variables"
   ]
  },
  {
   "cell_type": "markdown",
   "metadata": {},
   "source": [
    "Check the distribution of Categotical variable"
   ]
  },
  {
   "cell_type": "code",
   "execution_count": 4365,
   "metadata": {},
   "outputs": [
    {
     "data": {
      "image/png": "[encoded data removed]",
      "text/plain": [
       "<Figure size 1440x1440 with 11 Axes>"
      ]
     },
     "metadata": {
      "needs_background": "light"
     },
     "output_type": "display_data"
    }
   ],
   "source": [
    "plt.figure(figsize=(20,20))\n",
    "i = 0\n",
    "j=1\n",
    "percent_NA = 0\n",
    "for i in df.columns:\n",
    "    percent_NA = round(100*(df[i].isnull().sum()/len(df.index)),2)\n",
    "    if percent_NA>0:\n",
    "        #print(i,' ',percent_NA)\n",
    "        plt.subplot(4, 4,j)\n",
    "        #plt.title(i)\n",
    "        sns.countplot(df[i])\n",
    "        j=j+1"
   ]
  },
  {
   "cell_type": "markdown",
   "metadata": {},
   "source": [
    "Drop Categorical columns with highly biased categories (Greater than 90% to single Class)"
   ]
  },
  {
   "cell_type": "code",
   "execution_count": 4366,
   "metadata": {},
   "outputs": [],
   "source": [
    "df.drop(['BsmtCond','Electrical','BsmtFinType2','GarageQual','GarageCond'], axis=1, inplace=True)"
   ]
  },
  {
   "cell_type": "markdown",
   "metadata": {},
   "source": [
    "Check for remaning attributes with NULL"
   ]
  },
  {
   "cell_type": "code",
   "execution_count": 4367,
   "metadata": {},
   "outputs": [
    {
     "name": "stdout",
     "output_type": "stream",
     "text": [
      "MasVnrType   0.55\n",
      "BsmtQual   2.53\n",
      "BsmtExposure   2.6\n",
      "BsmtFinType1   2.53\n",
      "GarageType   5.55\n",
      "GarageFinish   5.55\n"
     ]
    }
   ],
   "source": [
    "i = 0\n",
    "percent_NA = 0\n",
    "for i in df.columns:\n",
    "    percent_NA = round(100*(df[i].isnull().sum()/len(df.index)),2)\n",
    "    if percent_NA>0:\n",
    "        print(i,' ',percent_NA)"
   ]
  },
  {
   "cell_type": "markdown",
   "metadata": {},
   "source": [
    "Impute Missing Values for MasVnrType with Mode as its MAR"
   ]
  },
  {
   "cell_type": "code",
   "execution_count": 4368,
   "metadata": {},
   "outputs": [],
   "source": [
    "df['MasVnrType'].fillna(df['MasVnrType'].mode()[0], inplace=True)"
   ]
  },
  {
   "cell_type": "markdown",
   "metadata": {},
   "source": [
    "Impute Missing Values for remaining attributes with NA as these are meaningful missing values and can not be imputed by Mode"
   ]
  },
  {
   "cell_type": "code",
   "execution_count": 4369,
   "metadata": {},
   "outputs": [],
   "source": [
    "df[\"BsmtQual\"].fillna(\"NA\", inplace = True)\n",
    "df[\"BsmtExposure\"].fillna(\"NA\", inplace = True)\n",
    "df[\"BsmtFinType1\"].fillna(\"NA\", inplace = True)\n",
    "df[\"GarageType\"].fillna(\"NA\", inplace = True)\n",
    "df[\"GarageFinish\"].fillna(\"NA\", inplace = True)"
   ]
  },
  {
   "cell_type": "code",
   "execution_count": 4370,
   "metadata": {},
   "outputs": [
    {
     "data": {
      "text/plain": [
       "(1460, 71)"
      ]
     },
     "execution_count": 4370,
     "metadata": {},
     "output_type": "execute_result"
    }
   ],
   "source": [
    "df.shape"
   ]
  },
  {
   "cell_type": "markdown",
   "metadata": {},
   "source": [
    "Check skewness of continuous columns.\n",
    "\n",
    "From SkyPy Org -\n",
    "\n",
    "cipy.stats.skew(a, axis=0, bias=True)\n",
    "\n",
    "Computes the skewness of a data set.\n",
    "\n",
    "For normally distributed data, the skewness should be about 0. A skewness value > 0 means that there is more weight in the left tail of the distribution. The function skewtest can be used to determine if the skewness value is close enough to 0, statistically speaking."
   ]
  },
  {
   "cell_type": "markdown",
   "metadata": {},
   "source": [
    "Check Skewness Greater than 2"
   ]
  },
  {
   "cell_type": "code",
   "execution_count": 4371,
   "metadata": {},
   "outputs": [
    {
     "data": {
      "text/html": [
       "<div>\n",
       "<style scoped>\n",
       "    .dataframe tbody tr th:only-of-type {\n",
       "        vertical-align: middle;\n",
       "    }\n",
       "\n",
       "    .dataframe tbody tr th {\n",
       "        vertical-align: top;\n",
       "    }\n",
       "\n",
       "    .dataframe thead th {\n",
       "        text-align: right;\n",
       "    }\n",
       "</style>\n",
       "<table border=\"1\" class=\"dataframe\">\n",
       "  <thead>\n",
       "    <tr style=\"text-align: right;\">\n",
       "      <th></th>\n",
       "      <th>attribute</th>\n",
       "      <th>skewness</th>\n",
       "    </tr>\n",
       "  </thead>\n",
       "  <tbody>\n",
       "    <tr>\n",
       "      <td>0</td>\n",
       "      <td>LotFrontage</td>\n",
       "      <td>2.409147</td>\n",
       "    </tr>\n",
       "    <tr>\n",
       "      <td>1</td>\n",
       "      <td>LotArea</td>\n",
       "      <td>12.207688</td>\n",
       "    </tr>\n",
       "    <tr>\n",
       "      <td>2</td>\n",
       "      <td>MasVnrArea</td>\n",
       "      <td>2.677538</td>\n",
       "    </tr>\n",
       "    <tr>\n",
       "      <td>3</td>\n",
       "      <td>BsmtFinSF2</td>\n",
       "      <td>4.255261</td>\n",
       "    </tr>\n",
       "    <tr>\n",
       "      <td>4</td>\n",
       "      <td>LowQualFinSF</td>\n",
       "      <td>9.011341</td>\n",
       "    </tr>\n",
       "    <tr>\n",
       "      <td>5</td>\n",
       "      <td>BsmtHalfBath</td>\n",
       "      <td>4.103403</td>\n",
       "    </tr>\n",
       "    <tr>\n",
       "      <td>6</td>\n",
       "      <td>KitchenAbvGr</td>\n",
       "      <td>4.488397</td>\n",
       "    </tr>\n",
       "    <tr>\n",
       "      <td>7</td>\n",
       "      <td>OpenPorchSF</td>\n",
       "      <td>2.364342</td>\n",
       "    </tr>\n",
       "    <tr>\n",
       "      <td>8</td>\n",
       "      <td>EnclosedPorch</td>\n",
       "      <td>3.089872</td>\n",
       "    </tr>\n",
       "    <tr>\n",
       "      <td>9</td>\n",
       "      <td>3SsnPorch</td>\n",
       "      <td>10.304342</td>\n",
       "    </tr>\n",
       "    <tr>\n",
       "      <td>10</td>\n",
       "      <td>ScreenPorch</td>\n",
       "      <td>4.122214</td>\n",
       "    </tr>\n",
       "    <tr>\n",
       "      <td>11</td>\n",
       "      <td>PoolArea</td>\n",
       "      <td>14.828374</td>\n",
       "    </tr>\n",
       "    <tr>\n",
       "      <td>12</td>\n",
       "      <td>MiscVal</td>\n",
       "      <td>24.476794</td>\n",
       "    </tr>\n",
       "  </tbody>\n",
       "</table>\n",
       "</div>"
      ],
      "text/plain": [
       "        attribute   skewness\n",
       "0     LotFrontage   2.409147\n",
       "1         LotArea  12.207688\n",
       "2      MasVnrArea   2.677538\n",
       "3      BsmtFinSF2   4.255261\n",
       "4    LowQualFinSF   9.011341\n",
       "5    BsmtHalfBath   4.103403\n",
       "6    KitchenAbvGr   4.488397\n",
       "7     OpenPorchSF   2.364342\n",
       "8   EnclosedPorch   3.089872\n",
       "9       3SsnPorch  10.304342\n",
       "10    ScreenPorch   4.122214\n",
       "11       PoolArea  14.828374\n",
       "12        MiscVal  24.476794"
      ]
     },
     "execution_count": 4371,
     "metadata": {},
     "output_type": "execute_result"
    }
   ],
   "source": [
    "skew_chk = df.skew(axis = 0, skipna = True,numeric_only=True)\n",
    "skew_chk_grt_2 = skew_chk[skew_chk>2].to_frame()\n",
    "skew_chk_grt_2 = pd.DataFrame(skew_chk_grt_2).reset_index()\n",
    "skew_chk_grt_2.columns = ['attribute', 'skewness']\n",
    "skew_chk_grt_2"
   ]
  },
  {
   "cell_type": "markdown",
   "metadata": {},
   "source": [
    "Plot and check Highly Skewed columns from above step having skewnesss Greater Than 2\n",
    "\n",
    "Here we would not drop any attribute with High Skewness and having Outliers.\n",
    "\n",
    "Reason: Let Lasso and Ridge Penalize such attributes in later stage as data in real can be highly skewed and model should learn on the data given"
   ]
  },
  {
   "cell_type": "code",
   "execution_count": 4372,
   "metadata": {},
   "outputs": [
    {
     "data": {
      "image/png": "[encoded data removed]",
      "text/plain": [
       "<Figure size 1440x1080 with 13 Axes>"
      ]
     },
     "metadata": {
      "needs_background": "light"
     },
     "output_type": "display_data"
    }
   ],
   "source": [
    "plt.figure(figsize=(20,15))\n",
    "j=1\n",
    "percent_NA = 0\n",
    "for i in range (0,len(skew_chk_grt_2)):\n",
    "    plt.subplot(4, 4,j)\n",
    "    sns.boxplot(df[skew_chk_grt_2.xs(i)['attribute']])\n",
    "    j=j+1"
   ]
  },
  {
   "cell_type": "code",
   "execution_count": 4373,
   "metadata": {},
   "outputs": [
    {
     "data": {
      "text/plain": [
       "(1460, 71)"
      ]
     },
     "execution_count": 4373,
     "metadata": {},
     "output_type": "execute_result"
    }
   ],
   "source": [
    "df.shape"
   ]
  },
  {
   "cell_type": "markdown",
   "metadata": {},
   "source": [
    "Similarly, Check for the Skewness of Categorical Attributes"
   ]
  },
  {
   "cell_type": "code",
   "execution_count": 4374,
   "metadata": {},
   "outputs": [],
   "source": [
    "Cat_obj = df.select_dtypes(include='object').columns\n",
    "Cat_obj = Cat_obj.to_list()"
   ]
  },
  {
   "cell_type": "markdown",
   "metadata": {},
   "source": [
    "Here we have coded to see if any Single Category having weitage over 80%"
   ]
  },
  {
   "cell_type": "code",
   "execution_count": 4375,
   "metadata": {},
   "outputs": [],
   "source": [
    "Cat_obj_skew=[]\n",
    "for i in range (0,len(Cat_obj)):\n",
    "    skew_obj=(df[Cat_obj[i]]).value_counts(normalize=True).to_frame().reset_index()\n",
    "    skew_obj.columns = ['attribute', 'skewness']\n",
    "    a=skew_obj.sort_values(by='skewness',ascending=False).head(1)\n",
    "    #print(a)\n",
    "    if a.xs(0)['skewness']>.80:\n",
    "        Cat_obj_skew.append([Cat_obj[i]])\n",
    "Cat_obj_skew_gtr_80 = [y for x in Cat_obj_skew for y in x]"
   ]
  },
  {
   "cell_type": "markdown",
   "metadata": {},
   "source": [
    "Draw all the plots for Categorical attributes where One Caregory having atleaset 80% weitage and drop them"
   ]
  },
  {
   "cell_type": "code",
   "execution_count": 4376,
   "metadata": {},
   "outputs": [
    {
     "data": {
      "image/png": "[encoded data removed]",
      "text/plain": [
       "<Figure size 1440x2880 with 15 Axes>"
      ]
     },
     "metadata": {
      "needs_background": "light"
     },
     "output_type": "display_data"
    }
   ],
   "source": [
    "plt.figure(figsize=(20,40))\n",
    "j=1\n",
    "for i in range (0,len(Cat_obj_skew_gtr_80)):\n",
    "    plt.subplot(5, 4,j)\n",
    "    sns.countplot(df[Cat_obj_skew_gtr_80[i]])\n",
    "    j=j+1"
   ]
  },
  {
   "cell_type": "code",
   "execution_count": 4377,
   "metadata": {},
   "outputs": [],
   "source": [
    "df.drop(Cat_obj_skew_gtr_80, axis=1, inplace=True)"
   ]
  },
  {
   "cell_type": "markdown",
   "metadata": {},
   "source": [
    "Check the Shape of remaining items in DF"
   ]
  },
  {
   "cell_type": "code",
   "execution_count": 4378,
   "metadata": {},
   "outputs": [
    {
     "data": {
      "text/plain": [
       "(1460, 56)"
      ]
     },
     "execution_count": 4378,
     "metadata": {},
     "output_type": "execute_result"
    }
   ],
   "source": [
    "df.shape"
   ]
  },
  {
   "cell_type": "markdown",
   "metadata": {},
   "source": [
    "Check for the Ordinal Categories and chenge those to Numeric data."
   ]
  },
  {
   "cell_type": "code",
   "execution_count": 4379,
   "metadata": {},
   "outputs": [],
   "source": [
    "df['BsmtQual'] = df['BsmtQual'].map( {'Ex':5, 'Gd':4, 'TA':3 , 'Fa':2 , 'Po':1 , 'NA':0})\n",
    "df['HeatingQC'] = df['HeatingQC'].map( {'Ex':5, 'Gd':4, 'TA':3 , 'Fa':2 , 'Po':1 })\n",
    "df['KitchenQual'] = df['KitchenQual'].map( {'Ex':5, 'Gd':4, 'TA':3 , 'Fa':2 , 'Po':1})\n",
    "df['ExterQual'] = df['ExterQual'].map( {'Ex':5, 'Gd':4, 'TA':3 , 'Fa':2 , 'Po':1, 'NA':0})\n",
    "df['BsmtExposure'] = df['BsmtExposure'].map( {'Gd':4, 'Av':3, 'Mn':2 , 'No':1 , 'NA':0})"
   ]
  },
  {
   "cell_type": "markdown",
   "metadata": {},
   "source": [
    "Similarly, change the non-ordinal Category to Non-Numerical Categories"
   ]
  },
  {
   "cell_type": "code",
   "execution_count": 4380,
   "metadata": {},
   "outputs": [],
   "source": [
    "df['MSSubClass'] = df['MSSubClass'].map( {\n",
    "         20 :'1-STORY 1946 & NEWER ALL STYLES'\n",
    "        ,30:'1-STORY 1945 & OLDER'\n",
    "        ,40:'1-STORY W/FINISHED ATTIC ALL AGES'\n",
    "        ,45:'1-1/2 STORY - UNFINISHED ALL AGES'\n",
    "        ,50:'1-1/2 STORY FINISHED ALL AGES'\n",
    "        ,60:'2-STORY 1946 & NEWER'\n",
    "        ,70:'2-STORY 1945 & OLDER'\n",
    "        ,75:'2-1/2 STORY ALL AGES'\n",
    "        ,80:'SPLIT OR MULTI-LEVEL'\n",
    "        ,85:'SPLIT FOYER'\n",
    "        ,90:'DUPLEX - ALL STYLES AND AGES'\n",
    "       ,120:'1-STORY PUD (Planned Unit Development) - 1946 & NEWER'\n",
    "       ,150:'1-1/2 STORY PUD - ALL AGES'\n",
    "       ,160:'2-STORY PUD - 1946 & NEWER'\n",
    "       ,180:'PUD - MULTILEVEL - INCL SPLIT LEV/FOYER'\n",
    "       ,190:'2 FAMILY CONVERSION - ALL STYLES AND AGES'})"
   ]
  },
  {
   "cell_type": "markdown",
   "metadata": {},
   "source": [
    "Combine multiple attributes to a single attribute having less percentage of skewness"
   ]
  },
  {
   "cell_type": "code",
   "execution_count": 4381,
   "metadata": {},
   "outputs": [
    {
     "data": {
      "text/plain": [
       "RL              0.788356\n",
       "RM              0.149315\n",
       "MSZoning_Oth    0.062329\n",
       "Name: MSZoning, dtype: float64"
      ]
     },
     "execution_count": 4381,
     "metadata": {},
     "output_type": "execute_result"
    }
   ],
   "source": [
    "# Combine multiple attributes to a single attribute having less percentage of skewness\n",
    "s = df['MSZoning'].value_counts(normalize=True)\n",
    "df['MSZoning'] = np.where(df['MSZoning'].isin(s.index[s > 0.10]), df['MSZoning'], 'MSZoning_Oth')\n",
    "df['MSZoning'].value_counts(normalize=True)"
   ]
  },
  {
   "cell_type": "code",
   "execution_count": 4382,
   "metadata": {},
   "outputs": [
    {
     "data": {
      "text/plain": [
       "Reg             0.633562\n",
       "IR1             0.331507\n",
       "LotShape_Oth    0.034932\n",
       "Name: LotShape, dtype: float64"
      ]
     },
     "execution_count": 4382,
     "metadata": {},
     "output_type": "execute_result"
    }
   ],
   "source": [
    "# Combine multiple attributes to a single attribute having less percentage of skewness\n",
    "s = df['LotShape'].value_counts(normalize=True)\n",
    "df['LotShape'] = np.where(df['LotShape'].isin(s.index[s > 0.10]), df['LotShape'], 'LotShape_Oth')\n",
    "df['LotShape'].value_counts(normalize=True)"
   ]
  },
  {
   "cell_type": "code",
   "execution_count": 4383,
   "metadata": {},
   "outputs": [
    {
     "data": {
      "text/plain": [
       "Inside           0.720548\n",
       "Corner           0.180137\n",
       "LotConfig_Oth    0.099315\n",
       "Name: LotConfig, dtype: float64"
      ]
     },
     "execution_count": 4383,
     "metadata": {},
     "output_type": "execute_result"
    }
   ],
   "source": [
    "# Combine multiple attributes to a single attribute having less percentage of skewness\n",
    "s = df['LotConfig'].value_counts(normalize=True)\n",
    "df['LotConfig'] = np.where(df['LotConfig'].isin(s.index[s > 0.10]), df['LotConfig'], 'LotConfig_Oth')\n",
    "df['LotConfig'].value_counts(normalize=True)"
   ]
  },
  {
   "cell_type": "code",
   "execution_count": 4384,
   "metadata": {},
   "outputs": [
    {
     "data": {
      "text/plain": [
       "1Story            0.497260\n",
       "2Story            0.304795\n",
       "1.5Fin            0.105479\n",
       "HouseStyle_Oth    0.092466\n",
       "Name: HouseStyle, dtype: float64"
      ]
     },
     "execution_count": 4384,
     "metadata": {},
     "output_type": "execute_result"
    }
   ],
   "source": [
    "# Combine multiple attributes to a single attribute having less percentage of skewness\n",
    "s = df['HouseStyle'].value_counts(normalize=True)\n",
    "df['HouseStyle'] = np.where(df['HouseStyle'].isin(s.index[s > 0.10]), df['HouseStyle'], 'HouseStyle_Oth')\n",
    "df['HouseStyle'].value_counts(normalize=True)"
   ]
  },
  {
   "cell_type": "code",
   "execution_count": 4385,
   "metadata": {},
   "outputs": [
    {
     "data": {
      "text/plain": [
       "VinylSd            0.352740\n",
       "HdBoard            0.152055\n",
       "MetalSd            0.150685\n",
       "Wd Sdng            0.141096\n",
       "Exterior1st_Oth    0.129452\n",
       "Plywood            0.073973\n",
       "Name: Exterior1st, dtype: float64"
      ]
     },
     "execution_count": 4385,
     "metadata": {},
     "output_type": "execute_result"
    }
   ],
   "source": [
    "# Combine multiple attributes to a single attribute having less percentage of skewness\n",
    "s = df['Exterior1st'].value_counts(normalize=True)\n",
    "df['Exterior1st'] = np.where(df['Exterior1st'].isin(s.index[s > 0.05]), df['Exterior1st'], 'Exterior1st_Oth')\n",
    "df['Exterior1st'].value_counts(normalize=True)"
   ]
  },
  {
   "cell_type": "code",
   "execution_count": 4386,
   "metadata": {},
   "outputs": [
    {
     "data": {
      "text/plain": [
       "VinylSd            0.345205\n",
       "MetalSd            0.146575\n",
       "HdBoard            0.141781\n",
       "Wd Sdng            0.134932\n",
       "Exterior2nd_Oth    0.134247\n",
       "Plywood            0.097260\n",
       "Name: Exterior2nd, dtype: float64"
      ]
     },
     "execution_count": 4386,
     "metadata": {},
     "output_type": "execute_result"
    }
   ],
   "source": [
    "# Combine multiple attributes to a single attribute having less percentage of skewness\n",
    "s = df['Exterior2nd'].value_counts(normalize=True)\n",
    "df['Exterior2nd'] = np.where(df['Exterior2nd'].isin(s.index[s > 0.05]), df['Exterior2nd'], 'Exterior2nd_Oth')\n",
    "df['Exterior2nd'].value_counts(normalize=True)"
   ]
  },
  {
   "cell_type": "code",
   "execution_count": 4387,
   "metadata": {},
   "outputs": [
    {
     "data": {
      "text/plain": [
       "PConc             0.443151\n",
       "CBlock            0.434247\n",
       "BrkTil            0.100000\n",
       "Foundation_Oth    0.022603\n",
       "Name: Foundation, dtype: float64"
      ]
     },
     "execution_count": 4387,
     "metadata": {},
     "output_type": "execute_result"
    }
   ],
   "source": [
    "# Combine multiple attributes to a single attribute having less percentage of skewness\n",
    "s = df['Foundation'].value_counts(normalize=True)\n",
    "df['Foundation'] = np.where(df['Foundation'].isin(s.index[s > 0.05]), df['Foundation'], 'Foundation_Oth')\n",
    "df['Foundation'].value_counts(normalize=True)"
   ]
  },
  {
   "cell_type": "markdown",
   "metadata": {},
   "source": [
    "Plot ans see the relationship between Dependent Variables and Independent Variables. Only few attributes are included here for sample checks."
   ]
  },
  {
   "cell_type": "code",
   "execution_count": 4388,
   "metadata": {},
   "outputs": [
    {
     "data": {
      "image/png": "[encoded data removed]",
      "text/plain": [
       "<Figure size 432x288 with 1 Axes>"
      ]
     },
     "metadata": {
      "needs_background": "light"
     },
     "output_type": "display_data"
    },
    {
     "data": {
      "image/png": "[encoded data removed]",
      "text/plain": [
       "<Figure size 432x288 with 1 Axes>"
      ]
     },
     "metadata": {
      "needs_background": "light"
     },
     "output_type": "display_data"
    },
    {
     "data": {
      "image/png": "[encoded data removed]",
      "text/plain": [
       "<Figure size 432x288 with 1 Axes>"
      ]
     },
     "metadata": {
      "needs_background": "light"
     },
     "output_type": "display_data"
    }
   ],
   "source": [
    "chk_rel = df.select_dtypes(include='float').columns\n",
    "chk_rel = chk_rel.to_list()\n",
    "\n",
    "for i in range (0,len(chk_rel)):\n",
    "    plt.scatter(df[chk_rel[i]],df[\"SalePrice\"])\n",
    "    plt.xlabel(chk_rel[i])\n",
    "    plt.ylabel(\"SalePrice\")\n",
    "    plt.show()\n",
    "    j=j+1"
   ]
  },
  {
   "cell_type": "markdown",
   "metadata": {},
   "source": [
    "Create Dummies for retained categorical Objects"
   ]
  },
  {
   "cell_type": "code",
   "execution_count": 4389,
   "metadata": {},
   "outputs": [],
   "source": [
    "dummy_obj = df.select_dtypes(include='object').columns\n",
    "dummy_obj = dummy_obj.to_list()"
   ]
  },
  {
   "cell_type": "code",
   "execution_count": 4390,
   "metadata": {},
   "outputs": [],
   "source": [
    "for i in range (0,len(dummy_obj)):\n",
    "    dummy=pd.get_dummies(df[dummy_obj[i]],prefix=dummy_obj[i]).iloc[:,:-1]\n",
    "    df=pd.concat([df,dummy],axis=1)\n",
    "    df=df.drop(dummy_obj[i],axis=1)"
   ]
  },
  {
   "cell_type": "code",
   "execution_count": 4391,
   "metadata": {},
   "outputs": [
    {
     "data": {
      "text/plain": [
       "(1460, 125)"
      ]
     },
     "execution_count": 4391,
     "metadata": {},
     "output_type": "execute_result"
    }
   ],
   "source": [
    "df.shape"
   ]
  },
  {
   "cell_type": "code",
   "execution_count": 4392,
   "metadata": {},
   "outputs": [
    {
     "data": {
      "text/plain": [
       "Index(['LotFrontage', 'LotArea', 'OverallQual', 'OverallCond', 'MasVnrArea',\n",
       "       'ExterQual', 'BsmtQual', 'BsmtExposure', 'BsmtFinSF1', 'BsmtFinSF2',\n",
       "       ...\n",
       "       'BsmtFinType1_Rec', 'GarageType_2Types', 'GarageType_Attchd',\n",
       "       'GarageType_Basment', 'GarageType_BuiltIn', 'GarageType_CarPort',\n",
       "       'GarageType_Detchd', 'GarageFinish_Fin', 'GarageFinish_NA',\n",
       "       'GarageFinish_RFn'],\n",
       "      dtype='object', length=125)"
      ]
     },
     "execution_count": 4392,
     "metadata": {},
     "output_type": "execute_result"
    }
   ],
   "source": [
    "df.columns"
   ]
  },
  {
   "cell_type": "markdown",
   "metadata": {},
   "source": [
    "# Step 2 - Data Split in X and y \n",
    "\n",
    "Steps\n",
    "\n",
    "1. Data Split\n",
    "2. Transform y to Log "
   ]
  },
  {
   "cell_type": "markdown",
   "metadata": {},
   "source": [
    "Check the Data Distribution of Target Variable"
   ]
  },
  {
   "cell_type": "code",
   "execution_count": 4393,
   "metadata": {},
   "outputs": [
    {
     "data": {
      "text/plain": [
       "(array([-100000.,       0.,  100000.,  200000.,  300000.,  400000.,\n",
       "         500000.,  600000.,  700000.,  800000.,  900000.]),\n",
       " <a list of 11 Text xticklabel objects>)"
      ]
     },
     "execution_count": 4393,
     "metadata": {},
     "output_type": "execute_result"
    },
    {
     "data": {
      "image/png": "[encoded data removed]",
      "text/plain": [
       "<Figure size 432x288 with 1 Axes>"
      ]
     },
     "metadata": {
      "needs_background": "light"
     },
     "output_type": "display_data"
    }
   ],
   "source": [
    "sns.distplot(df['SalePrice'])\n",
    "plt.xticks(rotation = 20)"
   ]
  },
  {
   "cell_type": "markdown",
   "metadata": {},
   "source": [
    "Split the data in X and y and convert Target Variable to Log to make sure its Normally Distributed"
   ]
  },
  {
   "cell_type": "code",
   "execution_count": 4394,
   "metadata": {},
   "outputs": [],
   "source": [
    "# split into X and y\n",
    "X = df.drop(['SalePrice'], axis = 1)\n",
    "y = df['SalePrice']"
   ]
  },
  {
   "cell_type": "code",
   "execution_count": 4395,
   "metadata": {},
   "outputs": [],
   "source": [
    "y = np.log1p(y)"
   ]
  },
  {
   "cell_type": "code",
   "execution_count": 4396,
   "metadata": {},
   "outputs": [
    {
     "data": {
      "text/plain": [
       "<matplotlib.axes._subplots.AxesSubplot at 0x18071dae2c8>"
      ]
     },
     "execution_count": 4396,
     "metadata": {},
     "output_type": "execute_result"
    },
    {
     "data": {
      "image/png": "[encoded data removed]",
      "text/plain": [
       "<Figure size 432x288 with 1 Axes>"
      ]
     },
     "metadata": {
      "needs_background": "light"
     },
     "output_type": "display_data"
    }
   ],
   "source": [
    "sns.distplot(y)"
   ]
  },
  {
   "cell_type": "markdown",
   "metadata": {},
   "source": [
    "# Step 3 - Model Building\n",
    "\n",
    "Steps -\n",
    "\n",
    "1. Test Train Split\n",
    "2. Sclaing of Test and Train data\n",
    "3. Check Correlation\n",
    "4. Peform VIF and check for Top#50 attributes\n",
    "4. Bulding Ridge Model\n",
    "5. Building Lasso Model"
   ]
  },
  {
   "cell_type": "markdown",
   "metadata": {},
   "source": [
    "Test - Train Split"
   ]
  },
  {
   "cell_type": "code",
   "execution_count": 4397,
   "metadata": {},
   "outputs": [],
   "source": [
    "# split into train and test\n",
    "from sklearn.model_selection import train_test_split\n",
    "X_train, X_test, y_train, y_test = train_test_split(X, y, \n",
    "                                                    train_size=0.7,\n",
    "                                                    test_size = 0.3, random_state=100)"
   ]
  },
  {
   "cell_type": "markdown",
   "metadata": {},
   "source": [
    "Performing Sclaing on Continuous attributes"
   ]
  },
  {
   "cell_type": "code",
   "execution_count": 4398,
   "metadata": {},
   "outputs": [],
   "source": [
    "float_var = X_train.select_dtypes(include='float').columns\n",
    "int_var = X_train.select_dtypes(include='int64').columns"
   ]
  },
  {
   "cell_type": "code",
   "execution_count": 4399,
   "metadata": {},
   "outputs": [
    {
     "data": {
      "text/html": [
       "<div>\n",
       "<style scoped>\n",
       "    .dataframe tbody tr th:only-of-type {\n",
       "        vertical-align: middle;\n",
       "    }\n",
       "\n",
       "    .dataframe tbody tr th {\n",
       "        vertical-align: top;\n",
       "    }\n",
       "\n",
       "    .dataframe thead th {\n",
       "        text-align: right;\n",
       "    }\n",
       "</style>\n",
       "<table border=\"1\" class=\"dataframe\">\n",
       "  <thead>\n",
       "    <tr style=\"text-align: right;\">\n",
       "      <th></th>\n",
       "      <th>LotFrontage</th>\n",
       "      <th>LotArea</th>\n",
       "      <th>OverallQual</th>\n",
       "      <th>OverallCond</th>\n",
       "      <th>MasVnrArea</th>\n",
       "      <th>ExterQual</th>\n",
       "      <th>BsmtQual</th>\n",
       "      <th>BsmtExposure</th>\n",
       "      <th>BsmtFinSF1</th>\n",
       "      <th>BsmtFinSF2</th>\n",
       "      <th>BsmtUnfSF</th>\n",
       "      <th>TotalBsmtSF</th>\n",
       "      <th>HeatingQC</th>\n",
       "      <th>1stFlrSF</th>\n",
       "      <th>2ndFlrSF</th>\n",
       "      <th>LowQualFinSF</th>\n",
       "      <th>GrLivArea</th>\n",
       "      <th>BsmtFullBath</th>\n",
       "      <th>BsmtHalfBath</th>\n",
       "      <th>FullBath</th>\n",
       "      <th>HalfBath</th>\n",
       "      <th>BedroomAbvGr</th>\n",
       "      <th>KitchenAbvGr</th>\n",
       "      <th>KitchenQual</th>\n",
       "      <th>TotRmsAbvGrd</th>\n",
       "      <th>Fireplaces</th>\n",
       "      <th>FireplaceQu</th>\n",
       "      <th>GarageCars</th>\n",
       "      <th>GarageArea</th>\n",
       "      <th>WoodDeckSF</th>\n",
       "      <th>OpenPorchSF</th>\n",
       "      <th>EnclosedPorch</th>\n",
       "      <th>3SsnPorch</th>\n",
       "      <th>ScreenPorch</th>\n",
       "      <th>PoolArea</th>\n",
       "      <th>MiscVal</th>\n",
       "      <th>MoSold</th>\n",
       "      <th>GarageYrBlt_Age</th>\n",
       "      <th>YrSold_Age</th>\n",
       "      <th>YearBuilt_Age</th>\n",
       "      <th>YearRemodAdd_Age</th>\n",
       "      <th>MSSubClass_1-1/2 STORY - UNFINISHED ALL AGES</th>\n",
       "      <th>MSSubClass_1-1/2 STORY FINISHED ALL AGES</th>\n",
       "      <th>MSSubClass_1-STORY 1945 &amp; OLDER</th>\n",
       "      <th>MSSubClass_1-STORY 1946 &amp; NEWER ALL STYLES</th>\n",
       "      <th>MSSubClass_1-STORY PUD (Planned Unit Development) - 1946 &amp; NEWER</th>\n",
       "      <th>MSSubClass_1-STORY W/FINISHED ATTIC ALL AGES</th>\n",
       "      <th>MSSubClass_2 FAMILY CONVERSION - ALL STYLES AND AGES</th>\n",
       "      <th>MSSubClass_2-1/2 STORY ALL AGES</th>\n",
       "      <th>MSSubClass_2-STORY 1945 &amp; OLDER</th>\n",
       "      <th>MSSubClass_2-STORY 1946 &amp; NEWER</th>\n",
       "      <th>MSSubClass_2-STORY PUD - 1946 &amp; NEWER</th>\n",
       "      <th>MSSubClass_DUPLEX - ALL STYLES AND AGES</th>\n",
       "      <th>MSSubClass_PUD - MULTILEVEL - INCL SPLIT LEV/FOYER</th>\n",
       "      <th>MSSubClass_SPLIT FOYER</th>\n",
       "      <th>MSZoning_MSZoning_Oth</th>\n",
       "      <th>MSZoning_RL</th>\n",
       "      <th>LotShape_IR1</th>\n",
       "      <th>LotShape_LotShape_Oth</th>\n",
       "      <th>LotConfig_Corner</th>\n",
       "      <th>LotConfig_Inside</th>\n",
       "      <th>Neighborhood_Blmngtn</th>\n",
       "      <th>Neighborhood_Blueste</th>\n",
       "      <th>Neighborhood_BrDale</th>\n",
       "      <th>Neighborhood_BrkSide</th>\n",
       "      <th>Neighborhood_ClearCr</th>\n",
       "      <th>Neighborhood_CollgCr</th>\n",
       "      <th>Neighborhood_Crawfor</th>\n",
       "      <th>Neighborhood_Edwards</th>\n",
       "      <th>Neighborhood_Gilbert</th>\n",
       "      <th>Neighborhood_IDOTRR</th>\n",
       "      <th>Neighborhood_MeadowV</th>\n",
       "      <th>Neighborhood_Mitchel</th>\n",
       "      <th>Neighborhood_NAmes</th>\n",
       "      <th>Neighborhood_NPkVill</th>\n",
       "      <th>Neighborhood_NWAmes</th>\n",
       "      <th>Neighborhood_NoRidge</th>\n",
       "      <th>Neighborhood_NridgHt</th>\n",
       "      <th>Neighborhood_OldTown</th>\n",
       "      <th>Neighborhood_SWISU</th>\n",
       "      <th>Neighborhood_Sawyer</th>\n",
       "      <th>Neighborhood_SawyerW</th>\n",
       "      <th>Neighborhood_Somerst</th>\n",
       "      <th>Neighborhood_StoneBr</th>\n",
       "      <th>Neighborhood_Timber</th>\n",
       "      <th>HouseStyle_1.5Fin</th>\n",
       "      <th>HouseStyle_1Story</th>\n",
       "      <th>HouseStyle_2Story</th>\n",
       "      <th>RoofStyle_Flat</th>\n",
       "      <th>RoofStyle_Gable</th>\n",
       "      <th>RoofStyle_Gambrel</th>\n",
       "      <th>RoofStyle_Hip</th>\n",
       "      <th>RoofStyle_Mansard</th>\n",
       "      <th>Exterior1st_Exterior1st_Oth</th>\n",
       "      <th>Exterior1st_HdBoard</th>\n",
       "      <th>Exterior1st_MetalSd</th>\n",
       "      <th>Exterior1st_Plywood</th>\n",
       "      <th>Exterior1st_VinylSd</th>\n",
       "      <th>Exterior2nd_Exterior2nd_Oth</th>\n",
       "      <th>Exterior2nd_HdBoard</th>\n",
       "      <th>Exterior2nd_MetalSd</th>\n",
       "      <th>Exterior2nd_Plywood</th>\n",
       "      <th>Exterior2nd_VinylSd</th>\n",
       "      <th>MasVnrType_BrkCmn</th>\n",
       "      <th>MasVnrType_BrkFace</th>\n",
       "      <th>MasVnrType_None</th>\n",
       "      <th>Foundation_BrkTil</th>\n",
       "      <th>Foundation_CBlock</th>\n",
       "      <th>Foundation_Foundation_Oth</th>\n",
       "      <th>BsmtFinType1_ALQ</th>\n",
       "      <th>BsmtFinType1_BLQ</th>\n",
       "      <th>BsmtFinType1_GLQ</th>\n",
       "      <th>BsmtFinType1_LwQ</th>\n",
       "      <th>BsmtFinType1_NA</th>\n",
       "      <th>BsmtFinType1_Rec</th>\n",
       "      <th>GarageType_2Types</th>\n",
       "      <th>GarageType_Attchd</th>\n",
       "      <th>GarageType_Basment</th>\n",
       "      <th>GarageType_BuiltIn</th>\n",
       "      <th>GarageType_CarPort</th>\n",
       "      <th>GarageType_Detchd</th>\n",
       "      <th>GarageFinish_Fin</th>\n",
       "      <th>GarageFinish_NA</th>\n",
       "      <th>GarageFinish_RFn</th>\n",
       "    </tr>\n",
       "  </thead>\n",
       "  <tbody>\n",
       "    <tr>\n",
       "      <td>210</td>\n",
       "      <td>-0.115302</td>\n",
       "      <td>-0.473765</td>\n",
       "      <td>-0.779861</td>\n",
       "      <td>0.383154</td>\n",
       "      <td>-0.557997</td>\n",
       "      <td>-0.698260</td>\n",
       "      <td>-0.532226</td>\n",
       "      <td>-0.605626</td>\n",
       "      <td>0.043512</td>\n",
       "      <td>-0.293313</td>\n",
       "      <td>-0.374367</td>\n",
       "      <td>-0.430911</td>\n",
       "      <td>-1.179071</td>\n",
       "      <td>-0.765065</td>\n",
       "      <td>-0.787597</td>\n",
       "      <td>-0.124502</td>\n",
       "      <td>-1.228053</td>\n",
       "      <td>1.066863</td>\n",
       "      <td>-0.247791</td>\n",
       "      <td>-1.026085</td>\n",
       "      <td>-0.751723</td>\n",
       "      <td>-1.042717</td>\n",
       "      <td>-0.234155</td>\n",
       "      <td>-0.776063</td>\n",
       "      <td>-0.935650</td>\n",
       "      <td>-0.925422</td>\n",
       "      <td>-0.983487</td>\n",
       "      <td>-2.366798</td>\n",
       "      <td>-2.217786</td>\n",
       "      <td>-0.743160</td>\n",
       "      <td>-0.709347</td>\n",
       "      <td>1.150231</td>\n",
       "      <td>-0.121922</td>\n",
       "      <td>-0.275126</td>\n",
       "      <td>-0.062302</td>\n",
       "      <td>-0.084263</td>\n",
       "      <td>-0.832187</td>\n",
       "      <td>-1.540899</td>\n",
       "      <td>-0.134653</td>\n",
       "      <td>1.524903</td>\n",
       "      <td>1.694350</td>\n",
       "      <td>0</td>\n",
       "      <td>0</td>\n",
       "      <td>1</td>\n",
       "      <td>0</td>\n",
       "      <td>0</td>\n",
       "      <td>0</td>\n",
       "      <td>0</td>\n",
       "      <td>0</td>\n",
       "      <td>0</td>\n",
       "      <td>0</td>\n",
       "      <td>0</td>\n",
       "      <td>0</td>\n",
       "      <td>0</td>\n",
       "      <td>0</td>\n",
       "      <td>0</td>\n",
       "      <td>1</td>\n",
       "      <td>0</td>\n",
       "      <td>0</td>\n",
       "      <td>0</td>\n",
       "      <td>1</td>\n",
       "      <td>0</td>\n",
       "      <td>0</td>\n",
       "      <td>0</td>\n",
       "      <td>0</td>\n",
       "      <td>0</td>\n",
       "      <td>0</td>\n",
       "      <td>0</td>\n",
       "      <td>1</td>\n",
       "      <td>0</td>\n",
       "      <td>0</td>\n",
       "      <td>0</td>\n",
       "      <td>0</td>\n",
       "      <td>0</td>\n",
       "      <td>0</td>\n",
       "      <td>0</td>\n",
       "      <td>0</td>\n",
       "      <td>0</td>\n",
       "      <td>0</td>\n",
       "      <td>0</td>\n",
       "      <td>0</td>\n",
       "      <td>0</td>\n",
       "      <td>0</td>\n",
       "      <td>0</td>\n",
       "      <td>0</td>\n",
       "      <td>0</td>\n",
       "      <td>1</td>\n",
       "      <td>0</td>\n",
       "      <td>0</td>\n",
       "      <td>1</td>\n",
       "      <td>0</td>\n",
       "      <td>0</td>\n",
       "      <td>0</td>\n",
       "      <td>1</td>\n",
       "      <td>0</td>\n",
       "      <td>0</td>\n",
       "      <td>0</td>\n",
       "      <td>0</td>\n",
       "      <td>1</td>\n",
       "      <td>0</td>\n",
       "      <td>0</td>\n",
       "      <td>0</td>\n",
       "      <td>0</td>\n",
       "      <td>0</td>\n",
       "      <td>0</td>\n",
       "      <td>1</td>\n",
       "      <td>0</td>\n",
       "      <td>1</td>\n",
       "      <td>0</td>\n",
       "      <td>0</td>\n",
       "      <td>0</td>\n",
       "      <td>0</td>\n",
       "      <td>0</td>\n",
       "      <td>0</td>\n",
       "      <td>1</td>\n",
       "      <td>0</td>\n",
       "      <td>0</td>\n",
       "      <td>0</td>\n",
       "      <td>0</td>\n",
       "      <td>0</td>\n",
       "      <td>0</td>\n",
       "      <td>0</td>\n",
       "      <td>1</td>\n",
       "      <td>0</td>\n",
       "    </tr>\n",
       "    <tr>\n",
       "      <td>318</td>\n",
       "      <td>0.926898</td>\n",
       "      <td>-0.056845</td>\n",
       "      <td>0.649651</td>\n",
       "      <td>-0.533005</td>\n",
       "      <td>0.809148</td>\n",
       "      <td>1.053395</td>\n",
       "      <td>0.579028</td>\n",
       "      <td>2.146648</td>\n",
       "      <td>1.160345</td>\n",
       "      <td>-0.293313</td>\n",
       "      <td>-0.454644</td>\n",
       "      <td>0.621579</td>\n",
       "      <td>0.873498</td>\n",
       "      <td>0.511914</td>\n",
       "      <td>2.140556</td>\n",
       "      <td>-0.124502</td>\n",
       "      <td>2.123103</td>\n",
       "      <td>1.066863</td>\n",
       "      <td>-0.247791</td>\n",
       "      <td>0.786428</td>\n",
       "      <td>1.246998</td>\n",
       "      <td>1.396261</td>\n",
       "      <td>-0.234155</td>\n",
       "      <td>0.741868</td>\n",
       "      <td>1.556976</td>\n",
       "      <td>0.623522</td>\n",
       "      <td>0.659950</td>\n",
       "      <td>1.645101</td>\n",
       "      <td>0.867506</td>\n",
       "      <td>1.989482</td>\n",
       "      <td>0.197980</td>\n",
       "      <td>1.910043</td>\n",
       "      <td>-0.121922</td>\n",
       "      <td>-0.275126</td>\n",
       "      <td>-0.062302</td>\n",
       "      <td>-0.084263</td>\n",
       "      <td>-0.832187</td>\n",
       "      <td>-0.457735</td>\n",
       "      <td>-0.881833</td>\n",
       "      <td>-0.717033</td>\n",
       "      <td>-0.390956</td>\n",
       "      <td>0</td>\n",
       "      <td>0</td>\n",
       "      <td>0</td>\n",
       "      <td>0</td>\n",
       "      <td>0</td>\n",
       "      <td>0</td>\n",
       "      <td>0</td>\n",
       "      <td>0</td>\n",
       "      <td>0</td>\n",
       "      <td>1</td>\n",
       "      <td>0</td>\n",
       "      <td>0</td>\n",
       "      <td>0</td>\n",
       "      <td>0</td>\n",
       "      <td>0</td>\n",
       "      <td>1</td>\n",
       "      <td>0</td>\n",
       "      <td>0</td>\n",
       "      <td>0</td>\n",
       "      <td>1</td>\n",
       "      <td>0</td>\n",
       "      <td>0</td>\n",
       "      <td>0</td>\n",
       "      <td>0</td>\n",
       "      <td>0</td>\n",
       "      <td>0</td>\n",
       "      <td>0</td>\n",
       "      <td>0</td>\n",
       "      <td>0</td>\n",
       "      <td>0</td>\n",
       "      <td>0</td>\n",
       "      <td>0</td>\n",
       "      <td>0</td>\n",
       "      <td>0</td>\n",
       "      <td>0</td>\n",
       "      <td>1</td>\n",
       "      <td>0</td>\n",
       "      <td>0</td>\n",
       "      <td>0</td>\n",
       "      <td>0</td>\n",
       "      <td>0</td>\n",
       "      <td>0</td>\n",
       "      <td>0</td>\n",
       "      <td>0</td>\n",
       "      <td>0</td>\n",
       "      <td>0</td>\n",
       "      <td>1</td>\n",
       "      <td>0</td>\n",
       "      <td>1</td>\n",
       "      <td>0</td>\n",
       "      <td>0</td>\n",
       "      <td>0</td>\n",
       "      <td>0</td>\n",
       "      <td>1</td>\n",
       "      <td>0</td>\n",
       "      <td>0</td>\n",
       "      <td>0</td>\n",
       "      <td>0</td>\n",
       "      <td>1</td>\n",
       "      <td>0</td>\n",
       "      <td>0</td>\n",
       "      <td>0</td>\n",
       "      <td>0</td>\n",
       "      <td>1</td>\n",
       "      <td>0</td>\n",
       "      <td>0</td>\n",
       "      <td>0</td>\n",
       "      <td>0</td>\n",
       "      <td>0</td>\n",
       "      <td>0</td>\n",
       "      <td>1</td>\n",
       "      <td>0</td>\n",
       "      <td>0</td>\n",
       "      <td>0</td>\n",
       "      <td>0</td>\n",
       "      <td>1</td>\n",
       "      <td>0</td>\n",
       "      <td>0</td>\n",
       "      <td>0</td>\n",
       "      <td>0</td>\n",
       "      <td>0</td>\n",
       "      <td>0</td>\n",
       "      <td>1</td>\n",
       "    </tr>\n",
       "    <tr>\n",
       "      <td>239</td>\n",
       "      <td>-0.794998</td>\n",
       "      <td>-0.169324</td>\n",
       "      <td>-0.065105</td>\n",
       "      <td>-1.449164</td>\n",
       "      <td>-0.557997</td>\n",
       "      <td>-0.698260</td>\n",
       "      <td>-0.532226</td>\n",
       "      <td>-0.605626</td>\n",
       "      <td>-0.761296</td>\n",
       "      <td>-0.293313</td>\n",
       "      <td>0.171964</td>\n",
       "      <td>-0.712011</td>\n",
       "      <td>-1.179071</td>\n",
       "      <td>-0.930972</td>\n",
       "      <td>0.795996</td>\n",
       "      <td>-0.124502</td>\n",
       "      <td>-0.056465</td>\n",
       "      <td>-0.837450</td>\n",
       "      <td>-0.247791</td>\n",
       "      <td>-1.026085</td>\n",
       "      <td>1.246998</td>\n",
       "      <td>0.176772</td>\n",
       "      <td>-0.234155</td>\n",
       "      <td>-0.776063</td>\n",
       "      <td>0.310663</td>\n",
       "      <td>0.623522</td>\n",
       "      <td>1.207763</td>\n",
       "      <td>-1.029498</td>\n",
       "      <td>-1.183084</td>\n",
       "      <td>-0.743160</td>\n",
       "      <td>1.407748</td>\n",
       "      <td>-0.369395</td>\n",
       "      <td>-0.121922</td>\n",
       "      <td>-0.275126</td>\n",
       "      <td>-0.062302</td>\n",
       "      <td>-0.084263</td>\n",
       "      <td>-0.832187</td>\n",
       "      <td>1.244382</td>\n",
       "      <td>-1.629012</td>\n",
       "      <td>0.865510</td>\n",
       "      <td>1.694350</td>\n",
       "      <td>0</td>\n",
       "      <td>1</td>\n",
       "      <td>0</td>\n",
       "      <td>0</td>\n",
       "      <td>0</td>\n",
       "      <td>0</td>\n",
       "      <td>0</td>\n",
       "      <td>0</td>\n",
       "      <td>0</td>\n",
       "      <td>0</td>\n",
       "      <td>0</td>\n",
       "      <td>0</td>\n",
       "      <td>0</td>\n",
       "      <td>0</td>\n",
       "      <td>0</td>\n",
       "      <td>1</td>\n",
       "      <td>0</td>\n",
       "      <td>0</td>\n",
       "      <td>0</td>\n",
       "      <td>1</td>\n",
       "      <td>0</td>\n",
       "      <td>0</td>\n",
       "      <td>0</td>\n",
       "      <td>0</td>\n",
       "      <td>0</td>\n",
       "      <td>0</td>\n",
       "      <td>0</td>\n",
       "      <td>1</td>\n",
       "      <td>0</td>\n",
       "      <td>0</td>\n",
       "      <td>0</td>\n",
       "      <td>0</td>\n",
       "      <td>0</td>\n",
       "      <td>0</td>\n",
       "      <td>0</td>\n",
       "      <td>0</td>\n",
       "      <td>0</td>\n",
       "      <td>0</td>\n",
       "      <td>0</td>\n",
       "      <td>0</td>\n",
       "      <td>0</td>\n",
       "      <td>0</td>\n",
       "      <td>0</td>\n",
       "      <td>0</td>\n",
       "      <td>1</td>\n",
       "      <td>0</td>\n",
       "      <td>0</td>\n",
       "      <td>0</td>\n",
       "      <td>1</td>\n",
       "      <td>0</td>\n",
       "      <td>0</td>\n",
       "      <td>0</td>\n",
       "      <td>0</td>\n",
       "      <td>0</td>\n",
       "      <td>0</td>\n",
       "      <td>0</td>\n",
       "      <td>1</td>\n",
       "      <td>0</td>\n",
       "      <td>0</td>\n",
       "      <td>0</td>\n",
       "      <td>0</td>\n",
       "      <td>1</td>\n",
       "      <td>0</td>\n",
       "      <td>0</td>\n",
       "      <td>1</td>\n",
       "      <td>0</td>\n",
       "      <td>1</td>\n",
       "      <td>0</td>\n",
       "      <td>0</td>\n",
       "      <td>0</td>\n",
       "      <td>0</td>\n",
       "      <td>1</td>\n",
       "      <td>0</td>\n",
       "      <td>0</td>\n",
       "      <td>0</td>\n",
       "      <td>0</td>\n",
       "      <td>0</td>\n",
       "      <td>0</td>\n",
       "      <td>0</td>\n",
       "      <td>1</td>\n",
       "      <td>0</td>\n",
       "      <td>0</td>\n",
       "      <td>0</td>\n",
       "    </tr>\n",
       "    <tr>\n",
       "      <td>986</td>\n",
       "      <td>-0.477806</td>\n",
       "      <td>-0.502297</td>\n",
       "      <td>-0.065105</td>\n",
       "      <td>2.215472</td>\n",
       "      <td>-0.557997</td>\n",
       "      <td>-0.698260</td>\n",
       "      <td>-0.532226</td>\n",
       "      <td>-0.605626</td>\n",
       "      <td>-0.963574</td>\n",
       "      <td>-0.293313</td>\n",
       "      <td>-0.175904</td>\n",
       "      <td>-1.256778</td>\n",
       "      <td>-0.152787</td>\n",
       "      <td>-0.420683</td>\n",
       "      <td>0.669584</td>\n",
       "      <td>-0.124502</td>\n",
       "      <td>0.221858</td>\n",
       "      <td>-0.837450</td>\n",
       "      <td>-0.247791</td>\n",
       "      <td>-1.026085</td>\n",
       "      <td>-0.751723</td>\n",
       "      <td>-1.042717</td>\n",
       "      <td>-0.234155</td>\n",
       "      <td>0.741868</td>\n",
       "      <td>-0.935650</td>\n",
       "      <td>-0.925422</td>\n",
       "      <td>-0.983487</td>\n",
       "      <td>-1.029498</td>\n",
       "      <td>-1.018473</td>\n",
       "      <td>2.423490</td>\n",
       "      <td>-0.709347</td>\n",
       "      <td>-0.369395</td>\n",
       "      <td>-0.121922</td>\n",
       "      <td>-0.275126</td>\n",
       "      <td>-0.062302</td>\n",
       "      <td>-0.084263</td>\n",
       "      <td>-0.104424</td>\n",
       "      <td>1.205697</td>\n",
       "      <td>1.359706</td>\n",
       "      <td>2.019448</td>\n",
       "      <td>-0.875911</td>\n",
       "      <td>0</td>\n",
       "      <td>1</td>\n",
       "      <td>0</td>\n",
       "      <td>0</td>\n",
       "      <td>0</td>\n",
       "      <td>0</td>\n",
       "      <td>0</td>\n",
       "      <td>0</td>\n",
       "      <td>0</td>\n",
       "      <td>0</td>\n",
       "      <td>0</td>\n",
       "      <td>0</td>\n",
       "      <td>0</td>\n",
       "      <td>0</td>\n",
       "      <td>0</td>\n",
       "      <td>0</td>\n",
       "      <td>0</td>\n",
       "      <td>0</td>\n",
       "      <td>1</td>\n",
       "      <td>0</td>\n",
       "      <td>0</td>\n",
       "      <td>0</td>\n",
       "      <td>0</td>\n",
       "      <td>0</td>\n",
       "      <td>0</td>\n",
       "      <td>0</td>\n",
       "      <td>0</td>\n",
       "      <td>0</td>\n",
       "      <td>0</td>\n",
       "      <td>0</td>\n",
       "      <td>0</td>\n",
       "      <td>0</td>\n",
       "      <td>0</td>\n",
       "      <td>0</td>\n",
       "      <td>0</td>\n",
       "      <td>0</td>\n",
       "      <td>0</td>\n",
       "      <td>1</td>\n",
       "      <td>0</td>\n",
       "      <td>0</td>\n",
       "      <td>0</td>\n",
       "      <td>0</td>\n",
       "      <td>0</td>\n",
       "      <td>0</td>\n",
       "      <td>1</td>\n",
       "      <td>0</td>\n",
       "      <td>0</td>\n",
       "      <td>0</td>\n",
       "      <td>0</td>\n",
       "      <td>0</td>\n",
       "      <td>1</td>\n",
       "      <td>0</td>\n",
       "      <td>0</td>\n",
       "      <td>0</td>\n",
       "      <td>0</td>\n",
       "      <td>0</td>\n",
       "      <td>1</td>\n",
       "      <td>0</td>\n",
       "      <td>0</td>\n",
       "      <td>0</td>\n",
       "      <td>0</td>\n",
       "      <td>1</td>\n",
       "      <td>0</td>\n",
       "      <td>0</td>\n",
       "      <td>1</td>\n",
       "      <td>0</td>\n",
       "      <td>1</td>\n",
       "      <td>0</td>\n",
       "      <td>0</td>\n",
       "      <td>0</td>\n",
       "      <td>0</td>\n",
       "      <td>0</td>\n",
       "      <td>0</td>\n",
       "      <td>0</td>\n",
       "      <td>0</td>\n",
       "      <td>1</td>\n",
       "      <td>0</td>\n",
       "      <td>0</td>\n",
       "      <td>0</td>\n",
       "      <td>0</td>\n",
       "      <td>0</td>\n",
       "      <td>0</td>\n",
       "      <td>0</td>\n",
       "    </tr>\n",
       "    <tr>\n",
       "      <td>1416</td>\n",
       "      <td>-0.432493</td>\n",
       "      <td>0.082905</td>\n",
       "      <td>-1.494617</td>\n",
       "      <td>0.383154</td>\n",
       "      <td>-0.557997</td>\n",
       "      <td>-0.698260</td>\n",
       "      <td>-0.532226</td>\n",
       "      <td>-0.605626</td>\n",
       "      <td>-0.963574</td>\n",
       "      <td>-0.293313</td>\n",
       "      <td>0.475233</td>\n",
       "      <td>-0.620490</td>\n",
       "      <td>-0.152787</td>\n",
       "      <td>0.195183</td>\n",
       "      <td>1.611926</td>\n",
       "      <td>-0.124502</td>\n",
       "      <td>1.453624</td>\n",
       "      <td>-0.837450</td>\n",
       "      <td>-0.247791</td>\n",
       "      <td>0.786428</td>\n",
       "      <td>-0.751723</td>\n",
       "      <td>1.396261</td>\n",
       "      <td>4.112612</td>\n",
       "      <td>-0.776063</td>\n",
       "      <td>2.803289</td>\n",
       "      <td>-0.925422</td>\n",
       "      <td>-0.983487</td>\n",
       "      <td>0.307802</td>\n",
       "      <td>0.416000</td>\n",
       "      <td>-0.743160</td>\n",
       "      <td>-0.709347</td>\n",
       "      <td>1.435160</td>\n",
       "      <td>-0.121922</td>\n",
       "      <td>-0.275126</td>\n",
       "      <td>-0.062302</td>\n",
       "      <td>-0.084263</td>\n",
       "      <td>-0.832187</td>\n",
       "      <td>0.393324</td>\n",
       "      <td>-1.629012</td>\n",
       "      <td>2.843689</td>\n",
       "      <td>1.694350</td>\n",
       "      <td>0</td>\n",
       "      <td>0</td>\n",
       "      <td>0</td>\n",
       "      <td>0</td>\n",
       "      <td>0</td>\n",
       "      <td>0</td>\n",
       "      <td>1</td>\n",
       "      <td>0</td>\n",
       "      <td>0</td>\n",
       "      <td>0</td>\n",
       "      <td>0</td>\n",
       "      <td>0</td>\n",
       "      <td>0</td>\n",
       "      <td>0</td>\n",
       "      <td>0</td>\n",
       "      <td>0</td>\n",
       "      <td>0</td>\n",
       "      <td>0</td>\n",
       "      <td>0</td>\n",
       "      <td>1</td>\n",
       "      <td>0</td>\n",
       "      <td>0</td>\n",
       "      <td>0</td>\n",
       "      <td>0</td>\n",
       "      <td>0</td>\n",
       "      <td>0</td>\n",
       "      <td>0</td>\n",
       "      <td>0</td>\n",
       "      <td>0</td>\n",
       "      <td>0</td>\n",
       "      <td>0</td>\n",
       "      <td>0</td>\n",
       "      <td>0</td>\n",
       "      <td>0</td>\n",
       "      <td>0</td>\n",
       "      <td>0</td>\n",
       "      <td>0</td>\n",
       "      <td>1</td>\n",
       "      <td>0</td>\n",
       "      <td>0</td>\n",
       "      <td>0</td>\n",
       "      <td>0</td>\n",
       "      <td>0</td>\n",
       "      <td>0</td>\n",
       "      <td>0</td>\n",
       "      <td>0</td>\n",
       "      <td>1</td>\n",
       "      <td>0</td>\n",
       "      <td>1</td>\n",
       "      <td>0</td>\n",
       "      <td>0</td>\n",
       "      <td>0</td>\n",
       "      <td>0</td>\n",
       "      <td>0</td>\n",
       "      <td>0</td>\n",
       "      <td>0</td>\n",
       "      <td>1</td>\n",
       "      <td>1</td>\n",
       "      <td>0</td>\n",
       "      <td>0</td>\n",
       "      <td>0</td>\n",
       "      <td>0</td>\n",
       "      <td>0</td>\n",
       "      <td>0</td>\n",
       "      <td>1</td>\n",
       "      <td>0</td>\n",
       "      <td>0</td>\n",
       "      <td>0</td>\n",
       "      <td>0</td>\n",
       "      <td>0</td>\n",
       "      <td>0</td>\n",
       "      <td>0</td>\n",
       "      <td>0</td>\n",
       "      <td>0</td>\n",
       "      <td>0</td>\n",
       "      <td>0</td>\n",
       "      <td>0</td>\n",
       "      <td>0</td>\n",
       "      <td>0</td>\n",
       "      <td>1</td>\n",
       "      <td>0</td>\n",
       "      <td>0</td>\n",
       "      <td>0</td>\n",
       "    </tr>\n",
       "  </tbody>\n",
       "</table>\n",
       "</div>"
      ],
      "text/plain": [
       "      LotFrontage   LotArea  OverallQual  OverallCond  MasVnrArea  ExterQual  \\\n",
       "210     -0.115302 -0.473765    -0.779861     0.383154   -0.557997  -0.698260   \n",
       "318      0.926898 -0.056845     0.649651    -0.533005    0.809148   1.053395   \n",
       "239     -0.794998 -0.169324    -0.065105    -1.449164   -0.557997  -0.698260   \n",
       "986     -0.477806 -0.502297    -0.065105     2.215472   -0.557997  -0.698260   \n",
       "1416    -0.432493  0.082905    -1.494617     0.383154   -0.557997  -0.698260   \n",
       "\n",
       "      BsmtQual  BsmtExposure  BsmtFinSF1  BsmtFinSF2  BsmtUnfSF  TotalBsmtSF  \\\n",
       "210  -0.532226     -0.605626    0.043512   -0.293313  -0.374367    -0.430911   \n",
       "318   0.579028      2.146648    1.160345   -0.293313  -0.454644     0.621579   \n",
       "239  -0.532226     -0.605626   -0.761296   -0.293313   0.171964    -0.712011   \n",
       "986  -0.532226     -0.605626   -0.963574   -0.293313  -0.175904    -1.256778   \n",
       "1416 -0.532226     -0.605626   -0.963574   -0.293313   0.475233    -0.620490   \n",
       "\n",
       "      HeatingQC  1stFlrSF  2ndFlrSF  LowQualFinSF  GrLivArea  BsmtFullBath  \\\n",
       "210   -1.179071 -0.765065 -0.787597     -0.124502  -1.228053      1.066863   \n",
       "318    0.873498  0.511914  2.140556     -0.124502   2.123103      1.066863   \n",
       "239   -1.179071 -0.930972  0.795996     -0.124502  -0.056465     -0.837450   \n",
       "986   -0.152787 -0.420683  0.669584     -0.124502   0.221858     -0.837450   \n",
       "1416  -0.152787  0.195183  1.611926     -0.124502   1.453624     -0.837450   \n",
       "\n",
       "      BsmtHalfBath  FullBath  HalfBath  BedroomAbvGr  KitchenAbvGr  \\\n",
       "210      -0.247791 -1.026085 -0.751723     -1.042717     -0.234155   \n",
       "318      -0.247791  0.786428  1.246998      1.396261     -0.234155   \n",
       "239      -0.247791 -1.026085  1.246998      0.176772     -0.234155   \n",
       "986      -0.247791 -1.026085 -0.751723     -1.042717     -0.234155   \n",
       "1416     -0.247791  0.786428 -0.751723      1.396261      4.112612   \n",
       "\n",
       "      KitchenQual  TotRmsAbvGrd  Fireplaces  FireplaceQu  GarageCars  \\\n",
       "210     -0.776063     -0.935650   -0.925422    -0.983487   -2.366798   \n",
       "318      0.741868      1.556976    0.623522     0.659950    1.645101   \n",
       "239     -0.776063      0.310663    0.623522     1.207763   -1.029498   \n",
       "986      0.741868     -0.935650   -0.925422    -0.983487   -1.029498   \n",
       "1416    -0.776063      2.803289   -0.925422    -0.983487    0.307802   \n",
       "\n",
       "      GarageArea  WoodDeckSF  OpenPorchSF  EnclosedPorch  3SsnPorch  \\\n",
       "210    -2.217786   -0.743160    -0.709347       1.150231  -0.121922   \n",
       "318     0.867506    1.989482     0.197980       1.910043  -0.121922   \n",
       "239    -1.183084   -0.743160     1.407748      -0.369395  -0.121922   \n",
       "986    -1.018473    2.423490    -0.709347      -0.369395  -0.121922   \n",
       "1416    0.416000   -0.743160    -0.709347       1.435160  -0.121922   \n",
       "\n",
       "      ScreenPorch  PoolArea   MiscVal    MoSold  GarageYrBlt_Age  YrSold_Age  \\\n",
       "210     -0.275126 -0.062302 -0.084263 -0.832187        -1.540899   -0.134653   \n",
       "318     -0.275126 -0.062302 -0.084263 -0.832187        -0.457735   -0.881833   \n",
       "239     -0.275126 -0.062302 -0.084263 -0.832187         1.244382   -1.629012   \n",
       "986     -0.275126 -0.062302 -0.084263 -0.104424         1.205697    1.359706   \n",
       "1416    -0.275126 -0.062302 -0.084263 -0.832187         0.393324   -1.629012   \n",
       "\n",
       "      YearBuilt_Age  YearRemodAdd_Age  \\\n",
       "210        1.524903          1.694350   \n",
       "318       -0.717033         -0.390956   \n",
       "239        0.865510          1.694350   \n",
       "986        2.019448         -0.875911   \n",
       "1416       2.843689          1.694350   \n",
       "\n",
       "      MSSubClass_1-1/2 STORY - UNFINISHED ALL AGES  \\\n",
       "210                                              0   \n",
       "318                                              0   \n",
       "239                                              0   \n",
       "986                                              0   \n",
       "1416                                             0   \n",
       "\n",
       "      MSSubClass_1-1/2 STORY FINISHED ALL AGES  \\\n",
       "210                                          0   \n",
       "318                                          0   \n",
       "239                                          1   \n",
       "986                                          1   \n",
       "1416                                         0   \n",
       "\n",
       "      MSSubClass_1-STORY 1945 & OLDER  \\\n",
       "210                                 1   \n",
       "318                                 0   \n",
       "239                                 0   \n",
       "986                                 0   \n",
       "1416                                0   \n",
       "\n",
       "      MSSubClass_1-STORY 1946 & NEWER ALL STYLES  \\\n",
       "210                                            0   \n",
       "318                                            0   \n",
       "239                                            0   \n",
       "986                                            0   \n",
       "1416                                           0   \n",
       "\n",
       "      MSSubClass_1-STORY PUD (Planned Unit Development) - 1946 & NEWER  \\\n",
       "210                                                   0                  \n",
       "318                                                   0                  \n",
       "239                                                   0                  \n",
       "986                                                   0                  \n",
       "1416                                                  0                  \n",
       "\n",
       "      MSSubClass_1-STORY W/FINISHED ATTIC ALL AGES  \\\n",
       "210                                              0   \n",
       "318                                              0   \n",
       "239                                              0   \n",
       "986                                              0   \n",
       "1416                                             0   \n",
       "\n",
       "      MSSubClass_2 FAMILY CONVERSION - ALL STYLES AND AGES  \\\n",
       "210                                                   0      \n",
       "318                                                   0      \n",
       "239                                                   0      \n",
       "986                                                   0      \n",
       "1416                                                  1      \n",
       "\n",
       "      MSSubClass_2-1/2 STORY ALL AGES  MSSubClass_2-STORY 1945 & OLDER  \\\n",
       "210                                 0                                0   \n",
       "318                                 0                                0   \n",
       "239                                 0                                0   \n",
       "986                                 0                                0   \n",
       "1416                                0                                0   \n",
       "\n",
       "      MSSubClass_2-STORY 1946 & NEWER  MSSubClass_2-STORY PUD - 1946 & NEWER  \\\n",
       "210                                 0                                      0   \n",
       "318                                 1                                      0   \n",
       "239                                 0                                      0   \n",
       "986                                 0                                      0   \n",
       "1416                                0                                      0   \n",
       "\n",
       "      MSSubClass_DUPLEX - ALL STYLES AND AGES  \\\n",
       "210                                         0   \n",
       "318                                         0   \n",
       "239                                         0   \n",
       "986                                         0   \n",
       "1416                                        0   \n",
       "\n",
       "      MSSubClass_PUD - MULTILEVEL - INCL SPLIT LEV/FOYER  \\\n",
       "210                                                   0    \n",
       "318                                                   0    \n",
       "239                                                   0    \n",
       "986                                                   0    \n",
       "1416                                                  0    \n",
       "\n",
       "      MSSubClass_SPLIT FOYER  MSZoning_MSZoning_Oth  MSZoning_RL  \\\n",
       "210                        0                      0            1   \n",
       "318                        0                      0            1   \n",
       "239                        0                      0            1   \n",
       "986                        0                      0            0   \n",
       "1416                       0                      0            0   \n",
       "\n",
       "      LotShape_IR1  LotShape_LotShape_Oth  LotConfig_Corner  LotConfig_Inside  \\\n",
       "210              0                      0                 0                 1   \n",
       "318              0                      0                 0                 1   \n",
       "239              0                      0                 0                 1   \n",
       "986              0                      0                 1                 0   \n",
       "1416             0                      0                 0                 1   \n",
       "\n",
       "      Neighborhood_Blmngtn  Neighborhood_Blueste  Neighborhood_BrDale  \\\n",
       "210                      0                     0                    0   \n",
       "318                      0                     0                    0   \n",
       "239                      0                     0                    0   \n",
       "986                      0                     0                    0   \n",
       "1416                     0                     0                    0   \n",
       "\n",
       "      Neighborhood_BrkSide  Neighborhood_ClearCr  Neighborhood_CollgCr  \\\n",
       "210                      0                     0                     0   \n",
       "318                      0                     0                     0   \n",
       "239                      0                     0                     0   \n",
       "986                      0                     0                     0   \n",
       "1416                     0                     0                     0   \n",
       "\n",
       "      Neighborhood_Crawfor  Neighborhood_Edwards  Neighborhood_Gilbert  \\\n",
       "210                      0                     1                     0   \n",
       "318                      0                     0                     0   \n",
       "239                      0                     1                     0   \n",
       "986                      0                     0                     0   \n",
       "1416                     0                     0                     0   \n",
       "\n",
       "      Neighborhood_IDOTRR  Neighborhood_MeadowV  Neighborhood_Mitchel  \\\n",
       "210                     0                     0                     0   \n",
       "318                     0                     0                     0   \n",
       "239                     0                     0                     0   \n",
       "986                     0                     0                     0   \n",
       "1416                    0                     0                     0   \n",
       "\n",
       "      Neighborhood_NAmes  Neighborhood_NPkVill  Neighborhood_NWAmes  \\\n",
       "210                    0                     0                    0   \n",
       "318                    0                     0                    0   \n",
       "239                    0                     0                    0   \n",
       "986                    0                     0                    0   \n",
       "1416                   0                     0                    0   \n",
       "\n",
       "      Neighborhood_NoRidge  Neighborhood_NridgHt  Neighborhood_OldTown  \\\n",
       "210                      0                     0                     0   \n",
       "318                      1                     0                     0   \n",
       "239                      0                     0                     0   \n",
       "986                      0                     0                     1   \n",
       "1416                     0                     0                     1   \n",
       "\n",
       "      Neighborhood_SWISU  Neighborhood_Sawyer  Neighborhood_SawyerW  \\\n",
       "210                    0                    0                     0   \n",
       "318                    0                    0                     0   \n",
       "239                    0                    0                     0   \n",
       "986                    0                    0                     0   \n",
       "1416                   0                    0                     0   \n",
       "\n",
       "      Neighborhood_Somerst  Neighborhood_StoneBr  Neighborhood_Timber  \\\n",
       "210                      0                     0                    0   \n",
       "318                      0                     0                    0   \n",
       "239                      0                     0                    0   \n",
       "986                      0                     0                    0   \n",
       "1416                     0                     0                    0   \n",
       "\n",
       "      HouseStyle_1.5Fin  HouseStyle_1Story  HouseStyle_2Story  RoofStyle_Flat  \\\n",
       "210                   0                  1                  0               0   \n",
       "318                   0                  0                  1               0   \n",
       "239                   1                  0                  0               0   \n",
       "986                   1                  0                  0               0   \n",
       "1416                  0                  0                  1               0   \n",
       "\n",
       "      RoofStyle_Gable  RoofStyle_Gambrel  RoofStyle_Hip  RoofStyle_Mansard  \\\n",
       "210                 1                  0              0                  0   \n",
       "318                 1                  0              0                  0   \n",
       "239                 1                  0              0                  0   \n",
       "986                 0                  0              1                  0   \n",
       "1416                1                  0              0                  0   \n",
       "\n",
       "      Exterior1st_Exterior1st_Oth  Exterior1st_HdBoard  Exterior1st_MetalSd  \\\n",
       "210                             1                    0                    0   \n",
       "318                             0                    1                    0   \n",
       "239                             0                    0                    0   \n",
       "986                             0                    0                    0   \n",
       "1416                            0                    0                    0   \n",
       "\n",
       "      Exterior1st_Plywood  Exterior1st_VinylSd  Exterior2nd_Exterior2nd_Oth  \\\n",
       "210                     0                    0                            1   \n",
       "318                     0                    0                            0   \n",
       "239                     0                    1                            0   \n",
       "986                     0                    1                            0   \n",
       "1416                    0                    1                            1   \n",
       "\n",
       "      Exterior2nd_HdBoard  Exterior2nd_MetalSd  Exterior2nd_Plywood  \\\n",
       "210                     0                    0                    0   \n",
       "318                     1                    0                    0   \n",
       "239                     0                    0                    0   \n",
       "986                     0                    0                    0   \n",
       "1416                    0                    0                    0   \n",
       "\n",
       "      Exterior2nd_VinylSd  MasVnrType_BrkCmn  MasVnrType_BrkFace  \\\n",
       "210                     0                  0                   0   \n",
       "318                     0                  0                   1   \n",
       "239                     1                  0                   0   \n",
       "986                     1                  0                   0   \n",
       "1416                    0                  0                   0   \n",
       "\n",
       "      MasVnrType_None  Foundation_BrkTil  Foundation_CBlock  \\\n",
       "210                 1                  0                  1   \n",
       "318                 0                  0                  0   \n",
       "239                 1                  0                  1   \n",
       "986                 1                  0                  1   \n",
       "1416                1                  0                  0   \n",
       "\n",
       "      Foundation_Foundation_Oth  BsmtFinType1_ALQ  BsmtFinType1_BLQ  \\\n",
       "210                           0                 0                 0   \n",
       "318                           0                 0                 0   \n",
       "239                           0                 0                 0   \n",
       "986                           0                 0                 0   \n",
       "1416                          0                 0                 0   \n",
       "\n",
       "      BsmtFinType1_GLQ  BsmtFinType1_LwQ  BsmtFinType1_NA  BsmtFinType1_Rec  \\\n",
       "210                  0                 0                0                 1   \n",
       "318                  1                 0                0                 0   \n",
       "239                  0                 1                0                 0   \n",
       "986                  0                 0                0                 0   \n",
       "1416                 0                 0                0                 0   \n",
       "\n",
       "      GarageType_2Types  GarageType_Attchd  GarageType_Basment  \\\n",
       "210                   0                  0                   0   \n",
       "318                   0                  1                   0   \n",
       "239                   0                  0                   0   \n",
       "986                   0                  1                   0   \n",
       "1416                  0                  0                   0   \n",
       "\n",
       "      GarageType_BuiltIn  GarageType_CarPort  GarageType_Detchd  \\\n",
       "210                    0                   0                  0   \n",
       "318                    0                   0                  0   \n",
       "239                    0                   0                  1   \n",
       "986                    0                   0                  0   \n",
       "1416                   0                   0                  1   \n",
       "\n",
       "      GarageFinish_Fin  GarageFinish_NA  GarageFinish_RFn  \n",
       "210                  0                1                 0  \n",
       "318                  0                0                 1  \n",
       "239                  0                0                 0  \n",
       "986                  0                0                 0  \n",
       "1416                 0                0                 0  "
      ]
     },
     "execution_count": 4399,
     "metadata": {},
     "output_type": "execute_result"
    }
   ],
   "source": [
    "from sklearn.preprocessing import scale\n",
    "from sklearn.preprocessing import StandardScaler\n",
    "scaler = StandardScaler()\n",
    "\n",
    "X_train[float_var] = scaler.fit_transform(X_train[float_var])\n",
    "X_train[int_var] = scaler.fit_transform(X_train[int_var])\n",
    "\n",
    "X_train.head()"
   ]
  },
  {
   "cell_type": "markdown",
   "metadata": {},
   "source": [
    "Lets Check for Highly correlated attributes"
   ]
  },
  {
   "cell_type": "code",
   "execution_count": 4400,
   "metadata": {},
   "outputs": [],
   "source": [
    "corr= X_train.loc[:, X_train.dtypes!=np.object].corr()"
   ]
  },
  {
   "cell_type": "markdown",
   "metadata": {},
   "source": [
    "Pick attributes with correlation more than .7 - High-Positive Correlated"
   ]
  },
  {
   "cell_type": "code",
   "execution_count": 4401,
   "metadata": {},
   "outputs": [
    {
     "data": {
      "text/html": [
       "<div>\n",
       "<style scoped>\n",
       "    .dataframe tbody tr th:only-of-type {\n",
       "        vertical-align: middle;\n",
       "    }\n",
       "\n",
       "    .dataframe tbody tr th {\n",
       "        vertical-align: top;\n",
       "    }\n",
       "\n",
       "    .dataframe thead th {\n",
       "        text-align: right;\n",
       "    }\n",
       "</style>\n",
       "<table border=\"1\" class=\"dataframe\">\n",
       "  <thead>\n",
       "    <tr style=\"text-align: right;\">\n",
       "      <th></th>\n",
       "      <th>VAR1</th>\n",
       "      <th>VAR2</th>\n",
       "      <th>CORELATION</th>\n",
       "    </tr>\n",
       "  </thead>\n",
       "  <tbody>\n",
       "    <tr>\n",
       "      <td>12495</td>\n",
       "      <td>Exterior2nd_MetalSd</td>\n",
       "      <td>Exterior1st_MetalSd</td>\n",
       "      <td>0.978826</td>\n",
       "    </tr>\n",
       "    <tr>\n",
       "      <td>12745</td>\n",
       "      <td>Exterior2nd_VinylSd</td>\n",
       "      <td>Exterior1st_VinylSd</td>\n",
       "      <td>0.973847</td>\n",
       "    </tr>\n",
       "    <tr>\n",
       "      <td>10582</td>\n",
       "      <td>HouseStyle_1.5Fin</td>\n",
       "      <td>MSSubClass_1-1/2 STORY FINISHED ALL AGES</td>\n",
       "      <td>0.927742</td>\n",
       "    </tr>\n",
       "    <tr>\n",
       "      <td>3499</td>\n",
       "      <td>GarageArea</td>\n",
       "      <td>GarageCars</td>\n",
       "      <td>0.890243</td>\n",
       "    </tr>\n",
       "    <tr>\n",
       "      <td>12370</td>\n",
       "      <td>Exterior2nd_HdBoard</td>\n",
       "      <td>Exterior1st_HdBoard</td>\n",
       "      <td>0.869566</td>\n",
       "    </tr>\n",
       "    <tr>\n",
       "      <td>3249</td>\n",
       "      <td>FireplaceQu</td>\n",
       "      <td>Fireplaces</td>\n",
       "      <td>0.864212</td>\n",
       "    </tr>\n",
       "    <tr>\n",
       "      <td>1623</td>\n",
       "      <td>1stFlrSF</td>\n",
       "      <td>TotalBsmtSF</td>\n",
       "      <td>0.816297</td>\n",
       "    </tr>\n",
       "    <tr>\n",
       "      <td>2992</td>\n",
       "      <td>TotRmsAbvGrd</td>\n",
       "      <td>GrLivArea</td>\n",
       "      <td>0.808463</td>\n",
       "    </tr>\n",
       "    <tr>\n",
       "      <td>10802</td>\n",
       "      <td>HouseStyle_2Story</td>\n",
       "      <td>2ndFlrSF</td>\n",
       "      <td>0.807479</td>\n",
       "    </tr>\n",
       "    <tr>\n",
       "      <td>12245</td>\n",
       "      <td>Exterior2nd_Exterior2nd_Oth</td>\n",
       "      <td>Exterior1st_Exterior1st_Oth</td>\n",
       "      <td>0.789255</td>\n",
       "    </tr>\n",
       "    <tr>\n",
       "      <td>10708</td>\n",
       "      <td>HouseStyle_1Story</td>\n",
       "      <td>MSSubClass_1-STORY 1946 &amp; NEWER ALL STYLES</td>\n",
       "      <td>0.750408</td>\n",
       "    </tr>\n",
       "    <tr>\n",
       "      <td>10838</td>\n",
       "      <td>HouseStyle_2Story</td>\n",
       "      <td>MSSubClass_2-STORY 1946 &amp; NEWER</td>\n",
       "      <td>0.745576</td>\n",
       "    </tr>\n",
       "    <tr>\n",
       "      <td>12620</td>\n",
       "      <td>Exterior2nd_Plywood</td>\n",
       "      <td>Exterior1st_Plywood</td>\n",
       "      <td>0.740996</td>\n",
       "    </tr>\n",
       "    <tr>\n",
       "      <td>6470</td>\n",
       "      <td>MSSubClass_DUPLEX - ALL STYLES AND AGES</td>\n",
       "      <td>KitchenAbvGr</td>\n",
       "      <td>0.723208</td>\n",
       "    </tr>\n",
       "    <tr>\n",
       "      <td>2857</td>\n",
       "      <td>KitchenQual</td>\n",
       "      <td>ExterQual</td>\n",
       "      <td>0.721145</td>\n",
       "    </tr>\n",
       "    <tr>\n",
       "      <td>622</td>\n",
       "      <td>ExterQual</td>\n",
       "      <td>OverallQual</td>\n",
       "      <td>0.717270</td>\n",
       "    </tr>\n",
       "    <tr>\n",
       "      <td>10223</td>\n",
       "      <td>Neighborhood_Somerst</td>\n",
       "      <td>MSZoning_MSZoning_Oth</td>\n",
       "      <td>0.702411</td>\n",
       "    </tr>\n",
       "  </tbody>\n",
       "</table>\n",
       "</div>"
      ],
      "text/plain": [
       "                                          VAR1  \\\n",
       "12495                      Exterior2nd_MetalSd   \n",
       "12745                      Exterior2nd_VinylSd   \n",
       "10582                        HouseStyle_1.5Fin   \n",
       "3499                                GarageArea   \n",
       "12370                      Exterior2nd_HdBoard   \n",
       "3249                               FireplaceQu   \n",
       "1623                                  1stFlrSF   \n",
       "2992                              TotRmsAbvGrd   \n",
       "10802                        HouseStyle_2Story   \n",
       "12245              Exterior2nd_Exterior2nd_Oth   \n",
       "10708                        HouseStyle_1Story   \n",
       "10838                        HouseStyle_2Story   \n",
       "12620                      Exterior2nd_Plywood   \n",
       "6470   MSSubClass_DUPLEX - ALL STYLES AND AGES   \n",
       "2857                               KitchenQual   \n",
       "622                                  ExterQual   \n",
       "10223                     Neighborhood_Somerst   \n",
       "\n",
       "                                             VAR2  CORELATION  \n",
       "12495                         Exterior1st_MetalSd    0.978826  \n",
       "12745                         Exterior1st_VinylSd    0.973847  \n",
       "10582    MSSubClass_1-1/2 STORY FINISHED ALL AGES    0.927742  \n",
       "3499                                   GarageCars    0.890243  \n",
       "12370                         Exterior1st_HdBoard    0.869566  \n",
       "3249                                   Fireplaces    0.864212  \n",
       "1623                                  TotalBsmtSF    0.816297  \n",
       "2992                                    GrLivArea    0.808463  \n",
       "10802                                    2ndFlrSF    0.807479  \n",
       "12245                 Exterior1st_Exterior1st_Oth    0.789255  \n",
       "10708  MSSubClass_1-STORY 1946 & NEWER ALL STYLES    0.750408  \n",
       "10838             MSSubClass_2-STORY 1946 & NEWER    0.745576  \n",
       "12620                         Exterior1st_Plywood    0.740996  \n",
       "6470                                 KitchenAbvGr    0.723208  \n",
       "2857                                    ExterQual    0.721145  \n",
       "622                                   OverallQual    0.717270  \n",
       "10223                       MSZoning_MSZoning_Oth    0.702411  "
      ]
     },
     "execution_count": 4401,
     "metadata": {},
     "output_type": "execute_result"
    }
   ],
   "source": [
    "corrdf=corr.where(np.triu(np.ones(corr.shape),k=1).astype(np.bool)).unstack().reset_index()\n",
    "corrdf.columns =  ['VAR1','VAR2','CORELATION']\n",
    "corrdf.dropna(subset=['CORELATION'],inplace=True)\n",
    "corr_top10_Positive=corrdf.sort_values('CORELATION',ascending=False)\n",
    "corr_top10_Negative=corrdf.sort_values('CORELATION',ascending=True)\n",
    "corr_top10_Positive[corr_top10_Positive['CORELATION']>.7]"
   ]
  },
  {
   "cell_type": "markdown",
   "metadata": {},
   "source": [
    "Pick attributes with correlation less than -.7 - High-Negative Correlated"
   ]
  },
  {
   "cell_type": "code",
   "execution_count": 4402,
   "metadata": {},
   "outputs": [
    {
     "data": {
      "text/html": [
       "<div>\n",
       "<style scoped>\n",
       "    .dataframe tbody tr th:only-of-type {\n",
       "        vertical-align: middle;\n",
       "    }\n",
       "\n",
       "    .dataframe tbody tr th {\n",
       "        vertical-align: top;\n",
       "    }\n",
       "\n",
       "    .dataframe thead th {\n",
       "        text-align: right;\n",
       "    }\n",
       "</style>\n",
       "<table border=\"1\" class=\"dataframe\">\n",
       "  <thead>\n",
       "    <tr style=\"text-align: right;\">\n",
       "      <th></th>\n",
       "      <th>VAR1</th>\n",
       "      <th>VAR2</th>\n",
       "      <th>CORELATION</th>\n",
       "    </tr>\n",
       "  </thead>\n",
       "  <tbody>\n",
       "    <tr>\n",
       "      <td>11373</td>\n",
       "      <td>RoofStyle_Hip</td>\n",
       "      <td>RoofStyle_Gable</td>\n",
       "      <td>-0.942500</td>\n",
       "    </tr>\n",
       "    <tr>\n",
       "      <td>13124</td>\n",
       "      <td>MasVnrType_None</td>\n",
       "      <td>MasVnrType_BrkFace</td>\n",
       "      <td>-0.799311</td>\n",
       "    </tr>\n",
       "    <tr>\n",
       "      <td>10678</td>\n",
       "      <td>HouseStyle_1Story</td>\n",
       "      <td>2ndFlrSF</td>\n",
       "      <td>-0.775245</td>\n",
       "    </tr>\n",
       "    <tr>\n",
       "      <td>7499</td>\n",
       "      <td>LotConfig_Inside</td>\n",
       "      <td>LotConfig_Corner</td>\n",
       "      <td>-0.764642</td>\n",
       "    </tr>\n",
       "    <tr>\n",
       "      <td>14996</td>\n",
       "      <td>GarageType_Detchd</td>\n",
       "      <td>GarageType_Attchd</td>\n",
       "      <td>-0.726289</td>\n",
       "    </tr>\n",
       "  </tbody>\n",
       "</table>\n",
       "</div>"
      ],
      "text/plain": [
       "                    VAR1                VAR2  CORELATION\n",
       "11373      RoofStyle_Hip     RoofStyle_Gable   -0.942500\n",
       "13124    MasVnrType_None  MasVnrType_BrkFace   -0.799311\n",
       "10678  HouseStyle_1Story            2ndFlrSF   -0.775245\n",
       "7499    LotConfig_Inside    LotConfig_Corner   -0.764642\n",
       "14996  GarageType_Detchd   GarageType_Attchd   -0.726289"
      ]
     },
     "execution_count": 4402,
     "metadata": {},
     "output_type": "execute_result"
    }
   ],
   "source": [
    "corr_top10_Negative[corr_top10_Negative['CORELATION']<-.7]"
   ]
  },
  {
   "cell_type": "markdown",
   "metadata": {},
   "source": [
    "Lets make it easier for Model by manually dropping highly correlated variables."
   ]
  },
  {
   "cell_type": "code",
   "execution_count": 4403,
   "metadata": {},
   "outputs": [],
   "source": [
    "X_train = X_train.drop(['Exterior2nd_MetalSd',\n",
    "'Exterior2nd_VinylSd',\n",
    "'HouseStyle_1.5Fin',\n",
    "'GarageArea',\n",
    "'Exterior2nd_HdBoard',\n",
    "'1stFlrSF',\n",
    "'TotRmsAbvGrd',\n",
    "'HouseStyle_2Story',\n",
    "'Exterior2nd_Exterior2nd_Oth',\n",
    "'HouseStyle_1Story',\n",
    "'HouseStyle_2Story',\n",
    "'Exterior2nd_Plywood',\n",
    "'MSSubClass_DUPLEX - ALL STYLES AND AGES',\n",
    "'KitchenQual',\n",
    "'Neighborhood_Somerst',\n",
    "'RoofStyle_Hip',\n",
    "'FireplaceQu',\n",
    "'MasVnrType_None',\n",
    "'HouseStyle_1Story',\n",
    "'LotConfig_Inside',\n",
    "'GarageType_Detchd',\n",
    "'ExterQual'                   \n",
    "], axis = 1)"
   ]
  },
  {
   "cell_type": "code",
   "execution_count": 4404,
   "metadata": {},
   "outputs": [
    {
     "data": {
      "text/plain": [
       "(1021, 104)"
      ]
     },
     "execution_count": 4404,
     "metadata": {},
     "output_type": "execute_result"
    }
   ],
   "source": [
    "X_train.shape"
   ]
  },
  {
   "cell_type": "markdown",
   "metadata": {},
   "source": [
    "Perform RFE and select top #50 features"
   ]
  },
  {
   "cell_type": "code",
   "execution_count": 4405,
   "metadata": {},
   "outputs": [],
   "source": [
    "# Importing RFE and LinearRegression\n",
    "from sklearn.feature_selection import RFE\n",
    "from sklearn.linear_model import LinearRegression\n",
    "\n",
    "model_1 = LinearRegression()\n",
    "model_1.fit(X_train, y_train)\n",
    "\n",
    "rfe = RFE(model_1, 50)             # running RFE\n",
    "rfe = rfe.fit(X_train, y_train)"
   ]
  },
  {
   "cell_type": "code",
   "execution_count": 4406,
   "metadata": {},
   "outputs": [
    {
     "data": {
      "text/plain": [
       "Index(['OverallQual', 'OverallCond', 'BsmtQual', 'BsmtFinSF1', 'BsmtFinSF2',\n",
       "       'BsmtUnfSF', 'GrLivArea', 'BsmtFullBath', 'Fireplaces', 'GarageCars',\n",
       "       'YearBuilt_Age', 'YearRemodAdd_Age', 'MSSubClass_1-STORY 1945 & OLDER',\n",
       "       'MSSubClass_1-STORY PUD (Planned Unit Development) - 1946 & NEWER',\n",
       "       'MSSubClass_2-STORY 1946 & NEWER',\n",
       "       'MSSubClass_2-STORY PUD - 1946 & NEWER',\n",
       "       'MSSubClass_PUD - MULTILEVEL - INCL SPLIT LEV/FOYER',\n",
       "       'MSZoning_MSZoning_Oth', 'Neighborhood_Blmngtn', 'Neighborhood_BrDale',\n",
       "       'Neighborhood_BrkSide', 'Neighborhood_CollgCr', 'Neighborhood_Edwards',\n",
       "       'Neighborhood_Gilbert', 'Neighborhood_IDOTRR', 'Neighborhood_MeadowV',\n",
       "       'Neighborhood_Mitchel', 'Neighborhood_NAmes', 'Neighborhood_NPkVill',\n",
       "       'Neighborhood_NWAmes', 'Neighborhood_NridgHt', 'Neighborhood_OldTown',\n",
       "       'Neighborhood_SWISU', 'Neighborhood_Sawyer', 'Neighborhood_SawyerW',\n",
       "       'Neighborhood_StoneBr', 'Neighborhood_Timber', 'RoofStyle_Mansard',\n",
       "       'Foundation_BrkTil', 'BsmtFinType1_ALQ', 'BsmtFinType1_BLQ',\n",
       "       'BsmtFinType1_GLQ', 'BsmtFinType1_LwQ', 'BsmtFinType1_Rec',\n",
       "       'GarageType_2Types', 'GarageType_Basment', 'GarageType_BuiltIn',\n",
       "       'GarageType_CarPort', 'GarageFinish_Fin', 'GarageFinish_RFn'],\n",
       "      dtype='object')"
      ]
     },
     "execution_count": 4406,
     "metadata": {},
     "output_type": "execute_result"
    }
   ],
   "source": [
    "col = X_train.columns[rfe.support_]\n",
    "col"
   ]
  },
  {
   "cell_type": "code",
   "execution_count": 4407,
   "metadata": {},
   "outputs": [],
   "source": [
    "# Creating X_test dataframe with RFE selected variables\n",
    "X_train = X_train[col]"
   ]
  },
  {
   "cell_type": "markdown",
   "metadata": {},
   "source": [
    "Scale Test Variables"
   ]
  },
  {
   "cell_type": "code",
   "execution_count": 4408,
   "metadata": {},
   "outputs": [
    {
     "data": {
      "text/html": [
       "<div>\n",
       "<style scoped>\n",
       "    .dataframe tbody tr th:only-of-type {\n",
       "        vertical-align: middle;\n",
       "    }\n",
       "\n",
       "    .dataframe tbody tr th {\n",
       "        vertical-align: top;\n",
       "    }\n",
       "\n",
       "    .dataframe thead th {\n",
       "        text-align: right;\n",
       "    }\n",
       "</style>\n",
       "<table border=\"1\" class=\"dataframe\">\n",
       "  <thead>\n",
       "    <tr style=\"text-align: right;\">\n",
       "      <th></th>\n",
       "      <th>OverallQual</th>\n",
       "      <th>OverallCond</th>\n",
       "      <th>BsmtQual</th>\n",
       "      <th>BsmtFinSF1</th>\n",
       "      <th>BsmtFinSF2</th>\n",
       "      <th>BsmtUnfSF</th>\n",
       "      <th>GrLivArea</th>\n",
       "      <th>BsmtFullBath</th>\n",
       "      <th>Fireplaces</th>\n",
       "      <th>GarageCars</th>\n",
       "      <th>YearBuilt_Age</th>\n",
       "      <th>YearRemodAdd_Age</th>\n",
       "      <th>MSSubClass_1-STORY 1945 &amp; OLDER</th>\n",
       "      <th>MSSubClass_1-STORY PUD (Planned Unit Development) - 1946 &amp; NEWER</th>\n",
       "      <th>MSSubClass_2-STORY 1946 &amp; NEWER</th>\n",
       "      <th>MSSubClass_2-STORY PUD - 1946 &amp; NEWER</th>\n",
       "      <th>MSSubClass_PUD - MULTILEVEL - INCL SPLIT LEV/FOYER</th>\n",
       "      <th>MSZoning_MSZoning_Oth</th>\n",
       "      <th>Neighborhood_Blmngtn</th>\n",
       "      <th>Neighborhood_BrDale</th>\n",
       "      <th>Neighborhood_BrkSide</th>\n",
       "      <th>Neighborhood_CollgCr</th>\n",
       "      <th>Neighborhood_Edwards</th>\n",
       "      <th>Neighborhood_Gilbert</th>\n",
       "      <th>Neighborhood_IDOTRR</th>\n",
       "      <th>Neighborhood_MeadowV</th>\n",
       "      <th>Neighborhood_Mitchel</th>\n",
       "      <th>Neighborhood_NAmes</th>\n",
       "      <th>Neighborhood_NPkVill</th>\n",
       "      <th>Neighborhood_NWAmes</th>\n",
       "      <th>Neighborhood_NridgHt</th>\n",
       "      <th>Neighborhood_OldTown</th>\n",
       "      <th>Neighborhood_SWISU</th>\n",
       "      <th>Neighborhood_Sawyer</th>\n",
       "      <th>Neighborhood_SawyerW</th>\n",
       "      <th>Neighborhood_StoneBr</th>\n",
       "      <th>Neighborhood_Timber</th>\n",
       "      <th>RoofStyle_Mansard</th>\n",
       "      <th>Foundation_BrkTil</th>\n",
       "      <th>BsmtFinType1_ALQ</th>\n",
       "      <th>BsmtFinType1_BLQ</th>\n",
       "      <th>BsmtFinType1_GLQ</th>\n",
       "      <th>BsmtFinType1_LwQ</th>\n",
       "      <th>BsmtFinType1_Rec</th>\n",
       "      <th>GarageType_2Types</th>\n",
       "      <th>GarageType_Basment</th>\n",
       "      <th>GarageType_BuiltIn</th>\n",
       "      <th>GarageType_CarPort</th>\n",
       "      <th>GarageFinish_Fin</th>\n",
       "      <th>GarageFinish_RFn</th>\n",
       "    </tr>\n",
       "  </thead>\n",
       "  <tbody>\n",
       "    <tr>\n",
       "      <td>1436</td>\n",
       "      <td>4</td>\n",
       "      <td>6</td>\n",
       "      <td>3</td>\n",
       "      <td>616</td>\n",
       "      <td>0</td>\n",
       "      <td>248</td>\n",
       "      <td>864</td>\n",
       "      <td>0</td>\n",
       "      <td>0</td>\n",
       "      <td>2</td>\n",
       "      <td>49</td>\n",
       "      <td>49</td>\n",
       "      <td>0</td>\n",
       "      <td>0</td>\n",
       "      <td>0</td>\n",
       "      <td>0</td>\n",
       "      <td>0</td>\n",
       "      <td>0</td>\n",
       "      <td>0</td>\n",
       "      <td>0</td>\n",
       "      <td>0</td>\n",
       "      <td>0</td>\n",
       "      <td>0</td>\n",
       "      <td>0</td>\n",
       "      <td>0</td>\n",
       "      <td>0</td>\n",
       "      <td>0</td>\n",
       "      <td>1</td>\n",
       "      <td>0</td>\n",
       "      <td>0</td>\n",
       "      <td>0</td>\n",
       "      <td>0</td>\n",
       "      <td>0</td>\n",
       "      <td>0</td>\n",
       "      <td>0</td>\n",
       "      <td>0</td>\n",
       "      <td>0</td>\n",
       "      <td>0</td>\n",
       "      <td>0</td>\n",
       "      <td>1</td>\n",
       "      <td>0</td>\n",
       "      <td>0</td>\n",
       "      <td>0</td>\n",
       "      <td>0</td>\n",
       "      <td>0</td>\n",
       "      <td>0</td>\n",
       "      <td>0</td>\n",
       "      <td>0</td>\n",
       "      <td>0</td>\n",
       "      <td>0</td>\n",
       "    </tr>\n",
       "    <tr>\n",
       "      <td>57</td>\n",
       "      <td>7</td>\n",
       "      <td>5</td>\n",
       "      <td>4</td>\n",
       "      <td>0</td>\n",
       "      <td>0</td>\n",
       "      <td>860</td>\n",
       "      <td>1720</td>\n",
       "      <td>0</td>\n",
       "      <td>0</td>\n",
       "      <td>2</td>\n",
       "      <td>16</td>\n",
       "      <td>16</td>\n",
       "      <td>0</td>\n",
       "      <td>0</td>\n",
       "      <td>1</td>\n",
       "      <td>0</td>\n",
       "      <td>0</td>\n",
       "      <td>0</td>\n",
       "      <td>0</td>\n",
       "      <td>0</td>\n",
       "      <td>0</td>\n",
       "      <td>1</td>\n",
       "      <td>0</td>\n",
       "      <td>0</td>\n",
       "      <td>0</td>\n",
       "      <td>0</td>\n",
       "      <td>0</td>\n",
       "      <td>0</td>\n",
       "      <td>0</td>\n",
       "      <td>0</td>\n",
       "      <td>0</td>\n",
       "      <td>0</td>\n",
       "      <td>0</td>\n",
       "      <td>0</td>\n",
       "      <td>0</td>\n",
       "      <td>0</td>\n",
       "      <td>0</td>\n",
       "      <td>0</td>\n",
       "      <td>0</td>\n",
       "      <td>0</td>\n",
       "      <td>0</td>\n",
       "      <td>0</td>\n",
       "      <td>0</td>\n",
       "      <td>0</td>\n",
       "      <td>0</td>\n",
       "      <td>0</td>\n",
       "      <td>0</td>\n",
       "      <td>0</td>\n",
       "      <td>0</td>\n",
       "      <td>1</td>\n",
       "    </tr>\n",
       "    <tr>\n",
       "      <td>780</td>\n",
       "      <td>7</td>\n",
       "      <td>5</td>\n",
       "      <td>4</td>\n",
       "      <td>0</td>\n",
       "      <td>0</td>\n",
       "      <td>1237</td>\n",
       "      <td>1253</td>\n",
       "      <td>0</td>\n",
       "      <td>1</td>\n",
       "      <td>2</td>\n",
       "      <td>25</td>\n",
       "      <td>24</td>\n",
       "      <td>0</td>\n",
       "      <td>0</td>\n",
       "      <td>0</td>\n",
       "      <td>0</td>\n",
       "      <td>0</td>\n",
       "      <td>0</td>\n",
       "      <td>0</td>\n",
       "      <td>0</td>\n",
       "      <td>0</td>\n",
       "      <td>0</td>\n",
       "      <td>0</td>\n",
       "      <td>1</td>\n",
       "      <td>0</td>\n",
       "      <td>0</td>\n",
       "      <td>0</td>\n",
       "      <td>0</td>\n",
       "      <td>0</td>\n",
       "      <td>0</td>\n",
       "      <td>0</td>\n",
       "      <td>0</td>\n",
       "      <td>0</td>\n",
       "      <td>0</td>\n",
       "      <td>0</td>\n",
       "      <td>0</td>\n",
       "      <td>0</td>\n",
       "      <td>0</td>\n",
       "      <td>0</td>\n",
       "      <td>0</td>\n",
       "      <td>0</td>\n",
       "      <td>0</td>\n",
       "      <td>0</td>\n",
       "      <td>0</td>\n",
       "      <td>0</td>\n",
       "      <td>0</td>\n",
       "      <td>0</td>\n",
       "      <td>0</td>\n",
       "      <td>1</td>\n",
       "      <td>0</td>\n",
       "    </tr>\n",
       "    <tr>\n",
       "      <td>382</td>\n",
       "      <td>7</td>\n",
       "      <td>5</td>\n",
       "      <td>4</td>\n",
       "      <td>0</td>\n",
       "      <td>0</td>\n",
       "      <td>939</td>\n",
       "      <td>1797</td>\n",
       "      <td>0</td>\n",
       "      <td>0</td>\n",
       "      <td>2</td>\n",
       "      <td>14</td>\n",
       "      <td>14</td>\n",
       "      <td>0</td>\n",
       "      <td>0</td>\n",
       "      <td>1</td>\n",
       "      <td>0</td>\n",
       "      <td>0</td>\n",
       "      <td>0</td>\n",
       "      <td>0</td>\n",
       "      <td>0</td>\n",
       "      <td>0</td>\n",
       "      <td>1</td>\n",
       "      <td>0</td>\n",
       "      <td>0</td>\n",
       "      <td>0</td>\n",
       "      <td>0</td>\n",
       "      <td>0</td>\n",
       "      <td>0</td>\n",
       "      <td>0</td>\n",
       "      <td>0</td>\n",
       "      <td>0</td>\n",
       "      <td>0</td>\n",
       "      <td>0</td>\n",
       "      <td>0</td>\n",
       "      <td>0</td>\n",
       "      <td>0</td>\n",
       "      <td>0</td>\n",
       "      <td>0</td>\n",
       "      <td>0</td>\n",
       "      <td>0</td>\n",
       "      <td>0</td>\n",
       "      <td>0</td>\n",
       "      <td>0</td>\n",
       "      <td>0</td>\n",
       "      <td>0</td>\n",
       "      <td>0</td>\n",
       "      <td>0</td>\n",
       "      <td>0</td>\n",
       "      <td>0</td>\n",
       "      <td>1</td>\n",
       "    </tr>\n",
       "    <tr>\n",
       "      <td>1170</td>\n",
       "      <td>6</td>\n",
       "      <td>6</td>\n",
       "      <td>3</td>\n",
       "      <td>522</td>\n",
       "      <td>0</td>\n",
       "      <td>574</td>\n",
       "      <td>1118</td>\n",
       "      <td>1</td>\n",
       "      <td>1</td>\n",
       "      <td>1</td>\n",
       "      <td>43</td>\n",
       "      <td>43</td>\n",
       "      <td>0</td>\n",
       "      <td>0</td>\n",
       "      <td>0</td>\n",
       "      <td>0</td>\n",
       "      <td>0</td>\n",
       "      <td>0</td>\n",
       "      <td>0</td>\n",
       "      <td>0</td>\n",
       "      <td>0</td>\n",
       "      <td>0</td>\n",
       "      <td>0</td>\n",
       "      <td>0</td>\n",
       "      <td>0</td>\n",
       "      <td>0</td>\n",
       "      <td>1</td>\n",
       "      <td>0</td>\n",
       "      <td>0</td>\n",
       "      <td>0</td>\n",
       "      <td>0</td>\n",
       "      <td>0</td>\n",
       "      <td>0</td>\n",
       "      <td>0</td>\n",
       "      <td>0</td>\n",
       "      <td>0</td>\n",
       "      <td>0</td>\n",
       "      <td>0</td>\n",
       "      <td>0</td>\n",
       "      <td>1</td>\n",
       "      <td>0</td>\n",
       "      <td>0</td>\n",
       "      <td>0</td>\n",
       "      <td>0</td>\n",
       "      <td>0</td>\n",
       "      <td>0</td>\n",
       "      <td>0</td>\n",
       "      <td>0</td>\n",
       "      <td>1</td>\n",
       "      <td>0</td>\n",
       "    </tr>\n",
       "  </tbody>\n",
       "</table>\n",
       "</div>"
      ],
      "text/plain": [
       "      OverallQual  OverallCond  BsmtQual  BsmtFinSF1  BsmtFinSF2  BsmtUnfSF  \\\n",
       "1436            4            6         3         616           0        248   \n",
       "57              7            5         4           0           0        860   \n",
       "780             7            5         4           0           0       1237   \n",
       "382             7            5         4           0           0        939   \n",
       "1170            6            6         3         522           0        574   \n",
       "\n",
       "      GrLivArea  BsmtFullBath  Fireplaces  GarageCars  YearBuilt_Age  \\\n",
       "1436        864             0           0           2             49   \n",
       "57         1720             0           0           2             16   \n",
       "780        1253             0           1           2             25   \n",
       "382        1797             0           0           2             14   \n",
       "1170       1118             1           1           1             43   \n",
       "\n",
       "      YearRemodAdd_Age  MSSubClass_1-STORY 1945 & OLDER  \\\n",
       "1436                49                                0   \n",
       "57                  16                                0   \n",
       "780                 24                                0   \n",
       "382                 14                                0   \n",
       "1170                43                                0   \n",
       "\n",
       "      MSSubClass_1-STORY PUD (Planned Unit Development) - 1946 & NEWER  \\\n",
       "1436                                                  0                  \n",
       "57                                                    0                  \n",
       "780                                                   0                  \n",
       "382                                                   0                  \n",
       "1170                                                  0                  \n",
       "\n",
       "      MSSubClass_2-STORY 1946 & NEWER  MSSubClass_2-STORY PUD - 1946 & NEWER  \\\n",
       "1436                                0                                      0   \n",
       "57                                  1                                      0   \n",
       "780                                 0                                      0   \n",
       "382                                 1                                      0   \n",
       "1170                                0                                      0   \n",
       "\n",
       "      MSSubClass_PUD - MULTILEVEL - INCL SPLIT LEV/FOYER  \\\n",
       "1436                                                  0    \n",
       "57                                                    0    \n",
       "780                                                   0    \n",
       "382                                                   0    \n",
       "1170                                                  0    \n",
       "\n",
       "      MSZoning_MSZoning_Oth  Neighborhood_Blmngtn  Neighborhood_BrDale  \\\n",
       "1436                      0                     0                    0   \n",
       "57                        0                     0                    0   \n",
       "780                       0                     0                    0   \n",
       "382                       0                     0                    0   \n",
       "1170                      0                     0                    0   \n",
       "\n",
       "      Neighborhood_BrkSide  Neighborhood_CollgCr  Neighborhood_Edwards  \\\n",
       "1436                     0                     0                     0   \n",
       "57                       0                     1                     0   \n",
       "780                      0                     0                     0   \n",
       "382                      0                     1                     0   \n",
       "1170                     0                     0                     0   \n",
       "\n",
       "      Neighborhood_Gilbert  Neighborhood_IDOTRR  Neighborhood_MeadowV  \\\n",
       "1436                     0                    0                     0   \n",
       "57                       0                    0                     0   \n",
       "780                      1                    0                     0   \n",
       "382                      0                    0                     0   \n",
       "1170                     0                    0                     0   \n",
       "\n",
       "      Neighborhood_Mitchel  Neighborhood_NAmes  Neighborhood_NPkVill  \\\n",
       "1436                     0                   1                     0   \n",
       "57                       0                   0                     0   \n",
       "780                      0                   0                     0   \n",
       "382                      0                   0                     0   \n",
       "1170                     1                   0                     0   \n",
       "\n",
       "      Neighborhood_NWAmes  Neighborhood_NridgHt  Neighborhood_OldTown  \\\n",
       "1436                    0                     0                     0   \n",
       "57                      0                     0                     0   \n",
       "780                     0                     0                     0   \n",
       "382                     0                     0                     0   \n",
       "1170                    0                     0                     0   \n",
       "\n",
       "      Neighborhood_SWISU  Neighborhood_Sawyer  Neighborhood_SawyerW  \\\n",
       "1436                   0                    0                     0   \n",
       "57                     0                    0                     0   \n",
       "780                    0                    0                     0   \n",
       "382                    0                    0                     0   \n",
       "1170                   0                    0                     0   \n",
       "\n",
       "      Neighborhood_StoneBr  Neighborhood_Timber  RoofStyle_Mansard  \\\n",
       "1436                     0                    0                  0   \n",
       "57                       0                    0                  0   \n",
       "780                      0                    0                  0   \n",
       "382                      0                    0                  0   \n",
       "1170                     0                    0                  0   \n",
       "\n",
       "      Foundation_BrkTil  BsmtFinType1_ALQ  BsmtFinType1_BLQ  BsmtFinType1_GLQ  \\\n",
       "1436                  0                 1                 0                 0   \n",
       "57                    0                 0                 0                 0   \n",
       "780                   0                 0                 0                 0   \n",
       "382                   0                 0                 0                 0   \n",
       "1170                  0                 1                 0                 0   \n",
       "\n",
       "      BsmtFinType1_LwQ  BsmtFinType1_Rec  GarageType_2Types  \\\n",
       "1436                 0                 0                  0   \n",
       "57                   0                 0                  0   \n",
       "780                  0                 0                  0   \n",
       "382                  0                 0                  0   \n",
       "1170                 0                 0                  0   \n",
       "\n",
       "      GarageType_Basment  GarageType_BuiltIn  GarageType_CarPort  \\\n",
       "1436                   0                   0                   0   \n",
       "57                     0                   0                   0   \n",
       "780                    0                   0                   0   \n",
       "382                    0                   0                   0   \n",
       "1170                   0                   0                   0   \n",
       "\n",
       "      GarageFinish_Fin  GarageFinish_RFn  \n",
       "1436                 0                 0  \n",
       "57                   0                 1  \n",
       "780                  1                 0  \n",
       "382                  0                 1  \n",
       "1170                 1                 0  "
      ]
     },
     "execution_count": 4408,
     "metadata": {},
     "output_type": "execute_result"
    }
   ],
   "source": [
    "X_test = X_test[col]\n",
    "X_test.head()"
   ]
  },
  {
   "cell_type": "code",
   "execution_count": 4409,
   "metadata": {},
   "outputs": [
    {
     "data": {
      "text/plain": [
       "Index(['OverallQual', 'OverallCond', 'BsmtQual', 'BsmtFinSF1', 'BsmtFinSF2',\n",
       "       'BsmtUnfSF', 'GrLivArea', 'BsmtFullBath', 'Fireplaces', 'GarageCars',\n",
       "       'YearBuilt_Age', 'YearRemodAdd_Age'],\n",
       "      dtype='object')"
      ]
     },
     "execution_count": 4409,
     "metadata": {},
     "output_type": "execute_result"
    }
   ],
   "source": [
    "int_var_X_test = X_test.select_dtypes(include='int64').columns\n",
    "int_var_X_test"
   ]
  },
  {
   "cell_type": "code",
   "execution_count": 4410,
   "metadata": {},
   "outputs": [
    {
     "data": {
      "text/html": [
       "<div>\n",
       "<style scoped>\n",
       "    .dataframe tbody tr th:only-of-type {\n",
       "        vertical-align: middle;\n",
       "    }\n",
       "\n",
       "    .dataframe tbody tr th {\n",
       "        vertical-align: top;\n",
       "    }\n",
       "\n",
       "    .dataframe thead th {\n",
       "        text-align: right;\n",
       "    }\n",
       "</style>\n",
       "<table border=\"1\" class=\"dataframe\">\n",
       "  <thead>\n",
       "    <tr style=\"text-align: right;\">\n",
       "      <th></th>\n",
       "      <th>OverallQual</th>\n",
       "      <th>OverallCond</th>\n",
       "      <th>BsmtQual</th>\n",
       "      <th>BsmtFinSF1</th>\n",
       "      <th>BsmtFinSF2</th>\n",
       "      <th>BsmtUnfSF</th>\n",
       "      <th>GrLivArea</th>\n",
       "      <th>BsmtFullBath</th>\n",
       "      <th>Fireplaces</th>\n",
       "      <th>GarageCars</th>\n",
       "      <th>YearBuilt_Age</th>\n",
       "      <th>YearRemodAdd_Age</th>\n",
       "      <th>MSSubClass_1-STORY 1945 &amp; OLDER</th>\n",
       "      <th>MSSubClass_1-STORY PUD (Planned Unit Development) - 1946 &amp; NEWER</th>\n",
       "      <th>MSSubClass_2-STORY 1946 &amp; NEWER</th>\n",
       "      <th>MSSubClass_2-STORY PUD - 1946 &amp; NEWER</th>\n",
       "      <th>MSSubClass_PUD - MULTILEVEL - INCL SPLIT LEV/FOYER</th>\n",
       "      <th>MSZoning_MSZoning_Oth</th>\n",
       "      <th>Neighborhood_Blmngtn</th>\n",
       "      <th>Neighborhood_BrDale</th>\n",
       "      <th>Neighborhood_BrkSide</th>\n",
       "      <th>Neighborhood_CollgCr</th>\n",
       "      <th>Neighborhood_Edwards</th>\n",
       "      <th>Neighborhood_Gilbert</th>\n",
       "      <th>Neighborhood_IDOTRR</th>\n",
       "      <th>Neighborhood_MeadowV</th>\n",
       "      <th>Neighborhood_Mitchel</th>\n",
       "      <th>Neighborhood_NAmes</th>\n",
       "      <th>Neighborhood_NPkVill</th>\n",
       "      <th>Neighborhood_NWAmes</th>\n",
       "      <th>Neighborhood_NridgHt</th>\n",
       "      <th>Neighborhood_OldTown</th>\n",
       "      <th>Neighborhood_SWISU</th>\n",
       "      <th>Neighborhood_Sawyer</th>\n",
       "      <th>Neighborhood_SawyerW</th>\n",
       "      <th>Neighborhood_StoneBr</th>\n",
       "      <th>Neighborhood_Timber</th>\n",
       "      <th>RoofStyle_Mansard</th>\n",
       "      <th>Foundation_BrkTil</th>\n",
       "      <th>BsmtFinType1_ALQ</th>\n",
       "      <th>BsmtFinType1_BLQ</th>\n",
       "      <th>BsmtFinType1_GLQ</th>\n",
       "      <th>BsmtFinType1_LwQ</th>\n",
       "      <th>BsmtFinType1_Rec</th>\n",
       "      <th>GarageType_2Types</th>\n",
       "      <th>GarageType_Basment</th>\n",
       "      <th>GarageType_BuiltIn</th>\n",
       "      <th>GarageType_CarPort</th>\n",
       "      <th>GarageFinish_Fin</th>\n",
       "      <th>GarageFinish_RFn</th>\n",
       "    </tr>\n",
       "  </thead>\n",
       "  <tbody>\n",
       "    <tr>\n",
       "      <td>1436</td>\n",
       "      <td>-1.574844</td>\n",
       "      <td>0.377745</td>\n",
       "      <td>-0.624812</td>\n",
       "      <td>0.420867</td>\n",
       "      <td>-0.281532</td>\n",
       "      <td>-0.769869</td>\n",
       "      <td>-1.268092</td>\n",
       "      <td>-0.778198</td>\n",
       "      <td>-1.011862</td>\n",
       "      <td>0.321299</td>\n",
       "      <td>0.008329</td>\n",
       "      <td>0.660525</td>\n",
       "      <td>0</td>\n",
       "      <td>0</td>\n",
       "      <td>0</td>\n",
       "      <td>0</td>\n",
       "      <td>0</td>\n",
       "      <td>0</td>\n",
       "      <td>0</td>\n",
       "      <td>0</td>\n",
       "      <td>0</td>\n",
       "      <td>0</td>\n",
       "      <td>0</td>\n",
       "      <td>0</td>\n",
       "      <td>0</td>\n",
       "      <td>0</td>\n",
       "      <td>0</td>\n",
       "      <td>1</td>\n",
       "      <td>0</td>\n",
       "      <td>0</td>\n",
       "      <td>0</td>\n",
       "      <td>0</td>\n",
       "      <td>0</td>\n",
       "      <td>0</td>\n",
       "      <td>0</td>\n",
       "      <td>0</td>\n",
       "      <td>0</td>\n",
       "      <td>0</td>\n",
       "      <td>0</td>\n",
       "      <td>1</td>\n",
       "      <td>0</td>\n",
       "      <td>0</td>\n",
       "      <td>0</td>\n",
       "      <td>0</td>\n",
       "      <td>0</td>\n",
       "      <td>0</td>\n",
       "      <td>0</td>\n",
       "      <td>0</td>\n",
       "      <td>0</td>\n",
       "      <td>0</td>\n",
       "    </tr>\n",
       "    <tr>\n",
       "      <td>57</td>\n",
       "      <td>0.657459</td>\n",
       "      <td>-0.483986</td>\n",
       "      <td>0.596918</td>\n",
       "      <td>-0.996087</td>\n",
       "      <td>-0.281532</td>\n",
       "      <td>0.667564</td>\n",
       "      <td>0.410443</td>\n",
       "      <td>-0.778198</td>\n",
       "      <td>-1.011862</td>\n",
       "      <td>0.321299</td>\n",
       "      <td>-1.096127</td>\n",
       "      <td>-0.934135</td>\n",
       "      <td>0</td>\n",
       "      <td>0</td>\n",
       "      <td>1</td>\n",
       "      <td>0</td>\n",
       "      <td>0</td>\n",
       "      <td>0</td>\n",
       "      <td>0</td>\n",
       "      <td>0</td>\n",
       "      <td>0</td>\n",
       "      <td>1</td>\n",
       "      <td>0</td>\n",
       "      <td>0</td>\n",
       "      <td>0</td>\n",
       "      <td>0</td>\n",
       "      <td>0</td>\n",
       "      <td>0</td>\n",
       "      <td>0</td>\n",
       "      <td>0</td>\n",
       "      <td>0</td>\n",
       "      <td>0</td>\n",
       "      <td>0</td>\n",
       "      <td>0</td>\n",
       "      <td>0</td>\n",
       "      <td>0</td>\n",
       "      <td>0</td>\n",
       "      <td>0</td>\n",
       "      <td>0</td>\n",
       "      <td>0</td>\n",
       "      <td>0</td>\n",
       "      <td>0</td>\n",
       "      <td>0</td>\n",
       "      <td>0</td>\n",
       "      <td>0</td>\n",
       "      <td>0</td>\n",
       "      <td>0</td>\n",
       "      <td>0</td>\n",
       "      <td>0</td>\n",
       "      <td>1</td>\n",
       "    </tr>\n",
       "    <tr>\n",
       "      <td>780</td>\n",
       "      <td>0.657459</td>\n",
       "      <td>-0.483986</td>\n",
       "      <td>0.596918</td>\n",
       "      <td>-0.996087</td>\n",
       "      <td>-0.281532</td>\n",
       "      <td>1.553042</td>\n",
       "      <td>-0.505300</td>\n",
       "      <td>-0.778198</td>\n",
       "      <td>0.548686</td>\n",
       "      <td>0.321299</td>\n",
       "      <td>-0.794912</td>\n",
       "      <td>-0.547551</td>\n",
       "      <td>0</td>\n",
       "      <td>0</td>\n",
       "      <td>0</td>\n",
       "      <td>0</td>\n",
       "      <td>0</td>\n",
       "      <td>0</td>\n",
       "      <td>0</td>\n",
       "      <td>0</td>\n",
       "      <td>0</td>\n",
       "      <td>0</td>\n",
       "      <td>0</td>\n",
       "      <td>1</td>\n",
       "      <td>0</td>\n",
       "      <td>0</td>\n",
       "      <td>0</td>\n",
       "      <td>0</td>\n",
       "      <td>0</td>\n",
       "      <td>0</td>\n",
       "      <td>0</td>\n",
       "      <td>0</td>\n",
       "      <td>0</td>\n",
       "      <td>0</td>\n",
       "      <td>0</td>\n",
       "      <td>0</td>\n",
       "      <td>0</td>\n",
       "      <td>0</td>\n",
       "      <td>0</td>\n",
       "      <td>0</td>\n",
       "      <td>0</td>\n",
       "      <td>0</td>\n",
       "      <td>0</td>\n",
       "      <td>0</td>\n",
       "      <td>0</td>\n",
       "      <td>0</td>\n",
       "      <td>0</td>\n",
       "      <td>0</td>\n",
       "      <td>1</td>\n",
       "      <td>0</td>\n",
       "    </tr>\n",
       "    <tr>\n",
       "      <td>382</td>\n",
       "      <td>0.657459</td>\n",
       "      <td>-0.483986</td>\n",
       "      <td>0.596918</td>\n",
       "      <td>-0.996087</td>\n",
       "      <td>-0.281532</td>\n",
       "      <td>0.853115</td>\n",
       "      <td>0.561432</td>\n",
       "      <td>-0.778198</td>\n",
       "      <td>-1.011862</td>\n",
       "      <td>0.321299</td>\n",
       "      <td>-1.163063</td>\n",
       "      <td>-1.030781</td>\n",
       "      <td>0</td>\n",
       "      <td>0</td>\n",
       "      <td>1</td>\n",
       "      <td>0</td>\n",
       "      <td>0</td>\n",
       "      <td>0</td>\n",
       "      <td>0</td>\n",
       "      <td>0</td>\n",
       "      <td>0</td>\n",
       "      <td>1</td>\n",
       "      <td>0</td>\n",
       "      <td>0</td>\n",
       "      <td>0</td>\n",
       "      <td>0</td>\n",
       "      <td>0</td>\n",
       "      <td>0</td>\n",
       "      <td>0</td>\n",
       "      <td>0</td>\n",
       "      <td>0</td>\n",
       "      <td>0</td>\n",
       "      <td>0</td>\n",
       "      <td>0</td>\n",
       "      <td>0</td>\n",
       "      <td>0</td>\n",
       "      <td>0</td>\n",
       "      <td>0</td>\n",
       "      <td>0</td>\n",
       "      <td>0</td>\n",
       "      <td>0</td>\n",
       "      <td>0</td>\n",
       "      <td>0</td>\n",
       "      <td>0</td>\n",
       "      <td>0</td>\n",
       "      <td>0</td>\n",
       "      <td>0</td>\n",
       "      <td>0</td>\n",
       "      <td>0</td>\n",
       "      <td>1</td>\n",
       "    </tr>\n",
       "    <tr>\n",
       "      <td>1170</td>\n",
       "      <td>-0.086642</td>\n",
       "      <td>0.377745</td>\n",
       "      <td>-0.624812</td>\n",
       "      <td>0.204644</td>\n",
       "      <td>-0.281532</td>\n",
       "      <td>-0.004177</td>\n",
       "      <td>-0.770022</td>\n",
       "      <td>1.215081</td>\n",
       "      <td>0.548686</td>\n",
       "      <td>-1.018978</td>\n",
       "      <td>-0.192481</td>\n",
       "      <td>0.370587</td>\n",
       "      <td>0</td>\n",
       "      <td>0</td>\n",
       "      <td>0</td>\n",
       "      <td>0</td>\n",
       "      <td>0</td>\n",
       "      <td>0</td>\n",
       "      <td>0</td>\n",
       "      <td>0</td>\n",
       "      <td>0</td>\n",
       "      <td>0</td>\n",
       "      <td>0</td>\n",
       "      <td>0</td>\n",
       "      <td>0</td>\n",
       "      <td>0</td>\n",
       "      <td>1</td>\n",
       "      <td>0</td>\n",
       "      <td>0</td>\n",
       "      <td>0</td>\n",
       "      <td>0</td>\n",
       "      <td>0</td>\n",
       "      <td>0</td>\n",
       "      <td>0</td>\n",
       "      <td>0</td>\n",
       "      <td>0</td>\n",
       "      <td>0</td>\n",
       "      <td>0</td>\n",
       "      <td>0</td>\n",
       "      <td>1</td>\n",
       "      <td>0</td>\n",
       "      <td>0</td>\n",
       "      <td>0</td>\n",
       "      <td>0</td>\n",
       "      <td>0</td>\n",
       "      <td>0</td>\n",
       "      <td>0</td>\n",
       "      <td>0</td>\n",
       "      <td>1</td>\n",
       "      <td>0</td>\n",
       "    </tr>\n",
       "  </tbody>\n",
       "</table>\n",
       "</div>"
      ],
      "text/plain": [
       "      OverallQual  OverallCond  BsmtQual  BsmtFinSF1  BsmtFinSF2  BsmtUnfSF  \\\n",
       "1436    -1.574844     0.377745 -0.624812    0.420867   -0.281532  -0.769869   \n",
       "57       0.657459    -0.483986  0.596918   -0.996087   -0.281532   0.667564   \n",
       "780      0.657459    -0.483986  0.596918   -0.996087   -0.281532   1.553042   \n",
       "382      0.657459    -0.483986  0.596918   -0.996087   -0.281532   0.853115   \n",
       "1170    -0.086642     0.377745 -0.624812    0.204644   -0.281532  -0.004177   \n",
       "\n",
       "      GrLivArea  BsmtFullBath  Fireplaces  GarageCars  YearBuilt_Age  \\\n",
       "1436  -1.268092     -0.778198   -1.011862    0.321299       0.008329   \n",
       "57     0.410443     -0.778198   -1.011862    0.321299      -1.096127   \n",
       "780   -0.505300     -0.778198    0.548686    0.321299      -0.794912   \n",
       "382    0.561432     -0.778198   -1.011862    0.321299      -1.163063   \n",
       "1170  -0.770022      1.215081    0.548686   -1.018978      -0.192481   \n",
       "\n",
       "      YearRemodAdd_Age  MSSubClass_1-STORY 1945 & OLDER  \\\n",
       "1436          0.660525                                0   \n",
       "57           -0.934135                                0   \n",
       "780          -0.547551                                0   \n",
       "382          -1.030781                                0   \n",
       "1170          0.370587                                0   \n",
       "\n",
       "      MSSubClass_1-STORY PUD (Planned Unit Development) - 1946 & NEWER  \\\n",
       "1436                                                  0                  \n",
       "57                                                    0                  \n",
       "780                                                   0                  \n",
       "382                                                   0                  \n",
       "1170                                                  0                  \n",
       "\n",
       "      MSSubClass_2-STORY 1946 & NEWER  MSSubClass_2-STORY PUD - 1946 & NEWER  \\\n",
       "1436                                0                                      0   \n",
       "57                                  1                                      0   \n",
       "780                                 0                                      0   \n",
       "382                                 1                                      0   \n",
       "1170                                0                                      0   \n",
       "\n",
       "      MSSubClass_PUD - MULTILEVEL - INCL SPLIT LEV/FOYER  \\\n",
       "1436                                                  0    \n",
       "57                                                    0    \n",
       "780                                                   0    \n",
       "382                                                   0    \n",
       "1170                                                  0    \n",
       "\n",
       "      MSZoning_MSZoning_Oth  Neighborhood_Blmngtn  Neighborhood_BrDale  \\\n",
       "1436                      0                     0                    0   \n",
       "57                        0                     0                    0   \n",
       "780                       0                     0                    0   \n",
       "382                       0                     0                    0   \n",
       "1170                      0                     0                    0   \n",
       "\n",
       "      Neighborhood_BrkSide  Neighborhood_CollgCr  Neighborhood_Edwards  \\\n",
       "1436                     0                     0                     0   \n",
       "57                       0                     1                     0   \n",
       "780                      0                     0                     0   \n",
       "382                      0                     1                     0   \n",
       "1170                     0                     0                     0   \n",
       "\n",
       "      Neighborhood_Gilbert  Neighborhood_IDOTRR  Neighborhood_MeadowV  \\\n",
       "1436                     0                    0                     0   \n",
       "57                       0                    0                     0   \n",
       "780                      1                    0                     0   \n",
       "382                      0                    0                     0   \n",
       "1170                     0                    0                     0   \n",
       "\n",
       "      Neighborhood_Mitchel  Neighborhood_NAmes  Neighborhood_NPkVill  \\\n",
       "1436                     0                   1                     0   \n",
       "57                       0                   0                     0   \n",
       "780                      0                   0                     0   \n",
       "382                      0                   0                     0   \n",
       "1170                     1                   0                     0   \n",
       "\n",
       "      Neighborhood_NWAmes  Neighborhood_NridgHt  Neighborhood_OldTown  \\\n",
       "1436                    0                     0                     0   \n",
       "57                      0                     0                     0   \n",
       "780                     0                     0                     0   \n",
       "382                     0                     0                     0   \n",
       "1170                    0                     0                     0   \n",
       "\n",
       "      Neighborhood_SWISU  Neighborhood_Sawyer  Neighborhood_SawyerW  \\\n",
       "1436                   0                    0                     0   \n",
       "57                     0                    0                     0   \n",
       "780                    0                    0                     0   \n",
       "382                    0                    0                     0   \n",
       "1170                   0                    0                     0   \n",
       "\n",
       "      Neighborhood_StoneBr  Neighborhood_Timber  RoofStyle_Mansard  \\\n",
       "1436                     0                    0                  0   \n",
       "57                       0                    0                  0   \n",
       "780                      0                    0                  0   \n",
       "382                      0                    0                  0   \n",
       "1170                     0                    0                  0   \n",
       "\n",
       "      Foundation_BrkTil  BsmtFinType1_ALQ  BsmtFinType1_BLQ  BsmtFinType1_GLQ  \\\n",
       "1436                  0                 1                 0                 0   \n",
       "57                    0                 0                 0                 0   \n",
       "780                   0                 0                 0                 0   \n",
       "382                   0                 0                 0                 0   \n",
       "1170                  0                 1                 0                 0   \n",
       "\n",
       "      BsmtFinType1_LwQ  BsmtFinType1_Rec  GarageType_2Types  \\\n",
       "1436                 0                 0                  0   \n",
       "57                   0                 0                  0   \n",
       "780                  0                 0                  0   \n",
       "382                  0                 0                  0   \n",
       "1170                 0                 0                  0   \n",
       "\n",
       "      GarageType_Basment  GarageType_BuiltIn  GarageType_CarPort  \\\n",
       "1436                   0                   0                   0   \n",
       "57                     0                   0                   0   \n",
       "780                    0                   0                   0   \n",
       "382                    0                   0                   0   \n",
       "1170                   0                   0                   0   \n",
       "\n",
       "      GarageFinish_Fin  GarageFinish_RFn  \n",
       "1436                 0                 0  \n",
       "57                   0                 1  \n",
       "780                  1                 0  \n",
       "382                  0                 1  \n",
       "1170                 1                 0  "
      ]
     },
     "execution_count": 4410,
     "metadata": {},
     "output_type": "execute_result"
    }
   ],
   "source": [
    "from sklearn.preprocessing import scale\n",
    "from sklearn.preprocessing import StandardScaler\n",
    "scaler = StandardScaler()\n",
    "\n",
    "X_test[int_var_X_test] = scaler.fit_transform(X_test[int_var_X_test])\n",
    "\n",
    "X_test.head()"
   ]
  },
  {
   "cell_type": "markdown",
   "metadata": {},
   "source": [
    "## Ridge Regression"
   ]
  },
  {
   "cell_type": "markdown",
   "metadata": {},
   "source": [
    "Start Model Building with defining Model Parameters"
   ]
  },
  {
   "cell_type": "code",
   "execution_count": 4411,
   "metadata": {},
   "outputs": [
    {
     "name": "stdout",
     "output_type": "stream",
     "text": [
      "Fitting 5 folds for each of 27 candidates, totalling 135 fits\n"
     ]
    },
    {
     "name": "stderr",
     "output_type": "stream",
     "text": [
      "[Parallel(n_jobs=1)]: Using backend SequentialBackend with 1 concurrent workers.\n",
      "[Parallel(n_jobs=1)]: Done 135 out of 135 | elapsed:    0.4s finished\n"
     ]
    },
    {
     "data": {
      "text/plain": [
       "GridSearchCV(cv=KFold(n_splits=5, random_state=4, shuffle=True),\n",
       "             error_score='raise-deprecating',\n",
       "             estimator=Ridge(alpha=1.0, copy_X=True, fit_intercept=True,\n",
       "                             max_iter=None, normalize=False, random_state=None,\n",
       "                             solver='auto', tol=0.001),\n",
       "             iid='warn', n_jobs=None,\n",
       "             param_grid={'alpha': [1e-05, 0.0001, 0.001, 0.01, 0.05, 0.1, 0.2,\n",
       "                                   0.3, 0.4, 0.5, 0.6, 0.7, 0.8, 0.9, 1.0, 2.0,\n",
       "                                   3.0, 4.0, 5.0, 6.0, 7.0, 8.0, 9.0, 10.0, 20,\n",
       "                                   50, 100]},\n",
       "             pre_dispatch='2*n_jobs', refit=True, return_train_score=True,\n",
       "             scoring='neg_mean_absolute_error', verbose=1)"
      ]
     },
     "execution_count": 4411,
     "metadata": {},
     "output_type": "execute_result"
    }
   ],
   "source": [
    "from sklearn.model_selection import KFold\n",
    "\n",
    "# list of alphas to tune\n",
    "params = {'alpha': [0.00001 ,0.0001, 0.001, 0.01, 0.05, 0.1, \n",
    " 0.2, 0.3, 0.4, 0.5, 0.6, 0.7, 0.8, 0.9, 1.0, 2.0, 3.0, \n",
    " 4.0, 5.0, 6.0, 7.0, 8.0, 9.0, 10.0, 20, 50, 100 ]}\n",
    "\n",
    "ridge = Ridge()\n",
    "\n",
    "# cross validation\n",
    "folds = KFold(n_splits = 5, shuffle = True, random_state = 4)\n",
    "model_cv = GridSearchCV(estimator = ridge, \n",
    "                        param_grid = params, \n",
    "                        scoring= 'neg_mean_absolute_error', \n",
    "                        cv = folds, \n",
    "                        return_train_score=True,\n",
    "                        verbose = 1)            \n",
    "model_cv.fit(X_train, y_train) "
   ]
  },
  {
   "cell_type": "code",
   "execution_count": 4412,
   "metadata": {},
   "outputs": [
    {
     "data": {
      "text/html": [
       "<div>\n",
       "<style scoped>\n",
       "    .dataframe tbody tr th:only-of-type {\n",
       "        vertical-align: middle;\n",
       "    }\n",
       "\n",
       "    .dataframe tbody tr th {\n",
       "        vertical-align: top;\n",
       "    }\n",
       "\n",
       "    .dataframe thead th {\n",
       "        text-align: right;\n",
       "    }\n",
       "</style>\n",
       "<table border=\"1\" class=\"dataframe\">\n",
       "  <thead>\n",
       "    <tr style=\"text-align: right;\">\n",
       "      <th></th>\n",
       "      <th>mean_fit_time</th>\n",
       "      <th>std_fit_time</th>\n",
       "      <th>mean_score_time</th>\n",
       "      <th>std_score_time</th>\n",
       "      <th>param_alpha</th>\n",
       "      <th>params</th>\n",
       "      <th>split0_test_score</th>\n",
       "      <th>split1_test_score</th>\n",
       "      <th>split2_test_score</th>\n",
       "      <th>split3_test_score</th>\n",
       "      <th>split4_test_score</th>\n",
       "      <th>mean_test_score</th>\n",
       "      <th>std_test_score</th>\n",
       "      <th>rank_test_score</th>\n",
       "      <th>split0_train_score</th>\n",
       "      <th>split1_train_score</th>\n",
       "      <th>split2_train_score</th>\n",
       "      <th>split3_train_score</th>\n",
       "      <th>split4_train_score</th>\n",
       "      <th>mean_train_score</th>\n",
       "      <th>std_train_score</th>\n",
       "    </tr>\n",
       "  </thead>\n",
       "  <tbody>\n",
       "    <tr>\n",
       "      <td>0</td>\n",
       "      <td>0.002910</td>\n",
       "      <td>0.001845</td>\n",
       "      <td>0.000686</td>\n",
       "      <td>0.000406</td>\n",
       "      <td>1e-05</td>\n",
       "      <td>{'alpha': 1e-05}</td>\n",
       "      <td>-0.101494</td>\n",
       "      <td>-0.094991</td>\n",
       "      <td>-0.097476</td>\n",
       "      <td>-0.089435</td>\n",
       "      <td>-0.103649</td>\n",
       "      <td>-0.097413</td>\n",
       "      <td>0.005000</td>\n",
       "      <td>20</td>\n",
       "      <td>-0.092116</td>\n",
       "      <td>-0.090827</td>\n",
       "      <td>-0.092939</td>\n",
       "      <td>-0.085513</td>\n",
       "      <td>-0.089809</td>\n",
       "      <td>-0.090241</td>\n",
       "      <td>0.002595</td>\n",
       "    </tr>\n",
       "    <tr>\n",
       "      <td>1</td>\n",
       "      <td>0.001037</td>\n",
       "      <td>0.000938</td>\n",
       "      <td>0.000000</td>\n",
       "      <td>0.000000</td>\n",
       "      <td>0.0001</td>\n",
       "      <td>{'alpha': 0.0001}</td>\n",
       "      <td>-0.101494</td>\n",
       "      <td>-0.094991</td>\n",
       "      <td>-0.097476</td>\n",
       "      <td>-0.089435</td>\n",
       "      <td>-0.103649</td>\n",
       "      <td>-0.097413</td>\n",
       "      <td>0.005000</td>\n",
       "      <td>19</td>\n",
       "      <td>-0.092116</td>\n",
       "      <td>-0.090827</td>\n",
       "      <td>-0.092939</td>\n",
       "      <td>-0.085513</td>\n",
       "      <td>-0.089809</td>\n",
       "      <td>-0.090241</td>\n",
       "      <td>0.002595</td>\n",
       "    </tr>\n",
       "    <tr>\n",
       "      <td>2</td>\n",
       "      <td>0.001813</td>\n",
       "      <td>0.003625</td>\n",
       "      <td>0.001129</td>\n",
       "      <td>0.002258</td>\n",
       "      <td>0.001</td>\n",
       "      <td>{'alpha': 0.001}</td>\n",
       "      <td>-0.101490</td>\n",
       "      <td>-0.094990</td>\n",
       "      <td>-0.097475</td>\n",
       "      <td>-0.089434</td>\n",
       "      <td>-0.103648</td>\n",
       "      <td>-0.097411</td>\n",
       "      <td>0.005000</td>\n",
       "      <td>18</td>\n",
       "      <td>-0.092114</td>\n",
       "      <td>-0.090826</td>\n",
       "      <td>-0.092938</td>\n",
       "      <td>-0.085512</td>\n",
       "      <td>-0.089807</td>\n",
       "      <td>-0.090240</td>\n",
       "      <td>0.002595</td>\n",
       "    </tr>\n",
       "    <tr>\n",
       "      <td>3</td>\n",
       "      <td>0.003304</td>\n",
       "      <td>0.003661</td>\n",
       "      <td>0.000208</td>\n",
       "      <td>0.000416</td>\n",
       "      <td>0.01</td>\n",
       "      <td>{'alpha': 0.01}</td>\n",
       "      <td>-0.101455</td>\n",
       "      <td>-0.094980</td>\n",
       "      <td>-0.097464</td>\n",
       "      <td>-0.089420</td>\n",
       "      <td>-0.103638</td>\n",
       "      <td>-0.097395</td>\n",
       "      <td>0.004997</td>\n",
       "      <td>17</td>\n",
       "      <td>-0.092101</td>\n",
       "      <td>-0.090821</td>\n",
       "      <td>-0.092927</td>\n",
       "      <td>-0.085503</td>\n",
       "      <td>-0.089797</td>\n",
       "      <td>-0.090230</td>\n",
       "      <td>0.002594</td>\n",
       "    </tr>\n",
       "    <tr>\n",
       "      <td>4</td>\n",
       "      <td>0.001838</td>\n",
       "      <td>0.002788</td>\n",
       "      <td>0.001801</td>\n",
       "      <td>0.003128</td>\n",
       "      <td>0.05</td>\n",
       "      <td>{'alpha': 0.05}</td>\n",
       "      <td>-0.101299</td>\n",
       "      <td>-0.094937</td>\n",
       "      <td>-0.097415</td>\n",
       "      <td>-0.089359</td>\n",
       "      <td>-0.103598</td>\n",
       "      <td>-0.097325</td>\n",
       "      <td>0.004985</td>\n",
       "      <td>16</td>\n",
       "      <td>-0.092047</td>\n",
       "      <td>-0.090797</td>\n",
       "      <td>-0.092882</td>\n",
       "      <td>-0.085468</td>\n",
       "      <td>-0.089751</td>\n",
       "      <td>-0.090189</td>\n",
       "      <td>0.002591</td>\n",
       "    </tr>\n",
       "  </tbody>\n",
       "</table>\n",
       "</div>"
      ],
      "text/plain": [
       "   mean_fit_time  std_fit_time  mean_score_time  std_score_time param_alpha  \\\n",
       "0       0.002910      0.001845         0.000686        0.000406       1e-05   \n",
       "1       0.001037      0.000938         0.000000        0.000000      0.0001   \n",
       "2       0.001813      0.003625         0.001129        0.002258       0.001   \n",
       "3       0.003304      0.003661         0.000208        0.000416        0.01   \n",
       "4       0.001838      0.002788         0.001801        0.003128        0.05   \n",
       "\n",
       "              params  split0_test_score  split1_test_score  split2_test_score  \\\n",
       "0   {'alpha': 1e-05}          -0.101494          -0.094991          -0.097476   \n",
       "1  {'alpha': 0.0001}          -0.101494          -0.094991          -0.097476   \n",
       "2   {'alpha': 0.001}          -0.101490          -0.094990          -0.097475   \n",
       "3    {'alpha': 0.01}          -0.101455          -0.094980          -0.097464   \n",
       "4    {'alpha': 0.05}          -0.101299          -0.094937          -0.097415   \n",
       "\n",
       "   split3_test_score  split4_test_score  mean_test_score  std_test_score  \\\n",
       "0          -0.089435          -0.103649        -0.097413        0.005000   \n",
       "1          -0.089435          -0.103649        -0.097413        0.005000   \n",
       "2          -0.089434          -0.103648        -0.097411        0.005000   \n",
       "3          -0.089420          -0.103638        -0.097395        0.004997   \n",
       "4          -0.089359          -0.103598        -0.097325        0.004985   \n",
       "\n",
       "   rank_test_score  split0_train_score  split1_train_score  \\\n",
       "0               20           -0.092116           -0.090827   \n",
       "1               19           -0.092116           -0.090827   \n",
       "2               18           -0.092114           -0.090826   \n",
       "3               17           -0.092101           -0.090821   \n",
       "4               16           -0.092047           -0.090797   \n",
       "\n",
       "   split2_train_score  split3_train_score  split4_train_score  \\\n",
       "0           -0.092939           -0.085513           -0.089809   \n",
       "1           -0.092939           -0.085513           -0.089809   \n",
       "2           -0.092938           -0.085512           -0.089807   \n",
       "3           -0.092927           -0.085503           -0.089797   \n",
       "4           -0.092882           -0.085468           -0.089751   \n",
       "\n",
       "   mean_train_score  std_train_score  \n",
       "0         -0.090241         0.002595  \n",
       "1         -0.090241         0.002595  \n",
       "2         -0.090240         0.002595  \n",
       "3         -0.090230         0.002594  \n",
       "4         -0.090189         0.002591  "
      ]
     },
     "execution_count": 4412,
     "metadata": {},
     "output_type": "execute_result"
    }
   ],
   "source": [
    "cv_results = pd.DataFrame(model_cv.cv_results_)\n",
    "cv_results = cv_results[cv_results['param_alpha']<=200]\n",
    "cv_results.head()"
   ]
  },
  {
   "cell_type": "markdown",
   "metadata": {},
   "source": [
    "Plot neg_mean_absolute_error"
   ]
  },
  {
   "cell_type": "code",
   "execution_count": 4413,
   "metadata": {},
   "outputs": [
    {
     "data": {
      "image/png": "[encoded data removed]",
      "text/plain": [
       "<Figure size 432x288 with 1 Axes>"
      ]
     },
     "metadata": {
      "needs_background": "light"
     },
     "output_type": "display_data"
    }
   ],
   "source": [
    "# plotting mean test and train scoes with alpha \n",
    "cv_results['param_alpha'] = cv_results['param_alpha'].astype('int32')\n",
    "\n",
    "# plotting\n",
    "plt.plot(cv_results['param_alpha'], cv_results['mean_train_score'])\n",
    "plt.plot(cv_results['param_alpha'], cv_results['mean_test_score'])\n",
    "plt.xlabel('alpha')\n",
    "plt.ylabel('Negative Mean Absolute Error')\n",
    "plt.title(\"Negative Mean Absolute Error and alpha\")\n",
    "plt.legend(['train score', 'test score'], loc='upper right')\n",
    "plt.show()"
   ]
  },
  {
   "cell_type": "markdown",
   "metadata": {},
   "source": [
    "From above 5 looks Optimal Value for Alpha.\n",
    "\n",
    "Lets try it and find the coefficients"
   ]
  },
  {
   "cell_type": "code",
   "execution_count": 4414,
   "metadata": {},
   "outputs": [
    {
     "data": {
      "text/plain": [
       "array([ 0.09063248,  0.04723217,  0.02601146, -0.00370193,  0.00604953,\n",
       "        0.01180182,  0.1278648 ,  0.02773719,  0.03480081,  0.05130471,\n",
       "       -0.06497504, -0.02762114, -0.07399202, -0.08252432, -0.04183193,\n",
       "       -0.17488496, -0.10604804, -0.0181841 , -0.07265233, -0.09947209,\n",
       "       -0.0649295 , -0.05918247, -0.1289629 , -0.08008678, -0.17088851,\n",
       "       -0.13912104, -0.08246712, -0.0767771 , -0.05171662, -0.09396769,\n",
       "        0.06277032, -0.13474025, -0.04991453, -0.10323902, -0.07188703,\n",
       "        0.0487971 , -0.02638881,  0.02937248, -0.02669887,  0.05903883,\n",
       "        0.05713801,  0.06281801,  0.02173677,  0.03686083, -0.0157805 ,\n",
       "       -0.04624074, -0.0323259 , -0.06118442,  0.05368053,  0.03552432])"
      ]
     },
     "execution_count": 4414,
     "metadata": {},
     "output_type": "execute_result"
    }
   ],
   "source": [
    "alpha = 5\n",
    "ridge = Ridge(alpha=alpha)\n",
    "\n",
    "ridge.fit(X_train, y_train)\n",
    "ridge.coef_"
   ]
  },
  {
   "cell_type": "code",
   "execution_count": 4415,
   "metadata": {},
   "outputs": [
    {
     "data": {
      "image/png": "[encoded data removed]",
      "text/plain": [
       "<Figure size 432x288 with 1 Axes>"
      ]
     },
     "metadata": {
      "needs_background": "light"
     },
     "output_type": "display_data"
    }
   ],
   "source": [
    "plt.plot(ridge.coef_)\n",
    "plt.grid(b=True, which='major', color='#666666', linestyle='-')"
   ]
  },
  {
   "cell_type": "code",
   "execution_count": 4416,
   "metadata": {},
   "outputs": [
    {
     "name": "stdout",
     "output_type": "stream",
     "text": [
      "R2 Score Train :  0.887042572812005\n",
      "R2 Score Test  :  0.8819027491128276\n",
      "MAE Train      : 0.09165208803061144\n",
      "MAE Test       : 0.09761650791776558\n"
     ]
    }
   ],
   "source": [
    "from sklearn.metrics import mean_absolute_error\n",
    "lm = Ridge(alpha=5)\n",
    "lm.fit(X_train, y_train)\n",
    "\n",
    "# predict\n",
    "y_train_pred = lm.predict(X_train)\n",
    "print('R2 Score Train : ', metrics.r2_score(y_true=y_train, y_pred=y_train_pred))\n",
    "y_test_pred = lm.predict(X_test)\n",
    "print('R2 Score Test  : ',metrics.r2_score(y_true=y_test, y_pred=y_test_pred))\n",
    "\n",
    "print('MAE Train      :', mean_absolute_error(y_train, y_train_pred))\n",
    "print('MAE Test       :', mean_absolute_error(y_test, y_test_pred))"
   ]
  },
  {
   "cell_type": "code",
   "execution_count": 4417,
   "metadata": {},
   "outputs": [
    {
     "data": {
      "text/plain": [
       "[('MSSubClass_2-STORY PUD - 1946 & NEWER', -0.175),\n",
       " ('Neighborhood_IDOTRR', -0.171),\n",
       " ('Neighborhood_MeadowV', -0.139),\n",
       " ('Neighborhood_OldTown', -0.135),\n",
       " ('Neighborhood_Edwards', -0.129),\n",
       " ('MSSubClass_PUD - MULTILEVEL - INCL SPLIT LEV/FOYER', -0.106),\n",
       " ('Neighborhood_Sawyer', -0.103),\n",
       " ('Neighborhood_BrDale', -0.099),\n",
       " ('Neighborhood_NWAmes', -0.094),\n",
       " ('MSSubClass_1-STORY PUD (Planned Unit Development) - 1946 & NEWER', -0.083),\n",
       " ('Neighborhood_Mitchel', -0.082),\n",
       " ('Neighborhood_Gilbert', -0.08),\n",
       " ('Neighborhood_NAmes', -0.077),\n",
       " ('MSSubClass_1-STORY 1945 & OLDER', -0.074),\n",
       " ('Neighborhood_Blmngtn', -0.073),\n",
       " ('Neighborhood_SawyerW', -0.072),\n",
       " ('YearBuilt_Age', -0.065),\n",
       " ('Neighborhood_BrkSide', -0.065),\n",
       " ('GarageType_CarPort', -0.061),\n",
       " ('Neighborhood_CollgCr', -0.059),\n",
       " ('Neighborhood_NPkVill', -0.052),\n",
       " ('Neighborhood_SWISU', -0.05),\n",
       " ('GarageType_Basment', -0.046),\n",
       " ('MSSubClass_2-STORY 1946 & NEWER', -0.042),\n",
       " ('GarageType_BuiltIn', -0.032),\n",
       " ('YearRemodAdd_Age', -0.028),\n",
       " ('Foundation_BrkTil', -0.027),\n",
       " ('Neighborhood_Timber', -0.026),\n",
       " ('MSZoning_MSZoning_Oth', -0.018),\n",
       " ('GarageType_2Types', -0.016),\n",
       " ('BsmtFinSF1', -0.004),\n",
       " ('BsmtFinSF2', 0.006),\n",
       " ('BsmtUnfSF', 0.012),\n",
       " ('BsmtFinType1_LwQ', 0.022),\n",
       " ('BsmtQual', 0.026),\n",
       " ('BsmtFullBath', 0.028),\n",
       " ('RoofStyle_Mansard', 0.029),\n",
       " ('Fireplaces', 0.035),\n",
       " ('GarageFinish_RFn', 0.036),\n",
       " ('BsmtFinType1_Rec', 0.037),\n",
       " ('OverallCond', 0.047),\n",
       " ('Neighborhood_StoneBr', 0.049),\n",
       " ('GarageCars', 0.051),\n",
       " ('GarageFinish_Fin', 0.054),\n",
       " ('BsmtFinType1_BLQ', 0.057),\n",
       " ('BsmtFinType1_ALQ', 0.059),\n",
       " ('Neighborhood_NridgHt', 0.063),\n",
       " ('BsmtFinType1_GLQ', 0.063),\n",
       " ('OverallQual', 0.091),\n",
       " ('GrLivArea', 0.128),\n",
       " ('constant', 12.059)]"
      ]
     },
     "execution_count": 4417,
     "metadata": {},
     "output_type": "execute_result"
    }
   ],
   "source": [
    "# Ridge model parameters\n",
    "import operator \n",
    "model_parameters = list(ridge.coef_)\n",
    "model_parameters.insert(0, ridge.intercept_)\n",
    "model_parameters = [round(x, 3) for x in model_parameters]\n",
    "cols = X_train.columns\n",
    "cols = cols.insert(0, \"constant\")\n",
    "zipped=list(zip(cols, model_parameters))\n",
    "\n",
    "res = sorted(zipped, key = operator.itemgetter(1))\n",
    "res"
   ]
  },
  {
   "cell_type": "markdown",
   "metadata": {},
   "source": [
    "#### Tp #10 Coefficients for Ridge -\n",
    "\n",
    "MSSubClass_2-STORYPUD-1946&NEWER \n",
    "\n",
    "Neighborhood_IDOTRR\n",
    "\n",
    "Neighborhood_MeadowV\n",
    "\n",
    "Neighborhood_OldTown\n",
    "\n",
    "Neighborhood_Edwards\n",
    "\n",
    "BsmtFinType1_ALQ\n",
    "\n",
    "Neighborhood_NridgHt\n",
    "\n",
    "BsmtFinType1_GLQ\n",
    "\n",
    "OverallQual\n",
    "\n",
    "GrLivArea"
   ]
  },
  {
   "cell_type": "markdown",
   "metadata": {},
   "source": [
    "Error Terms - Y Train and Y Train Pred"
   ]
  },
  {
   "cell_type": "code",
   "execution_count": 4418,
   "metadata": {},
   "outputs": [
    {
     "data": {
      "text/plain": [
       "Text(0.5, 0, 'Errors')"
      ]
     },
     "execution_count": 4418,
     "metadata": {},
     "output_type": "execute_result"
    },
    {
     "data": {
      "image/png": "[encoded data removed]",
      "text/plain": [
       "<Figure size 432x288 with 1 Axes>"
      ]
     },
     "metadata": {
      "needs_background": "light"
     },
     "output_type": "display_data"
    }
   ],
   "source": [
    "# Plot the histogram of the error terms\n",
    "fig = plt.figure()\n",
    "sns.distplot((y_train - y_train_pred), bins = 20)\n",
    "fig.suptitle('Error Terms', fontsize = 20)                  # Plot heading \n",
    "plt.xlabel('Errors', fontsize = 18)                         # X-label"
   ]
  },
  {
   "cell_type": "markdown",
   "metadata": {},
   "source": [
    "Error Terms - Y Test and Y Test Pred"
   ]
  },
  {
   "cell_type": "code",
   "execution_count": 4419,
   "metadata": {},
   "outputs": [
    {
     "data": {
      "text/plain": [
       "Text(0.5, 0, 'Errors')"
      ]
     },
     "execution_count": 4419,
     "metadata": {},
     "output_type": "execute_result"
    },
    {
     "data": {
      "image/png": "[encoded data removed]",
      "text/plain": [
       "<Figure size 432x288 with 1 Axes>"
      ]
     },
     "metadata": {
      "needs_background": "light"
     },
     "output_type": "display_data"
    }
   ],
   "source": [
    "# Plot the histogram of the error terms\n",
    "fig = plt.figure()\n",
    "sns.distplot((y_test - y_test_pred), bins = 20)\n",
    "fig.suptitle('Error Terms', fontsize = 20)                  # Plot heading \n",
    "plt.xlabel('Errors', fontsize = 18)                         # X-label"
   ]
  },
  {
   "cell_type": "markdown",
   "metadata": {},
   "source": [
    "Y Test Vs. Y Test Pred looks Linear"
   ]
  },
  {
   "cell_type": "code",
   "execution_count": 4420,
   "metadata": {},
   "outputs": [
    {
     "data": {
      "text/plain": [
       "Text(0, 0.5, 'y_test_pred')"
      ]
     },
     "execution_count": 4420,
     "metadata": {},
     "output_type": "execute_result"
    },
    {
     "data": {
      "image/png": "[encoded data removed]",
      "text/plain": [
       "<Figure size 432x288 with 1 Axes>"
      ]
     },
     "metadata": {
      "needs_background": "light"
     },
     "output_type": "display_data"
    }
   ],
   "source": [
    "# Plotting y_test and y_pred to understand the spread.\n",
    "fig = plt.figure()\n",
    "plt.scatter(y_test,y_test_pred)\n",
    "fig.suptitle('y_test_pred vs y_test', fontsize=20)              # Plot heading \n",
    "plt.xlabel('y_test', fontsize=18)                          # X-label\n",
    "plt.ylabel('y_test_pred', fontsize=16)                          # Y-label"
   ]
  },
  {
   "cell_type": "markdown",
   "metadata": {},
   "source": [
    "Y Train Vs. Y Train Pred looks Linear"
   ]
  },
  {
   "cell_type": "code",
   "execution_count": 4421,
   "metadata": {},
   "outputs": [
    {
     "data": {
      "text/plain": [
       "Text(0, 0.5, 'y_train_pred')"
      ]
     },
     "execution_count": 4421,
     "metadata": {},
     "output_type": "execute_result"
    },
    {
     "data": {
      "image/png": "[encoded data removed]",
      "text/plain": [
       "<Figure size 432x288 with 1 Axes>"
      ]
     },
     "metadata": {
      "needs_background": "light"
     },
     "output_type": "display_data"
    }
   ],
   "source": [
    "# Plotting y_test and y_pred to understand the spread.\n",
    "fig = plt.figure()\n",
    "plt.scatter(y_train,y_train_pred)\n",
    "fig.suptitle('y_train_pred vs y_train', fontsize=20)              # Plot heading \n",
    "plt.xlabel('y_train', fontsize=18)                          # X-label\n",
    "plt.ylabel('y_train_pred', fontsize=16)                          # Y-label"
   ]
  },
  {
   "cell_type": "markdown",
   "metadata": {},
   "source": [
    "## Lasso Regression"
   ]
  },
  {
   "cell_type": "code",
   "execution_count": 4422,
   "metadata": {},
   "outputs": [
    {
     "name": "stdout",
     "output_type": "stream",
     "text": [
      "Fitting 5 folds for each of 27 candidates, totalling 135 fits\n"
     ]
    },
    {
     "name": "stderr",
     "output_type": "stream",
     "text": [
      "[Parallel(n_jobs=1)]: Using backend SequentialBackend with 1 concurrent workers.\n",
      "[Parallel(n_jobs=1)]: Done 135 out of 135 | elapsed:    0.4s finished\n"
     ]
    },
    {
     "data": {
      "text/plain": [
       "GridSearchCV(cv=KFold(n_splits=5, random_state=4, shuffle=True),\n",
       "             error_score='raise-deprecating',\n",
       "             estimator=Lasso(alpha=1.0, copy_X=True, fit_intercept=True,\n",
       "                             max_iter=1000, normalize=False, positive=False,\n",
       "                             precompute=False, random_state=None,\n",
       "                             selection='cyclic', tol=0.0001, warm_start=False),\n",
       "             iid='warn', n_jobs=None,\n",
       "             param_grid={'alpha': [1e-05, 0.0001, 0.001, 0.01, 0.05, 0.1, 0.2,\n",
       "                                   0.3, 0.4, 0.5, 0.6, 0.7, 0.8, 0.9, 1.0, 2.0,\n",
       "                                   3.0, 4.0, 5.0, 6.0, 7.0, 8.0, 9.0, 10.0, 20,\n",
       "                                   50, 100]},\n",
       "             pre_dispatch='2*n_jobs', refit=True, return_train_score=True,\n",
       "             scoring='neg_mean_absolute_error', verbose=1)"
      ]
     },
     "execution_count": 4422,
     "metadata": {},
     "output_type": "execute_result"
    }
   ],
   "source": [
    "lasso = Lasso()\n",
    "\n",
    "# cross validation\n",
    "model_cv = GridSearchCV(estimator = lasso, \n",
    "                        param_grid = params, \n",
    "                        scoring= 'neg_mean_absolute_error', \n",
    "                        cv = folds, \n",
    "                        return_train_score=True,\n",
    "                        verbose = 1)            \n",
    "\n",
    "model_cv.fit(X_train, y_train) "
   ]
  },
  {
   "cell_type": "code",
   "execution_count": 4423,
   "metadata": {
    "scrolled": true
   },
   "outputs": [
    {
     "data": {
      "text/html": [
       "<div>\n",
       "<style scoped>\n",
       "    .dataframe tbody tr th:only-of-type {\n",
       "        vertical-align: middle;\n",
       "    }\n",
       "\n",
       "    .dataframe tbody tr th {\n",
       "        vertical-align: top;\n",
       "    }\n",
       "\n",
       "    .dataframe thead th {\n",
       "        text-align: right;\n",
       "    }\n",
       "</style>\n",
       "<table border=\"1\" class=\"dataframe\">\n",
       "  <thead>\n",
       "    <tr style=\"text-align: right;\">\n",
       "      <th></th>\n",
       "      <th>mean_fit_time</th>\n",
       "      <th>std_fit_time</th>\n",
       "      <th>mean_score_time</th>\n",
       "      <th>std_score_time</th>\n",
       "      <th>param_alpha</th>\n",
       "      <th>params</th>\n",
       "      <th>split0_test_score</th>\n",
       "      <th>split1_test_score</th>\n",
       "      <th>split2_test_score</th>\n",
       "      <th>split3_test_score</th>\n",
       "      <th>split4_test_score</th>\n",
       "      <th>mean_test_score</th>\n",
       "      <th>std_test_score</th>\n",
       "      <th>rank_test_score</th>\n",
       "      <th>split0_train_score</th>\n",
       "      <th>split1_train_score</th>\n",
       "      <th>split2_train_score</th>\n",
       "      <th>split3_train_score</th>\n",
       "      <th>split4_train_score</th>\n",
       "      <th>mean_train_score</th>\n",
       "      <th>std_train_score</th>\n",
       "    </tr>\n",
       "  </thead>\n",
       "  <tbody>\n",
       "    <tr>\n",
       "      <td>0</td>\n",
       "      <td>0.002697</td>\n",
       "      <td>0.001799</td>\n",
       "      <td>0.002314</td>\n",
       "      <td>0.002892</td>\n",
       "      <td>1e-05</td>\n",
       "      <td>{'alpha': 1e-05}</td>\n",
       "      <td>-0.101347</td>\n",
       "      <td>-0.094920</td>\n",
       "      <td>-0.097435</td>\n",
       "      <td>-0.089322</td>\n",
       "      <td>-0.103619</td>\n",
       "      <td>-0.097333</td>\n",
       "      <td>0.005012</td>\n",
       "      <td>2</td>\n",
       "      <td>-0.092036</td>\n",
       "      <td>-0.090785</td>\n",
       "      <td>-0.092877</td>\n",
       "      <td>-0.085468</td>\n",
       "      <td>-0.089731</td>\n",
       "      <td>-0.090179</td>\n",
       "      <td>0.002588</td>\n",
       "    </tr>\n",
       "    <tr>\n",
       "      <td>1</td>\n",
       "      <td>0.001534</td>\n",
       "      <td>0.003067</td>\n",
       "      <td>0.000199</td>\n",
       "      <td>0.000399</td>\n",
       "      <td>0.0001</td>\n",
       "      <td>{'alpha': 0.0001}</td>\n",
       "      <td>-0.100146</td>\n",
       "      <td>-0.094378</td>\n",
       "      <td>-0.097137</td>\n",
       "      <td>-0.088529</td>\n",
       "      <td>-0.103393</td>\n",
       "      <td>-0.096720</td>\n",
       "      <td>0.005078</td>\n",
       "      <td>1</td>\n",
       "      <td>-0.091444</td>\n",
       "      <td>-0.090528</td>\n",
       "      <td>-0.092389</td>\n",
       "      <td>-0.085291</td>\n",
       "      <td>-0.089235</td>\n",
       "      <td>-0.089777</td>\n",
       "      <td>0.002473</td>\n",
       "    </tr>\n",
       "    <tr>\n",
       "      <td>2</td>\n",
       "      <td>0.002923</td>\n",
       "      <td>0.002850</td>\n",
       "      <td>0.002539</td>\n",
       "      <td>0.003293</td>\n",
       "      <td>0.001</td>\n",
       "      <td>{'alpha': 0.001}</td>\n",
       "      <td>-0.099803</td>\n",
       "      <td>-0.099855</td>\n",
       "      <td>-0.098756</td>\n",
       "      <td>-0.092848</td>\n",
       "      <td>-0.110453</td>\n",
       "      <td>-0.100342</td>\n",
       "      <td>0.005679</td>\n",
       "      <td>3</td>\n",
       "      <td>-0.096037</td>\n",
       "      <td>-0.095707</td>\n",
       "      <td>-0.097218</td>\n",
       "      <td>-0.091585</td>\n",
       "      <td>-0.094953</td>\n",
       "      <td>-0.095100</td>\n",
       "      <td>0.001903</td>\n",
       "    </tr>\n",
       "    <tr>\n",
       "      <td>3</td>\n",
       "      <td>0.001063</td>\n",
       "      <td>0.001303</td>\n",
       "      <td>0.000561</td>\n",
       "      <td>0.000783</td>\n",
       "      <td>0.01</td>\n",
       "      <td>{'alpha': 0.01}</td>\n",
       "      <td>-0.114491</td>\n",
       "      <td>-0.106574</td>\n",
       "      <td>-0.108966</td>\n",
       "      <td>-0.095108</td>\n",
       "      <td>-0.124723</td>\n",
       "      <td>-0.109977</td>\n",
       "      <td>0.009707</td>\n",
       "      <td>4</td>\n",
       "      <td>-0.109694</td>\n",
       "      <td>-0.107984</td>\n",
       "      <td>-0.111022</td>\n",
       "      <td>-0.102436</td>\n",
       "      <td>-0.108753</td>\n",
       "      <td>-0.107978</td>\n",
       "      <td>0.002950</td>\n",
       "    </tr>\n",
       "    <tr>\n",
       "      <td>4</td>\n",
       "      <td>0.000399</td>\n",
       "      <td>0.000489</td>\n",
       "      <td>0.000974</td>\n",
       "      <td>0.001947</td>\n",
       "      <td>0.05</td>\n",
       "      <td>{'alpha': 0.05}</td>\n",
       "      <td>-0.136980</td>\n",
       "      <td>-0.126902</td>\n",
       "      <td>-0.124497</td>\n",
       "      <td>-0.114101</td>\n",
       "      <td>-0.153557</td>\n",
       "      <td>-0.131213</td>\n",
       "      <td>0.013329</td>\n",
       "      <td>5</td>\n",
       "      <td>-0.130834</td>\n",
       "      <td>-0.128976</td>\n",
       "      <td>-0.132371</td>\n",
       "      <td>-0.123739</td>\n",
       "      <td>-0.130266</td>\n",
       "      <td>-0.129237</td>\n",
       "      <td>0.002957</td>\n",
       "    </tr>\n",
       "  </tbody>\n",
       "</table>\n",
       "</div>"
      ],
      "text/plain": [
       "   mean_fit_time  std_fit_time  mean_score_time  std_score_time param_alpha  \\\n",
       "0       0.002697      0.001799         0.002314        0.002892       1e-05   \n",
       "1       0.001534      0.003067         0.000199        0.000399      0.0001   \n",
       "2       0.002923      0.002850         0.002539        0.003293       0.001   \n",
       "3       0.001063      0.001303         0.000561        0.000783        0.01   \n",
       "4       0.000399      0.000489         0.000974        0.001947        0.05   \n",
       "\n",
       "              params  split0_test_score  split1_test_score  split2_test_score  \\\n",
       "0   {'alpha': 1e-05}          -0.101347          -0.094920          -0.097435   \n",
       "1  {'alpha': 0.0001}          -0.100146          -0.094378          -0.097137   \n",
       "2   {'alpha': 0.001}          -0.099803          -0.099855          -0.098756   \n",
       "3    {'alpha': 0.01}          -0.114491          -0.106574          -0.108966   \n",
       "4    {'alpha': 0.05}          -0.136980          -0.126902          -0.124497   \n",
       "\n",
       "   split3_test_score  split4_test_score  mean_test_score  std_test_score  \\\n",
       "0          -0.089322          -0.103619        -0.097333        0.005012   \n",
       "1          -0.088529          -0.103393        -0.096720        0.005078   \n",
       "2          -0.092848          -0.110453        -0.100342        0.005679   \n",
       "3          -0.095108          -0.124723        -0.109977        0.009707   \n",
       "4          -0.114101          -0.153557        -0.131213        0.013329   \n",
       "\n",
       "   rank_test_score  split0_train_score  split1_train_score  \\\n",
       "0                2           -0.092036           -0.090785   \n",
       "1                1           -0.091444           -0.090528   \n",
       "2                3           -0.096037           -0.095707   \n",
       "3                4           -0.109694           -0.107984   \n",
       "4                5           -0.130834           -0.128976   \n",
       "\n",
       "   split2_train_score  split3_train_score  split4_train_score  \\\n",
       "0           -0.092877           -0.085468           -0.089731   \n",
       "1           -0.092389           -0.085291           -0.089235   \n",
       "2           -0.097218           -0.091585           -0.094953   \n",
       "3           -0.111022           -0.102436           -0.108753   \n",
       "4           -0.132371           -0.123739           -0.130266   \n",
       "\n",
       "   mean_train_score  std_train_score  \n",
       "0         -0.090179         0.002588  \n",
       "1         -0.089777         0.002473  \n",
       "2         -0.095100         0.001903  \n",
       "3         -0.107978         0.002950  \n",
       "4         -0.129237         0.002957  "
      ]
     },
     "execution_count": 4423,
     "metadata": {},
     "output_type": "execute_result"
    }
   ],
   "source": [
    "cv_results = pd.DataFrame(model_cv.cv_results_)\n",
    "cv_results.head()"
   ]
  },
  {
   "cell_type": "code",
   "execution_count": 4424,
   "metadata": {},
   "outputs": [
    {
     "data": {
      "image/png": "[encoded data removed]",
      "text/plain": [
       "<Figure size 432x288 with 1 Axes>"
      ]
     },
     "metadata": {
      "needs_background": "light"
     },
     "output_type": "display_data"
    }
   ],
   "source": [
    "# plotting mean test and train scoes with alpha \n",
    "cv_results['param_alpha'] = cv_results['param_alpha'].astype('float32')\n",
    "\n",
    "# plotting\n",
    "plt.plot(cv_results['param_alpha'], cv_results['mean_train_score'])\n",
    "plt.plot(cv_results['param_alpha'], cv_results['mean_test_score'])\n",
    "plt.xlabel('alpha')\n",
    "plt.xscale('log')\n",
    "plt.ylabel('Negative Mean Absolute Error')\n",
    "\n",
    "plt.title(\"Negative Mean Absolute Error and alpha\")\n",
    "plt.legend(['train score', 'test score'], loc='upper right')\n",
    "plt.show()"
   ]
  },
  {
   "cell_type": "markdown",
   "metadata": {},
   "source": [
    "Now we have some choices.\n",
    "\n",
    "If taking alpha as .01 then Lasso making 38 cofficients as 0 but compromising R2 Score by 5%\n",
    "\n",
    "If taking alpha as .0005 then Lasso making 7 cofficients as 0 with good R2 Score\n",
    "\n",
    "If taking alpha as .001 then Lasso making 12 cofficients as 0 with MAE going over 10\n",
    "\n",
    "If taking alpha as .0001 then Lasso making only 1 cofficient as 0 but enhacning R2 Score by only 1%\n",
    "\n",
    "Lets settle for .0005"
   ]
  },
  {
   "cell_type": "code",
   "execution_count": 4425,
   "metadata": {},
   "outputs": [
    {
     "data": {
      "text/plain": [
       "Lasso(alpha=0.0005, copy_X=True, fit_intercept=True, max_iter=1000,\n",
       "      normalize=False, positive=False, precompute=False, random_state=None,\n",
       "      selection='cyclic', tol=0.0001, warm_start=False)"
      ]
     },
     "execution_count": 4425,
     "metadata": {},
     "output_type": "execute_result"
    }
   ],
   "source": [
    "alpha = .0005\n",
    "\n",
    "lasso = Lasso(alpha=alpha)\n",
    "        \n",
    "lasso.fit(X_train, y_train) "
   ]
  },
  {
   "cell_type": "markdown",
   "metadata": {},
   "source": [
    "Can see that Lasso making number of coefficients as 0"
   ]
  },
  {
   "cell_type": "code",
   "execution_count": 4426,
   "metadata": {
    "scrolled": true
   },
   "outputs": [
    {
     "data": {
      "text/plain": [
       "array([ 0.0916039 ,  0.04800853,  0.02725278,  0.        ,  0.00743533,\n",
       "        0.00944955,  0.12831934,  0.02770158,  0.03421937,  0.05050032,\n",
       "       -0.06405561, -0.02705216, -0.06417892, -0.07788271, -0.04055944,\n",
       "       -0.19461899, -0.09618427, -0.00047889, -0.0485282 , -0.07141421,\n",
       "       -0.06124374, -0.04888003, -0.12771263, -0.07194281, -0.19125525,\n",
       "       -0.15490027, -0.07240005, -0.06793076, -0.        , -0.08250466,\n",
       "        0.06648848, -0.13958219, -0.04037858, -0.09833549, -0.06300542,\n",
       "        0.03371727, -0.        ,  0.        , -0.02408538,  0.04057968,\n",
       "        0.04028789,  0.04901283,  0.        ,  0.0167749 , -0.        ,\n",
       "       -0.01977111, -0.02384489, -0.02676845,  0.04497985,  0.02936087])"
      ]
     },
     "execution_count": 4426,
     "metadata": {},
     "output_type": "execute_result"
    }
   ],
   "source": [
    "lasso.coef_"
   ]
  },
  {
   "cell_type": "code",
   "execution_count": 4427,
   "metadata": {},
   "outputs": [
    {
     "data": {
      "image/png": "[encoded data removed]",
      "text/plain": [
       "<Figure size 432x288 with 1 Axes>"
      ]
     },
     "metadata": {
      "needs_background": "light"
     },
     "output_type": "display_data"
    }
   ],
   "source": [
    "plt.plot(lasso.coef_)\n",
    "plt.grid(b=True, which='major', color='#666666', linestyle='-')"
   ]
  },
  {
   "cell_type": "markdown",
   "metadata": {},
   "source": [
    "Lets check final list of attributes and their coefficient values"
   ]
  },
  {
   "cell_type": "code",
   "execution_count": 4428,
   "metadata": {},
   "outputs": [
    {
     "data": {
      "text/plain": [
       "[('MSSubClass_2-STORY PUD - 1946 & NEWER', -0.195),\n",
       " ('Neighborhood_IDOTRR', -0.191),\n",
       " ('Neighborhood_MeadowV', -0.155),\n",
       " ('Neighborhood_OldTown', -0.14),\n",
       " ('Neighborhood_Edwards', -0.128),\n",
       " ('Neighborhood_Sawyer', -0.098),\n",
       " ('MSSubClass_PUD - MULTILEVEL - INCL SPLIT LEV/FOYER', -0.096),\n",
       " ('Neighborhood_NWAmes', -0.083),\n",
       " ('MSSubClass_1-STORY PUD (Planned Unit Development) - 1946 & NEWER', -0.078),\n",
       " ('Neighborhood_Gilbert', -0.072),\n",
       " ('Neighborhood_Mitchel', -0.072),\n",
       " ('Neighborhood_BrDale', -0.071),\n",
       " ('Neighborhood_NAmes', -0.068),\n",
       " ('YearBuilt_Age', -0.064),\n",
       " ('MSSubClass_1-STORY 1945 & OLDER', -0.064),\n",
       " ('Neighborhood_SawyerW', -0.063),\n",
       " ('Neighborhood_BrkSide', -0.061),\n",
       " ('Neighborhood_Blmngtn', -0.049),\n",
       " ('Neighborhood_CollgCr', -0.049),\n",
       " ('MSSubClass_2-STORY 1946 & NEWER', -0.041),\n",
       " ('Neighborhood_SWISU', -0.04),\n",
       " ('YearRemodAdd_Age', -0.027),\n",
       " ('GarageType_CarPort', -0.027),\n",
       " ('Foundation_BrkTil', -0.024),\n",
       " ('GarageType_BuiltIn', -0.024),\n",
       " ('GarageType_Basment', -0.02),\n",
       " ('BsmtFinSF1', 0.0),\n",
       " ('MSZoning_MSZoning_Oth', -0.0),\n",
       " ('Neighborhood_NPkVill', -0.0),\n",
       " ('Neighborhood_Timber', -0.0),\n",
       " ('RoofStyle_Mansard', 0.0),\n",
       " ('BsmtFinType1_LwQ', 0.0),\n",
       " ('GarageType_2Types', -0.0),\n",
       " ('BsmtFinSF2', 0.007),\n",
       " ('BsmtUnfSF', 0.009),\n",
       " ('BsmtFinType1_Rec', 0.017),\n",
       " ('BsmtQual', 0.027),\n",
       " ('BsmtFullBath', 0.028),\n",
       " ('GarageFinish_RFn', 0.029),\n",
       " ('Fireplaces', 0.034),\n",
       " ('Neighborhood_StoneBr', 0.034),\n",
       " ('BsmtFinType1_BLQ', 0.04),\n",
       " ('BsmtFinType1_ALQ', 0.041),\n",
       " ('GarageFinish_Fin', 0.045),\n",
       " ('OverallCond', 0.048),\n",
       " ('BsmtFinType1_GLQ', 0.049),\n",
       " ('GarageCars', 0.051),\n",
       " ('Neighborhood_NridgHt', 0.066),\n",
       " ('OverallQual', 0.092),\n",
       " ('GrLivArea', 0.128),\n",
       " ('constant', 12.066)]"
      ]
     },
     "execution_count": 4428,
     "metadata": {},
     "output_type": "execute_result"
    }
   ],
   "source": [
    "# lasso model parameters\n",
    "import operator \n",
    "model_parameters = list(lasso.coef_)\n",
    "model_parameters.insert(0, lasso.intercept_)\n",
    "model_parameters = [round(x, 3) for x in model_parameters]\n",
    "cols = X_train.columns\n",
    "cols = cols.insert(0, \"constant\")\n",
    "zipped=list(zip(cols, model_parameters))\n",
    "\n",
    "res = sorted(zipped, key = operator.itemgetter(1))\n",
    "res"
   ]
  },
  {
   "cell_type": "markdown",
   "metadata": {},
   "source": [
    "#### Top #10 Cofficients for Lasso -\n",
    "\n",
    "MSSubClass_2-STORYPUD-1946&NEWER\n",
    "\n",
    "Neighborhood_IDOTRR\n",
    "\n",
    "Neighborhood_MeadowV\n",
    "\n",
    "Neighborhood_OldTown\n",
    "\n",
    "Neighborhood_Edwards\n",
    "\n",
    "BsmtFinType1_GLQ\n",
    "\n",
    "GarageCars\n",
    "\n",
    "Neighborhood_NridgHt\n",
    "\n",
    "OverallQual\n",
    "\n",
    "GrLivArea"
   ]
  },
  {
   "cell_type": "markdown",
   "metadata": {},
   "source": [
    "R2 Scores for alpha .0005"
   ]
  },
  {
   "cell_type": "code",
   "execution_count": 4429,
   "metadata": {},
   "outputs": [
    {
     "name": "stdout",
     "output_type": "stream",
     "text": [
      "R2 Score Train :  0.8852918998693525\n",
      "R2 Score Test  :  0.8812639108447513\n",
      "MAE Train      : 0.09214053760118783\n",
      "MAE Test       : 0.09790708656683443\n"
     ]
    }
   ],
   "source": [
    "# lasso regression\n",
    "lm = Lasso(alpha=.0005)\n",
    "lm.fit(X_train, y_train)\n",
    "\n",
    "# predict\n",
    "y_train_pred = lm.predict(X_train)\n",
    "print('R2 Score Train : ', metrics.r2_score(y_true=y_train, y_pred=y_train_pred))\n",
    "y_test_pred = lm.predict(X_test)\n",
    "print('R2 Score Test  : ',metrics.r2_score(y_true=y_test, y_pred=y_test_pred))\n",
    "\n",
    "print('MAE Train      :', mean_absolute_error(y_train, y_train_pred))\n",
    "print('MAE Test       :', mean_absolute_error(y_test, y_test_pred))"
   ]
  },
  {
   "cell_type": "markdown",
   "metadata": {},
   "source": [
    "Error Terms - y_train - y_train_pred looks normally distributed"
   ]
  },
  {
   "cell_type": "code",
   "execution_count": 4430,
   "metadata": {},
   "outputs": [
    {
     "data": {
      "text/plain": [
       "Text(0.5, 0, 'Errors')"
      ]
     },
     "execution_count": 4430,
     "metadata": {},
     "output_type": "execute_result"
    },
    {
     "data": {
      "image/png": "[encoded data removed]",
      "text/plain": [
       "<Figure size 432x288 with 1 Axes>"
      ]
     },
     "metadata": {
      "needs_background": "light"
     },
     "output_type": "display_data"
    }
   ],
   "source": [
    "# Plot the histogram of the error terms\n",
    "fig = plt.figure()\n",
    "sns.distplot((y_train - y_train_pred), bins = 20)\n",
    "fig.suptitle('Error Terms', fontsize = 20)                  # Plot heading \n",
    "plt.xlabel('Errors', fontsize = 18)                         # X-label"
   ]
  },
  {
   "cell_type": "markdown",
   "metadata": {},
   "source": [
    "Error Terms - y_test - y_test_pred looks normally distributed"
   ]
  },
  {
   "cell_type": "code",
   "execution_count": 4431,
   "metadata": {},
   "outputs": [
    {
     "data": {
      "text/plain": [
       "Text(0.5, 0, 'Errors')"
      ]
     },
     "execution_count": 4431,
     "metadata": {},
     "output_type": "execute_result"
    },
    {
     "data": {
      "image/png": "[encoded data removed]",
      "text/plain": [
       "<Figure size 432x288 with 1 Axes>"
      ]
     },
     "metadata": {
      "needs_background": "light"
     },
     "output_type": "display_data"
    }
   ],
   "source": [
    "# Plot the histogram of the error terms\n",
    "fig = plt.figure()\n",
    "sns.distplot((y_test - y_test_pred), bins = 20)\n",
    "fig.suptitle('Error Terms', fontsize = 20)                  # Plot heading \n",
    "plt.xlabel('Errors', fontsize = 18)                         # X-label"
   ]
  },
  {
   "cell_type": "markdown",
   "metadata": {},
   "source": [
    "y_train_pred vs y_train - can see Linear relationship"
   ]
  },
  {
   "cell_type": "code",
   "execution_count": 4432,
   "metadata": {},
   "outputs": [
    {
     "data": {
      "text/plain": [
       "Text(0, 0.5, 'y_train_pred')"
      ]
     },
     "execution_count": 4432,
     "metadata": {},
     "output_type": "execute_result"
    },
    {
     "data": {
      "image/png": "[encoded data removed]",
      "text/plain": [
       "<Figure size 432x288 with 1 Axes>"
      ]
     },
     "metadata": {
      "needs_background": "light"
     },
     "output_type": "display_data"
    }
   ],
   "source": [
    "# Plotting y_test and y_pred to understand the spread.\n",
    "fig = plt.figure()\n",
    "plt.scatter(y_train,y_train_pred)\n",
    "fig.suptitle('y_train_pred vs y_train', fontsize=20)              # Plot heading \n",
    "plt.xlabel('y_train', fontsize=18)                          # X-label\n",
    "plt.ylabel('y_train_pred', fontsize=16)                          # Y-label"
   ]
  },
  {
   "cell_type": "markdown",
   "metadata": {},
   "source": [
    "y_test_pred vs y_test - can see Linear relationship"
   ]
  },
  {
   "cell_type": "code",
   "execution_count": 4433,
   "metadata": {},
   "outputs": [
    {
     "data": {
      "text/plain": [
       "Text(0, 0.5, 'y_test')"
      ]
     },
     "execution_count": 4433,
     "metadata": {},
     "output_type": "execute_result"
    },
    {
     "data": {
      "image/png": "[encoded data removed]",
      "text/plain": [
       "<Figure size 432x288 with 1 Axes>"
      ]
     },
     "metadata": {
      "needs_background": "light"
     },
     "output_type": "display_data"
    }
   ],
   "source": [
    "# Plotting y_test and y_pred to understand the spread.\n",
    "fig = plt.figure()\n",
    "plt.scatter(y_test,y_test_pred)\n",
    "fig.suptitle('y_test_pred vs y_test', fontsize=20)              # Plot heading \n",
    "plt.xlabel('y_test_pred', fontsize=18)                          # X-label\n",
    "plt.ylabel('y_test', fontsize=16)                          # Y-label"
   ]
  },
  {
   "cell_type": "markdown",
   "metadata": {},
   "source": [
    "# Conclusion"
   ]
  },
  {
   "attachments": {},
   "cell_type": "markdown",
   "metadata": {},
   "source": [
    "From the above Model building approach we can see that -\n",
    "\n",
    "From the below table we see that for both Ridge and Lasso we got almost same results but having slight higher in Lasso.\n",
    "The better model would be Lasso as its taking only 43 attributes to explain y and giving higher R2 score, lower MAE. Hence Feature elimination hold the key here.\n",
    "\n",
    "Even though R2 is little lower, Lasso would be better as its making a less complex model by reducing number of attributes. We can further fine-tune it and reduce the number of coefficients to 0 for even more attributes with trade-off between R2 Score and No. of attributes.\n",
    "\n",
    "Lasso Regression - Final stats\n",
    "\n",
    "Alpha\t0.0005\n",
    "\n",
    "R2 Score Train\t0.8852919\n",
    "\n",
    "R2 Score Test\t0.881263911\n",
    "\n",
    "MAE Train\t0.092140538\n",
    "\n",
    "MAE Test\t0.097907087\n",
    "\n",
    "Number Of Coefficients\t43\n",
    "\n",
    "#### Top #10 Contributors -\n",
    "\n",
    "MSSubClass_2-STORYPUD-1946&NEWER\n",
    "Neighborhood_IDOTRR\n",
    "Neighborhood_MeadowV\n",
    "Neighborhood_OldTown\n",
    "Neighborhood_Edwards\n",
    "BsmtFinType1_GLQ\n",
    "GarageCars\n",
    "Neighborhood_NridgHt\n",
    "OverallQual\n",
    "GrLivArea\n",
    "\n",
    "Here the prediction can be done as -\n",
    "\n",
    "#### If Neighbourhood is among IDOTRR, MeadowV , OldTown and Edwards , prices will be lower. However for NridgHt, price would be on higher end.\n",
    "\n",
    "#### For 2-STORY 1946 & NEWER dwelling prices will be lower\n",
    "\n",
    "#### If Rating of basement finished area is good then prices would be higher.\n",
    "\n",
    "#### Size of garage in car capacity contributing in high rise of prise as well.\n",
    "\n",
    "#### Rates the overall material and finish of the house (OverallQual) is important feature to make price higher.\n",
    "\n",
    "#### Above grade (ground) living area square feet (GrLivArea) is most important feature for high price.\n",
    "\n",
    "#### Equation\n",
    "\n",
    "y= (-0.195)*MSSubClass_2-STORYPUD-1946&NEWER  +\n",
    "   (-0.191)*Neighborhood_IDOTRR   +\n",
    "   (-0.155)*Neighborhood_MeadowV  +\n",
    "   (-0.14)*Neighborhood_OldTown   +\n",
    "   (-0.128)*Neighborhood_Edwards  +\n",
    "   (0.049)* BsmtFinType1_GLQ      +\n",
    "   (0.051)*GarageCars             +\n",
    "   (0.066)* Neighborhood_NridgHt  +\n",
    "   (0.092)*OverallQual            +\n",
    "   (0.128)*GrLivArea              + \n",
    "   Other attributes               +\n",
    "   12.066\n",
    "\n"
   ]
  },
  {
   "cell_type": "markdown",
   "metadata": {},
   "source": [
    "### Just for Model Building. Explanation given in Subjectve submission"
   ]
  },
  {
   "cell_type": "markdown",
   "metadata": {},
   "source": [
    "### Question 3\n",
    "\n",
    "\n",
    "After building the model, you realised that the five most important predictor variables in the lasso model are not available in the incoming data. You will now have to create another model excluding the five most important predictor variables. Which are the five most important predictor variables now?"
   ]
  },
  {
   "cell_type": "code",
   "execution_count": 4434,
   "metadata": {},
   "outputs": [],
   "source": [
    "X_train.drop(['GrLivArea','Neighborhood_OldTown','Neighborhood_MeadowV','Neighborhood_IDOTRR','MSSubClass_2-STORY PUD - 1946 & NEWER'], axis=1, inplace=True)"
   ]
  },
  {
   "cell_type": "code",
   "execution_count": 4435,
   "metadata": {},
   "outputs": [],
   "source": [
    "X_test.drop(['GrLivArea','Neighborhood_OldTown','Neighborhood_MeadowV','Neighborhood_IDOTRR','MSSubClass_2-STORY PUD - 1946 & NEWER'], axis=1, inplace=True)"
   ]
  },
  {
   "cell_type": "code",
   "execution_count": 4436,
   "metadata": {},
   "outputs": [
    {
     "name": "stdout",
     "output_type": "stream",
     "text": [
      "Fitting 5 folds for each of 27 candidates, totalling 135 fits\n"
     ]
    },
    {
     "name": "stderr",
     "output_type": "stream",
     "text": [
      "[Parallel(n_jobs=1)]: Using backend SequentialBackend with 1 concurrent workers.\n",
      "[Parallel(n_jobs=1)]: Done 135 out of 135 | elapsed:    0.4s finished\n"
     ]
    },
    {
     "data": {
      "text/plain": [
       "GridSearchCV(cv=KFold(n_splits=5, random_state=4, shuffle=True),\n",
       "             error_score='raise-deprecating',\n",
       "             estimator=Lasso(alpha=1.0, copy_X=True, fit_intercept=True,\n",
       "                             max_iter=1000, normalize=False, positive=False,\n",
       "                             precompute=False, random_state=None,\n",
       "                             selection='cyclic', tol=0.0001, warm_start=False),\n",
       "             iid='warn', n_jobs=None,\n",
       "             param_grid={'alpha': [1e-05, 0.0001, 0.001, 0.01, 0.05, 0.1, 0.2,\n",
       "                                   0.3, 0.4, 0.5, 0.6, 0.7, 0.8, 0.9, 1.0, 2.0,\n",
       "                                   3.0, 4.0, 5.0, 6.0, 7.0, 8.0, 9.0, 10.0, 20,\n",
       "                                   50, 100]},\n",
       "             pre_dispatch='2*n_jobs', refit=True, return_train_score=True,\n",
       "             scoring='neg_mean_absolute_error', verbose=1)"
      ]
     },
     "execution_count": 4436,
     "metadata": {},
     "output_type": "execute_result"
    }
   ],
   "source": [
    "lasso = Lasso()\n",
    "\n",
    "# cross validation\n",
    "model_cv = GridSearchCV(estimator = lasso, \n",
    "                        param_grid = params, \n",
    "                        scoring= 'neg_mean_absolute_error', \n",
    "                        cv = folds, \n",
    "                        return_train_score=True,\n",
    "                        verbose = 1)            \n",
    "\n",
    "model_cv.fit(X_train, y_train) "
   ]
  },
  {
   "cell_type": "code",
   "execution_count": 4437,
   "metadata": {
    "scrolled": true
   },
   "outputs": [
    {
     "data": {
      "text/html": [
       "<div>\n",
       "<style scoped>\n",
       "    .dataframe tbody tr th:only-of-type {\n",
       "        vertical-align: middle;\n",
       "    }\n",
       "\n",
       "    .dataframe tbody tr th {\n",
       "        vertical-align: top;\n",
       "    }\n",
       "\n",
       "    .dataframe thead th {\n",
       "        text-align: right;\n",
       "    }\n",
       "</style>\n",
       "<table border=\"1\" class=\"dataframe\">\n",
       "  <thead>\n",
       "    <tr style=\"text-align: right;\">\n",
       "      <th></th>\n",
       "      <th>mean_fit_time</th>\n",
       "      <th>std_fit_time</th>\n",
       "      <th>mean_score_time</th>\n",
       "      <th>std_score_time</th>\n",
       "      <th>param_alpha</th>\n",
       "      <th>params</th>\n",
       "      <th>split0_test_score</th>\n",
       "      <th>split1_test_score</th>\n",
       "      <th>split2_test_score</th>\n",
       "      <th>split3_test_score</th>\n",
       "      <th>split4_test_score</th>\n",
       "      <th>mean_test_score</th>\n",
       "      <th>std_test_score</th>\n",
       "      <th>rank_test_score</th>\n",
       "      <th>split0_train_score</th>\n",
       "      <th>split1_train_score</th>\n",
       "      <th>split2_train_score</th>\n",
       "      <th>split3_train_score</th>\n",
       "      <th>split4_train_score</th>\n",
       "      <th>mean_train_score</th>\n",
       "      <th>std_train_score</th>\n",
       "    </tr>\n",
       "  </thead>\n",
       "  <tbody>\n",
       "    <tr>\n",
       "      <td>0</td>\n",
       "      <td>0.003233</td>\n",
       "      <td>0.000797</td>\n",
       "      <td>0.001295</td>\n",
       "      <td>0.000525</td>\n",
       "      <td>1e-05</td>\n",
       "      <td>{'alpha': 1e-05}</td>\n",
       "      <td>-0.117385</td>\n",
       "      <td>-0.116567</td>\n",
       "      <td>-0.107882</td>\n",
       "      <td>-0.112292</td>\n",
       "      <td>-0.121834</td>\n",
       "      <td>-0.115194</td>\n",
       "      <td>0.004745</td>\n",
       "      <td>2</td>\n",
       "      <td>-0.110630</td>\n",
       "      <td>-0.107510</td>\n",
       "      <td>-0.111166</td>\n",
       "      <td>-0.103689</td>\n",
       "      <td>-0.106482</td>\n",
       "      <td>-0.107896</td>\n",
       "      <td>0.002757</td>\n",
       "    </tr>\n",
       "    <tr>\n",
       "      <td>1</td>\n",
       "      <td>0.003734</td>\n",
       "      <td>0.003128</td>\n",
       "      <td>0.000194</td>\n",
       "      <td>0.000387</td>\n",
       "      <td>0.0001</td>\n",
       "      <td>{'alpha': 0.0001}</td>\n",
       "      <td>-0.116546</td>\n",
       "      <td>-0.116238</td>\n",
       "      <td>-0.107755</td>\n",
       "      <td>-0.112128</td>\n",
       "      <td>-0.122223</td>\n",
       "      <td>-0.114980</td>\n",
       "      <td>0.004832</td>\n",
       "      <td>1</td>\n",
       "      <td>-0.110541</td>\n",
       "      <td>-0.107473</td>\n",
       "      <td>-0.110962</td>\n",
       "      <td>-0.103762</td>\n",
       "      <td>-0.106615</td>\n",
       "      <td>-0.107871</td>\n",
       "      <td>0.002657</td>\n",
       "    </tr>\n",
       "    <tr>\n",
       "      <td>2</td>\n",
       "      <td>0.002922</td>\n",
       "      <td>0.003287</td>\n",
       "      <td>0.000199</td>\n",
       "      <td>0.000399</td>\n",
       "      <td>0.001</td>\n",
       "      <td>{'alpha': 0.001}</td>\n",
       "      <td>-0.115982</td>\n",
       "      <td>-0.119230</td>\n",
       "      <td>-0.110512</td>\n",
       "      <td>-0.114354</td>\n",
       "      <td>-0.128219</td>\n",
       "      <td>-0.117658</td>\n",
       "      <td>0.005977</td>\n",
       "      <td>3</td>\n",
       "      <td>-0.114875</td>\n",
       "      <td>-0.111766</td>\n",
       "      <td>-0.114548</td>\n",
       "      <td>-0.109016</td>\n",
       "      <td>-0.111826</td>\n",
       "      <td>-0.112406</td>\n",
       "      <td>0.002141</td>\n",
       "    </tr>\n",
       "    <tr>\n",
       "      <td>3</td>\n",
       "      <td>0.000000</td>\n",
       "      <td>0.000000</td>\n",
       "      <td>0.001608</td>\n",
       "      <td>0.003217</td>\n",
       "      <td>0.01</td>\n",
       "      <td>{'alpha': 0.01}</td>\n",
       "      <td>-0.128613</td>\n",
       "      <td>-0.134822</td>\n",
       "      <td>-0.121372</td>\n",
       "      <td>-0.122173</td>\n",
       "      <td>-0.148407</td>\n",
       "      <td>-0.131075</td>\n",
       "      <td>0.009934</td>\n",
       "      <td>4</td>\n",
       "      <td>-0.131452</td>\n",
       "      <td>-0.127898</td>\n",
       "      <td>-0.131399</td>\n",
       "      <td>-0.122618</td>\n",
       "      <td>-0.127561</td>\n",
       "      <td>-0.128186</td>\n",
       "      <td>0.003239</td>\n",
       "    </tr>\n",
       "    <tr>\n",
       "      <td>4</td>\n",
       "      <td>0.000399</td>\n",
       "      <td>0.000489</td>\n",
       "      <td>0.000000</td>\n",
       "      <td>0.000000</td>\n",
       "      <td>0.05</td>\n",
       "      <td>{'alpha': 0.05}</td>\n",
       "      <td>-0.149550</td>\n",
       "      <td>-0.151938</td>\n",
       "      <td>-0.140432</td>\n",
       "      <td>-0.135209</td>\n",
       "      <td>-0.172952</td>\n",
       "      <td>-0.150016</td>\n",
       "      <td>0.012963</td>\n",
       "      <td>5</td>\n",
       "      <td>-0.149708</td>\n",
       "      <td>-0.147346</td>\n",
       "      <td>-0.150769</td>\n",
       "      <td>-0.145946</td>\n",
       "      <td>-0.146050</td>\n",
       "      <td>-0.147964</td>\n",
       "      <td>0.001951</td>\n",
       "    </tr>\n",
       "  </tbody>\n",
       "</table>\n",
       "</div>"
      ],
      "text/plain": [
       "   mean_fit_time  std_fit_time  mean_score_time  std_score_time param_alpha  \\\n",
       "0       0.003233      0.000797         0.001295        0.000525       1e-05   \n",
       "1       0.003734      0.003128         0.000194        0.000387      0.0001   \n",
       "2       0.002922      0.003287         0.000199        0.000399       0.001   \n",
       "3       0.000000      0.000000         0.001608        0.003217        0.01   \n",
       "4       0.000399      0.000489         0.000000        0.000000        0.05   \n",
       "\n",
       "              params  split0_test_score  split1_test_score  split2_test_score  \\\n",
       "0   {'alpha': 1e-05}          -0.117385          -0.116567          -0.107882   \n",
       "1  {'alpha': 0.0001}          -0.116546          -0.116238          -0.107755   \n",
       "2   {'alpha': 0.001}          -0.115982          -0.119230          -0.110512   \n",
       "3    {'alpha': 0.01}          -0.128613          -0.134822          -0.121372   \n",
       "4    {'alpha': 0.05}          -0.149550          -0.151938          -0.140432   \n",
       "\n",
       "   split3_test_score  split4_test_score  mean_test_score  std_test_score  \\\n",
       "0          -0.112292          -0.121834        -0.115194        0.004745   \n",
       "1          -0.112128          -0.122223        -0.114980        0.004832   \n",
       "2          -0.114354          -0.128219        -0.117658        0.005977   \n",
       "3          -0.122173          -0.148407        -0.131075        0.009934   \n",
       "4          -0.135209          -0.172952        -0.150016        0.012963   \n",
       "\n",
       "   rank_test_score  split0_train_score  split1_train_score  \\\n",
       "0                2           -0.110630           -0.107510   \n",
       "1                1           -0.110541           -0.107473   \n",
       "2                3           -0.114875           -0.111766   \n",
       "3                4           -0.131452           -0.127898   \n",
       "4                5           -0.149708           -0.147346   \n",
       "\n",
       "   split2_train_score  split3_train_score  split4_train_score  \\\n",
       "0           -0.111166           -0.103689           -0.106482   \n",
       "1           -0.110962           -0.103762           -0.106615   \n",
       "2           -0.114548           -0.109016           -0.111826   \n",
       "3           -0.131399           -0.122618           -0.127561   \n",
       "4           -0.150769           -0.145946           -0.146050   \n",
       "\n",
       "   mean_train_score  std_train_score  \n",
       "0         -0.107896         0.002757  \n",
       "1         -0.107871         0.002657  \n",
       "2         -0.112406         0.002141  \n",
       "3         -0.128186         0.003239  \n",
       "4         -0.147964         0.001951  "
      ]
     },
     "execution_count": 4437,
     "metadata": {},
     "output_type": "execute_result"
    }
   ],
   "source": [
    "cv_results = pd.DataFrame(model_cv.cv_results_)\n",
    "cv_results.head()"
   ]
  },
  {
   "cell_type": "code",
   "execution_count": 4438,
   "metadata": {},
   "outputs": [
    {
     "data": {
      "image/png": "[encoded data removed]",
      "text/plain": [
       "<Figure size 432x288 with 1 Axes>"
      ]
     },
     "metadata": {
      "needs_background": "light"
     },
     "output_type": "display_data"
    }
   ],
   "source": [
    "# plotting mean test and train scoes with alpha \n",
    "cv_results['param_alpha'] = cv_results['param_alpha'].astype('float32')\n",
    "\n",
    "# plotting\n",
    "plt.plot(cv_results['param_alpha'], cv_results['mean_train_score'])\n",
    "plt.plot(cv_results['param_alpha'], cv_results['mean_test_score'])\n",
    "plt.xlabel('alpha')\n",
    "plt.xscale('log')\n",
    "plt.ylabel('Negative Mean Absolute Error')\n",
    "\n",
    "plt.title(\"Negative Mean Absolute Error and alpha\")\n",
    "plt.legend(['train score', 'test score'], loc='upper right')\n",
    "plt.show()"
   ]
  },
  {
   "cell_type": "code",
   "execution_count": 4439,
   "metadata": {},
   "outputs": [
    {
     "data": {
      "text/plain": [
       "Lasso(alpha=0.0005, copy_X=True, fit_intercept=True, max_iter=1000,\n",
       "      normalize=False, positive=False, precompute=False, random_state=None,\n",
       "      selection='cyclic', tol=0.0001, warm_start=False)"
      ]
     },
     "execution_count": 4439,
     "metadata": {},
     "output_type": "execute_result"
    }
   ],
   "source": [
    "alpha =.0005\n",
    "\n",
    "lasso = Lasso(alpha=alpha)\n",
    "        \n",
    "lasso.fit(X_train, y_train) "
   ]
  },
  {
   "cell_type": "code",
   "execution_count": 4440,
   "metadata": {
    "scrolled": true
   },
   "outputs": [
    {
     "data": {
      "text/plain": [
       "array([ 1.34596798e-01,  3.77998165e-02, -1.86662051e-04,  7.07215793e-02,\n",
       "        2.98383301e-02,  7.63695510e-02,  2.37359705e-02,  5.39023038e-02,\n",
       "        6.83384308e-02, -2.46773965e-02, -3.95991849e-02, -1.98405220e-01,\n",
       "       -8.26807286e-02,  1.13348160e-01, -1.58724363e-01, -1.58837039e-02,\n",
       "       -5.51146735e-02, -1.76381782e-01, -0.00000000e+00, -3.47913013e-02,\n",
       "       -4.50139006e-02, -7.35642930e-02, -2.88279923e-02, -3.96540129e-02,\n",
       "       -4.42639496e-02, -4.82328425e-02,  3.82655827e-02,  8.07908936e-02,\n",
       "       -4.32513746e-02, -1.69238336e-02,  1.53820774e-02, -0.00000000e+00,\n",
       "        3.55840163e-02, -2.99221759e-02,  3.42544338e-02,  3.60096150e-02,\n",
       "        5.24345570e-02,  1.77279509e-02,  3.10944801e-02, -0.00000000e+00,\n",
       "       -0.00000000e+00,  3.22845400e-02, -3.09089147e-02,  6.08251726e-02,\n",
       "        3.16548035e-02])"
      ]
     },
     "execution_count": 4440,
     "metadata": {},
     "output_type": "execute_result"
    }
   ],
   "source": [
    "lasso.coef_"
   ]
  },
  {
   "cell_type": "code",
   "execution_count": 4441,
   "metadata": {},
   "outputs": [
    {
     "data": {
      "image/png": "[encoded data removed]",
      "text/plain": [
       "<Figure size 432x288 with 1 Axes>"
      ]
     },
     "metadata": {
      "needs_background": "light"
     },
     "output_type": "display_data"
    }
   ],
   "source": [
    "plt.plot(lasso.coef_)\n",
    "plt.grid(b=True, which='major', color='#666666', linestyle='-')"
   ]
  },
  {
   "cell_type": "code",
   "execution_count": 4442,
   "metadata": {},
   "outputs": [
    {
     "data": {
      "text/plain": [
       "[('MSSubClass_1-STORY 1945 & OLDER', -0.198),\n",
       " ('Neighborhood_BrDale', -0.176),\n",
       " ('MSSubClass_PUD - MULTILEVEL - INCL SPLIT LEV/FOYER', -0.159),\n",
       " ('MSSubClass_1-STORY PUD (Planned Unit Development) - 1946 & NEWER', -0.083),\n",
       " ('Neighborhood_Gilbert', -0.074),\n",
       " ('Neighborhood_Blmngtn', -0.055),\n",
       " ('Neighborhood_NWAmes', -0.048),\n",
       " ('Neighborhood_Edwards', -0.045),\n",
       " ('Neighborhood_NPkVill', -0.044),\n",
       " ('Neighborhood_Sawyer', -0.043),\n",
       " ('YearRemodAdd_Age', -0.04),\n",
       " ('Neighborhood_NAmes', -0.04),\n",
       " ('Neighborhood_CollgCr', -0.035),\n",
       " ('GarageType_CarPort', -0.031),\n",
       " ('Foundation_BrkTil', -0.03),\n",
       " ('Neighborhood_Mitchel', -0.029),\n",
       " ('YearBuilt_Age', -0.025),\n",
       " ('Neighborhood_SawyerW', -0.017),\n",
       " ('MSZoning_MSZoning_Oth', -0.016),\n",
       " ('BsmtQual', -0.0),\n",
       " ('Neighborhood_BrkSide', -0.0),\n",
       " ('Neighborhood_Timber', -0.0),\n",
       " ('GarageType_2Types', -0.0),\n",
       " ('GarageType_Basment', -0.0),\n",
       " ('Neighborhood_StoneBr', 0.015),\n",
       " ('BsmtFinType1_LwQ', 0.018),\n",
       " ('BsmtFullBath', 0.024),\n",
       " ('BsmtFinSF2', 0.03),\n",
       " ('BsmtFinType1_Rec', 0.031),\n",
       " ('GarageType_BuiltIn', 0.032),\n",
       " ('GarageFinish_RFn', 0.032),\n",
       " ('BsmtFinType1_ALQ', 0.034),\n",
       " ('RoofStyle_Mansard', 0.036),\n",
       " ('BsmtFinType1_BLQ', 0.036),\n",
       " ('OverallCond', 0.038),\n",
       " ('Neighborhood_NridgHt', 0.038),\n",
       " ('BsmtFinType1_GLQ', 0.052),\n",
       " ('Fireplaces', 0.054),\n",
       " ('GarageFinish_Fin', 0.061),\n",
       " ('GarageCars', 0.068),\n",
       " ('BsmtFinSF1', 0.071),\n",
       " ('BsmtUnfSF', 0.076),\n",
       " ('Neighborhood_SWISU', 0.081),\n",
       " ('MSSubClass_2-STORY 1946 & NEWER', 0.113),\n",
       " ('OverallQual', 0.135),\n",
       " ('constant', 11.986)]"
      ]
     },
     "execution_count": 4442,
     "metadata": {},
     "output_type": "execute_result"
    }
   ],
   "source": [
    "# lasso model parameters\n",
    "import operator \n",
    "model_parameters = list(lasso.coef_)\n",
    "model_parameters.insert(0, lasso.intercept_)\n",
    "model_parameters = [round(x, 3) for x in model_parameters]\n",
    "cols = X_train.columns\n",
    "cols = cols.insert(0, \"constant\")\n",
    "zipped=list(zip(cols, model_parameters))\n",
    "\n",
    "res = sorted(zipped, key = operator.itemgetter(1))\n",
    "res"
   ]
  },
  {
   "cell_type": "code",
   "execution_count": 4443,
   "metadata": {},
   "outputs": [
    {
     "name": "stdout",
     "output_type": "stream",
     "text": [
      "R2 Score Train :  0.8420098805995357\n",
      "R2 Score Test  :  0.8363117318138032\n",
      "MAE Train      : 0.1100020587693753\n",
      "MAE Test       : 0.11622703858143549\n"
     ]
    }
   ],
   "source": [
    "# lasso regression\n",
    "lm = Lasso(alpha=.0005)\n",
    "lm.fit(X_train, y_train)\n",
    "\n",
    "# predict\n",
    "y_train_pred = lm.predict(X_train)\n",
    "print('R2 Score Train : ', metrics.r2_score(y_true=y_train, y_pred=y_train_pred))\n",
    "y_test_pred = lm.predict(X_test)\n",
    "print('R2 Score Test  : ',metrics.r2_score(y_true=y_test, y_pred=y_test_pred))\n",
    "\n",
    "print('MAE Train      :', mean_absolute_error(y_train, y_train_pred))\n",
    "print('MAE Test       :', mean_absolute_error(y_test, y_test_pred))\n"
   ]
  },
  {
   "cell_type": "code",
   "execution_count": 4444,
   "metadata": {},
   "outputs": [
    {
     "data": {
      "text/plain": [
       "Text(0.5, 0, 'Errors')"
      ]
     },
     "execution_count": 4444,
     "metadata": {},
     "output_type": "execute_result"
    },
    {
     "data": {
      "image/png": "[encoded data removed]",
      "text/plain": [
       "<Figure size 432x288 with 1 Axes>"
      ]
     },
     "metadata": {
      "needs_background": "light"
     },
     "output_type": "display_data"
    }
   ],
   "source": [
    "# Plot the histogram of the error terms\n",
    "\n",
    "fig = plt.figure()\n",
    "sns.distplot((y_train - y_train_pred), bins = 20)\n",
    "fig.suptitle('Error Terms - y_train - y_train_pred', fontsize = 20)                  # Plot heading \n",
    "plt.xlabel('Errors', fontsize = 18)                         # X-label"
   ]
  },
  {
   "cell_type": "code",
   "execution_count": 4445,
   "metadata": {},
   "outputs": [
    {
     "data": {
      "text/plain": [
       "Text(0.5, 0, 'Errors')"
      ]
     },
     "execution_count": 4445,
     "metadata": {},
     "output_type": "execute_result"
    },
    {
     "data": {
      "image/png": "[encoded data removed]",
      "text/plain": [
       "<Figure size 432x288 with 1 Axes>"
      ]
     },
     "metadata": {
      "needs_background": "light"
     },
     "output_type": "display_data"
    }
   ],
   "source": [
    "# Plot the histogram of the error terms\n",
    "fig = plt.figure()\n",
    "sns.distplot((y_test - y_test_pred), bins = 20)\n",
    "fig.suptitle('Error Terms y_test - y_test_pred', fontsize = 20)                  # Plot heading \n",
    "plt.xlabel('Errors', fontsize = 18)                         # X-label"
   ]
  },
  {
   "cell_type": "code",
   "execution_count": 4446,
   "metadata": {},
   "outputs": [
    {
     "data": {
      "text/plain": [
       "Text(0, 0.5, 'y_test_pred')"
      ]
     },
     "execution_count": 4446,
     "metadata": {},
     "output_type": "execute_result"
    },
    {
     "data": {
      "image/png": "[encoded data removed]",
      "text/plain": [
       "<Figure size 432x288 with 1 Axes>"
      ]
     },
     "metadata": {
      "needs_background": "light"
     },
     "output_type": "display_data"
    }
   ],
   "source": [
    "# Plotting y_test and y_pred to understand the spread.\n",
    "fig = plt.figure()\n",
    "plt.scatter(y_test,y_test_pred)\n",
    "fig.suptitle('y_test_pred vs y_test', fontsize=20)              # Plot heading \n",
    "plt.xlabel('y_test', fontsize=18)                          # X-label\n",
    "plt.ylabel('y_test_pred', fontsize=16)                          # Y-label"
   ]
  },
  {
   "cell_type": "code",
   "execution_count": 4447,
   "metadata": {},
   "outputs": [
    {
     "data": {
      "text/plain": [
       "Text(0, 0.5, 'y_train')"
      ]
     },
     "execution_count": 4447,
     "metadata": {},
     "output_type": "execute_result"
    },
    {
     "data": {
      "image/png": "[encoded data removed]",
      "text/plain": [
       "<Figure size 432x288 with 1 Axes>"
      ]
     },
     "metadata": {
      "needs_background": "light"
     },
     "output_type": "display_data"
    }
   ],
   "source": [
    "# Plotting y_test and y_pred to understand the spread.\n",
    "fig = plt.figure()\n",
    "plt.scatter(y_train,y_train_pred)\n",
    "fig.suptitle('y_train_pred vs y_train', fontsize=20)              # Plot heading \n",
    "plt.xlabel('y_train_pred', fontsize=18)                          # X-label\n",
    "plt.ylabel('y_train', fontsize=16)                          # Y-label"
   ]
  },
  {
   "cell_type": "code",
   "execution_count": null,
   "metadata": {},
   "outputs": [],
   "source": []
  },
  {
   "cell_type": "code",
   "execution_count": null,
   "metadata": {},
   "outputs": [],
   "source": []
  }
 ],
 "metadata": {
  "kernelspec": {
   "display_name": "Python 3",
   "language": "python",
   "name": "python3"
  },
  "language_info": {
   "codemirror_mode": {
    "name": "ipython",
    "version": 3
   },
   "file_extension": ".py",
   "mimetype": "text/x-python",
   "name": "python",
   "nbconvert_exporter": "python",
   "pygments_lexer": "ipython3",
   "version": "3.7.4"
  }
 },
 "nbformat": 4,
 "nbformat_minor": 2
}
